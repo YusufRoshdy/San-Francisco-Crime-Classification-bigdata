{
 "cells": [
  {
   "cell_type": "code",
   "execution_count": 1,
   "metadata": {},
   "outputs": [],
   "source": [
    "import findspark\n",
    "findspark.init()"
   ]
  },
  {
   "cell_type": "code",
   "execution_count": 2,
   "metadata": {},
   "outputs": [
    {
     "name": "stderr",
     "output_type": "stream",
     "text": [
      "Setting default log level to \"WARN\".\n",
      "To adjust logging level use sc.setLogLevel(newLevel). For SparkR, use setLogLevel(newLevel).\n"
     ]
    },
    {
     "name": "stdout",
     "output_type": "stream",
     "text": [
      "23/05/13 22:16:53 WARN NativeCodeLoader: Unable to load native-hadoop library for your platform... using builtin-java classes where applicable\n"
     ]
    },
    {
     "data": {
      "text/html": [
       "\n",
       "            <div>\n",
       "                <p><b>SparkSession - in-memory</b></p>\n",
       "                \n",
       "        <div>\n",
       "            <p><b>SparkContext</b></p>\n",
       "\n",
       "            <p><a href=\"http://192.168.1.198:4050\">Spark UI</a></p>\n",
       "\n",
       "            <dl>\n",
       "              <dt>Version</dt>\n",
       "                <dd><code>v3.3.2</code></dd>\n",
       "              <dt>Master</dt>\n",
       "                <dd><code>local[*]</code></dd>\n",
       "              <dt>AppName</dt>\n",
       "                <dd><code>Colab</code></dd>\n",
       "            </dl>\n",
       "        </div>\n",
       "        \n",
       "            </div>\n",
       "        "
      ],
      "text/plain": [
       "<pyspark.sql.session.SparkSession at 0x109efedf0>"
      ]
     },
     "execution_count": 2,
     "metadata": {},
     "output_type": "execute_result"
    }
   ],
   "source": [
    "from pyspark.sql import SparkSession\n",
    "# suppress warnings\n",
    "import warnings\n",
    "warnings.filterwarnings('ignore')\n",
    "\n",
    "# We will use this port number for monitoring Spark Jobs\n",
    "port=4050\n",
    "\n",
    "spark = SparkSession.builder\\\n",
    "        .master(\"local[*]\")\\\n",
    "        .appName(\"Colab\")\\\n",
    "        .config('spark.ui.port', str(port))\\\n",
    "        .config(\"spark.driver.memory\", \"4g\")\\\n",
    "        .config(\"spark.executor.memory\", \"4g\")\\\n",
    "        .getOrCreate()\n",
    "\n",
    "spark.conf.set(\"spark.sql.repl.eagerEval.enabled\", True) # Property used to format output tables better\n",
    "\n",
    "spark"
   ]
  },
  {
   "cell_type": "code",
   "execution_count": 3,
   "metadata": {},
   "outputs": [
    {
     "name": "stdout",
     "output_type": "stream",
     "text": [
      "Driver Memory:  4g\n",
      "Executor Memory:  4g\n"
     ]
    }
   ],
   "source": [
    "from pyspark import SparkContext\n",
    "\n",
    "sc = SparkContext.getOrCreate()\n",
    "\n",
    "print(\"Driver Memory: \", sc._conf.get('spark.driver.memory'))\n",
    "print(\"Executor Memory: \", sc._conf.get('spark.executor.memory'))"
   ]
  },
  {
   "cell_type": "code",
   "execution_count": 4,
   "metadata": {},
   "outputs": [
    {
     "data": {
      "text/html": [
       "<div>\n",
       "<style scoped>\n",
       "    .dataframe tbody tr th:only-of-type {\n",
       "        vertical-align: middle;\n",
       "    }\n",
       "\n",
       "    .dataframe tbody tr th {\n",
       "        vertical-align: top;\n",
       "    }\n",
       "\n",
       "    .dataframe thead th {\n",
       "        text-align: right;\n",
       "    }\n",
       "</style>\n",
       "<table border=\"1\" class=\"dataframe\">\n",
       "  <thead>\n",
       "    <tr style=\"text-align: right;\">\n",
       "      <th></th>\n",
       "      <th>Dates</th>\n",
       "      <th>Category</th>\n",
       "      <th>Descript</th>\n",
       "      <th>DayOfWeek</th>\n",
       "      <th>PdDistrict</th>\n",
       "      <th>Resolution</th>\n",
       "      <th>Address</th>\n",
       "      <th>X</th>\n",
       "      <th>Y</th>\n",
       "    </tr>\n",
       "  </thead>\n",
       "  <tbody>\n",
       "    <tr>\n",
       "      <th>0</th>\n",
       "      <td>2015-05-13 23:53:00</td>\n",
       "      <td>WARRANTS</td>\n",
       "      <td>WARRANT ARREST</td>\n",
       "      <td>Wednesday</td>\n",
       "      <td>NORTHERN</td>\n",
       "      <td>ARREST, BOOKED</td>\n",
       "      <td>OAK ST / LAGUNA ST</td>\n",
       "      <td>-122.425892</td>\n",
       "      <td>37.774599</td>\n",
       "    </tr>\n",
       "    <tr>\n",
       "      <th>1</th>\n",
       "      <td>2015-05-13 23:53:00</td>\n",
       "      <td>OTHER OFFENSES</td>\n",
       "      <td>TRAFFIC VIOLATION ARREST</td>\n",
       "      <td>Wednesday</td>\n",
       "      <td>NORTHERN</td>\n",
       "      <td>ARREST, BOOKED</td>\n",
       "      <td>OAK ST / LAGUNA ST</td>\n",
       "      <td>-122.425892</td>\n",
       "      <td>37.774599</td>\n",
       "    </tr>\n",
       "    <tr>\n",
       "      <th>2</th>\n",
       "      <td>2015-05-13 23:33:00</td>\n",
       "      <td>OTHER OFFENSES</td>\n",
       "      <td>TRAFFIC VIOLATION ARREST</td>\n",
       "      <td>Wednesday</td>\n",
       "      <td>NORTHERN</td>\n",
       "      <td>ARREST, BOOKED</td>\n",
       "      <td>VANNESS AV / GREENWICH ST</td>\n",
       "      <td>-122.424363</td>\n",
       "      <td>37.800414</td>\n",
       "    </tr>\n",
       "    <tr>\n",
       "      <th>3</th>\n",
       "      <td>2015-05-13 23:30:00</td>\n",
       "      <td>LARCENY/THEFT</td>\n",
       "      <td>GRAND THEFT FROM LOCKED AUTO</td>\n",
       "      <td>Wednesday</td>\n",
       "      <td>NORTHERN</td>\n",
       "      <td>NONE</td>\n",
       "      <td>1500 Block of LOMBARD ST</td>\n",
       "      <td>-122.426995</td>\n",
       "      <td>37.800873</td>\n",
       "    </tr>\n",
       "    <tr>\n",
       "      <th>4</th>\n",
       "      <td>2015-05-13 23:30:00</td>\n",
       "      <td>LARCENY/THEFT</td>\n",
       "      <td>GRAND THEFT FROM LOCKED AUTO</td>\n",
       "      <td>Wednesday</td>\n",
       "      <td>PARK</td>\n",
       "      <td>NONE</td>\n",
       "      <td>100 Block of BRODERICK ST</td>\n",
       "      <td>-122.438738</td>\n",
       "      <td>37.771541</td>\n",
       "    </tr>\n",
       "  </tbody>\n",
       "</table>\n",
       "</div>"
      ],
      "text/plain": [
       "                 Dates        Category                      Descript  \\\n",
       "0  2015-05-13 23:53:00        WARRANTS                WARRANT ARREST   \n",
       "1  2015-05-13 23:53:00  OTHER OFFENSES      TRAFFIC VIOLATION ARREST   \n",
       "2  2015-05-13 23:33:00  OTHER OFFENSES      TRAFFIC VIOLATION ARREST   \n",
       "3  2015-05-13 23:30:00   LARCENY/THEFT  GRAND THEFT FROM LOCKED AUTO   \n",
       "4  2015-05-13 23:30:00   LARCENY/THEFT  GRAND THEFT FROM LOCKED AUTO   \n",
       "\n",
       "   DayOfWeek PdDistrict      Resolution                    Address  \\\n",
       "0  Wednesday   NORTHERN  ARREST, BOOKED         OAK ST / LAGUNA ST   \n",
       "1  Wednesday   NORTHERN  ARREST, BOOKED         OAK ST / LAGUNA ST   \n",
       "2  Wednesday   NORTHERN  ARREST, BOOKED  VANNESS AV / GREENWICH ST   \n",
       "3  Wednesday   NORTHERN            NONE   1500 Block of LOMBARD ST   \n",
       "4  Wednesday       PARK            NONE  100 Block of BRODERICK ST   \n",
       "\n",
       "            X          Y  \n",
       "0 -122.425892  37.774599  \n",
       "1 -122.425892  37.774599  \n",
       "2 -122.424363  37.800414  \n",
       "3 -122.426995  37.800873  \n",
       "4 -122.438738  37.771541  "
      ]
     },
     "execution_count": 4,
     "metadata": {},
     "output_type": "execute_result"
    }
   ],
   "source": [
    "# read /Users/husseinyounes/University/big_data/San-Francisco-Crime-Classification-bigdata/data/train.csv\n",
    "import pandas as pd\n",
    "\n",
    "file_path = '/Users/husseinyounes/University/big_data/San-Francisco-Crime-Classification-bigdata/data/train.csv'\n",
    "\n",
    "# read the data\n",
    "data = pd.read_csv(file_path)\n",
    "data.head()"
   ]
  },
  {
   "cell_type": "code",
   "execution_count": 5,
   "metadata": {},
   "outputs": [],
   "source": [
    "spark.conf.set(\"spark.sql.legacy.timeParserPolicy\", \"LEGACY\")"
   ]
  },
  {
   "cell_type": "code",
   "execution_count": 6,
   "metadata": {},
   "outputs": [
    {
     "name": "stdout",
     "output_type": "stream",
     "text": [
      "+-------------------+--------------+--------------------+---------+----------+--------------+--------------------+-------------------+------------------+\n",
      "|              Dates|      Category|            Descript|DayOfWeek|PdDistrict|    Resolution|             Address|                  X|                 Y|\n",
      "+-------------------+--------------+--------------------+---------+----------+--------------+--------------------+-------------------+------------------+\n",
      "|2015-05-13 23:53:00|      WARRANTS|      WARRANT ARREST|Wednesday|  NORTHERN|ARREST, BOOKED|  OAK ST / LAGUNA ST|  -122.425891675136|  37.7745985956747|\n",
      "|2015-05-13 23:53:00|OTHER OFFENSES|TRAFFIC VIOLATION...|Wednesday|  NORTHERN|ARREST, BOOKED|  OAK ST / LAGUNA ST|  -122.425891675136|  37.7745985956747|\n",
      "|2015-05-13 23:33:00|OTHER OFFENSES|TRAFFIC VIOLATION...|Wednesday|  NORTHERN|ARREST, BOOKED|VANNESS AV / GREE...|   -122.42436302145|  37.8004143219856|\n",
      "|2015-05-13 23:30:00| LARCENY/THEFT|GRAND THEFT FROM ...|Wednesday|  NORTHERN|          NONE|1500 Block of LOM...|-122.42699532676599| 37.80087263276921|\n",
      "|2015-05-13 23:30:00| LARCENY/THEFT|GRAND THEFT FROM ...|Wednesday|      PARK|          NONE|100 Block of BROD...|  -122.438737622757|37.771541172057795|\n",
      "+-------------------+--------------+--------------------+---------+----------+--------------+--------------------+-------------------+------------------+\n",
      "only showing top 5 rows\n",
      "\n"
     ]
    }
   ],
   "source": [
    "from pyspark.sql.types import StructType, StructField, IntegerType, StringType, BooleanType, DateType, TimestampType\n",
    "\n",
    "schema = StructType([\n",
    "    StructField(\"Dates\", TimestampType(), True),\n",
    "    StructField(\"Category\", StringType(), True),\n",
    "    StructField(\"Descript\", StringType(), True),\n",
    "    StructField(\"DayOfWeek\", StringType(), True),\n",
    "    StructField(\"PdDistrict\", StringType(), True),\n",
    "    StructField(\"Resolution\", StringType(), True),\n",
    "    StructField(\"Address\", StringType(), True),\n",
    "    StructField(\"X\", StringType(), True),\n",
    "    StructField(\"Y\", StringType(), True)\n",
    "])\n",
    "\n",
    "# read the data\n",
    "df = spark.read.csv(file_path, header=True, schema=schema)\n",
    "df.show(5)"
   ]
  },
  {
   "cell_type": "code",
   "execution_count": 7,
   "metadata": {},
   "outputs": [
    {
     "data": {
      "text/plain": [
       "[('Dates', 'timestamp'),\n",
       " ('Category', 'string'),\n",
       " ('Descript', 'string'),\n",
       " ('DayOfWeek', 'string'),\n",
       " ('PdDistrict', 'string'),\n",
       " ('Resolution', 'string'),\n",
       " ('Address', 'string'),\n",
       " ('X', 'string'),\n",
       " ('Y', 'string')]"
      ]
     },
     "execution_count": 7,
     "metadata": {},
     "output_type": "execute_result"
    }
   ],
   "source": [
    "df.dtypes"
   ]
  },
  {
   "cell_type": "code",
   "execution_count": 8,
   "metadata": {},
   "outputs": [
    {
     "data": {
      "text/html": [
       "<table border='1'>\n",
       "<tr><th>Dates</th><th>Category</th><th>Descript</th><th>DayOfWeek</th><th>PdDistrict</th><th>Resolution</th><th>Address</th><th>X</th><th>Y</th></tr>\n",
       "<tr><td>2015-05-13 23:53:00</td><td>WARRANTS</td><td>WARRANT ARREST</td><td>Wednesday</td><td>NORTHERN</td><td>ARREST, BOOKED</td><td>OAK ST / LAGUNA ST</td><td>-122.425891675136</td><td>37.7745985956747</td></tr>\n",
       "<tr><td>2015-05-13 23:53:00</td><td>OTHER OFFENSES</td><td>TRAFFIC VIOLATION...</td><td>Wednesday</td><td>NORTHERN</td><td>ARREST, BOOKED</td><td>OAK ST / LAGUNA ST</td><td>-122.425891675136</td><td>37.7745985956747</td></tr>\n",
       "<tr><td>2015-05-13 23:33:00</td><td>OTHER OFFENSES</td><td>TRAFFIC VIOLATION...</td><td>Wednesday</td><td>NORTHERN</td><td>ARREST, BOOKED</td><td>VANNESS AV / GREE...</td><td>-122.42436302145</td><td>37.8004143219856</td></tr>\n",
       "<tr><td>2015-05-13 23:30:00</td><td>LARCENY/THEFT</td><td>GRAND THEFT FROM ...</td><td>Wednesday</td><td>NORTHERN</td><td>NONE</td><td>1500 Block of LOM...</td><td>-122.42699532676599</td><td>37.80087263276921</td></tr>\n",
       "<tr><td>2015-05-13 23:30:00</td><td>LARCENY/THEFT</td><td>GRAND THEFT FROM ...</td><td>Wednesday</td><td>PARK</td><td>NONE</td><td>100 Block of BROD...</td><td>-122.438737622757</td><td>37.771541172057795</td></tr>\n",
       "<tr><td>2015-05-13 23:30:00</td><td>LARCENY/THEFT</td><td>GRAND THEFT FROM ...</td><td>Wednesday</td><td>INGLESIDE</td><td>NONE</td><td>0 Block of TEDDY AV</td><td>-122.40325236121201</td><td>37.713430704116</td></tr>\n",
       "<tr><td>2015-05-13 23:30:00</td><td>VEHICLE THEFT</td><td>STOLEN AUTOMOBILE</td><td>Wednesday</td><td>INGLESIDE</td><td>NONE</td><td>AVALON AV / PERU AV</td><td>-122.423326976668</td><td>37.7251380403778</td></tr>\n",
       "<tr><td>2015-05-13 23:30:00</td><td>VEHICLE THEFT</td><td>STOLEN AUTOMOBILE</td><td>Wednesday</td><td>BAYVIEW</td><td>NONE</td><td>KIRKWOOD AV / DON...</td><td>-122.371274317441</td><td>37.7275640719518</td></tr>\n",
       "<tr><td>2015-05-13 23:00:00</td><td>LARCENY/THEFT</td><td>GRAND THEFT FROM ...</td><td>Wednesday</td><td>RICHMOND</td><td>NONE</td><td>600 Block of 47TH AV</td><td>-122.508194031117</td><td>37.776601260681204</td></tr>\n",
       "<tr><td>2015-05-13 23:00:00</td><td>LARCENY/THEFT</td><td>GRAND THEFT FROM ...</td><td>Wednesday</td><td>CENTRAL</td><td>NONE</td><td>JEFFERSON ST / LE...</td><td>-122.419087676747</td><td>37.8078015516515</td></tr>\n",
       "<tr><td>2015-05-13 22:58:00</td><td>LARCENY/THEFT</td><td>PETTY THEFT FROM ...</td><td>Wednesday</td><td>CENTRAL</td><td>NONE</td><td>JEFFERSON ST / LE...</td><td>-122.419087676747</td><td>37.8078015516515</td></tr>\n",
       "<tr><td>2015-05-13 22:30:00</td><td>OTHER OFFENSES</td><td>MISCELLANEOUS INV...</td><td>Wednesday</td><td>TARAVAL</td><td>NONE</td><td>0 Block of ESCOLT...</td><td>-122.487983072777</td><td>37.737666654332706</td></tr>\n",
       "<tr><td>2015-05-13 22:30:00</td><td>VANDALISM</td><td>MALICIOUS MISCHIE...</td><td>Wednesday</td><td>TENDERLOIN</td><td>NONE</td><td>TURK ST / JONES ST</td><td>-122.41241426358101</td><td>37.7830037964534</td></tr>\n",
       "<tr><td>2015-05-13 22:06:00</td><td>LARCENY/THEFT</td><td>GRAND THEFT FROM ...</td><td>Wednesday</td><td>NORTHERN</td><td>NONE</td><td>FILLMORE ST / GEA...</td><td>-122.432914603494</td><td>37.7843533426568</td></tr>\n",
       "<tr><td>2015-05-13 22:00:00</td><td>NON-CRIMINAL</td><td>FOUND PROPERTY</td><td>Wednesday</td><td>BAYVIEW</td><td>NONE</td><td>200 Block of WILL...</td><td>-122.397744427103</td><td>37.7299346936044</td></tr>\n",
       "<tr><td>2015-05-13 22:00:00</td><td>NON-CRIMINAL</td><td>FOUND PROPERTY</td><td>Wednesday</td><td>BAYVIEW</td><td>NONE</td><td>0 Block of MENDEL...</td><td>-122.38369150395901</td><td>37.7431890419965</td></tr>\n",
       "<tr><td>2015-05-13 22:00:00</td><td>ROBBERY</td><td>ROBBERY, ARMED WI...</td><td>Wednesday</td><td>TENDERLOIN</td><td>NONE</td><td>EDDY ST / JONES ST</td><td>-122.412597377187</td><td>37.783932027727296</td></tr>\n",
       "<tr><td>2015-05-13 21:55:00</td><td>ASSAULT</td><td>AGGRAVATED ASSAUL...</td><td>Wednesday</td><td>INGLESIDE</td><td>NONE</td><td>GODEUS ST / MISSI...</td><td>-122.421681531572</td><td>37.7428222004845</td></tr>\n",
       "<tr><td>2015-05-13 21:40:00</td><td>OTHER OFFENSES</td><td>TRAFFIC VIOLATION</td><td>Wednesday</td><td>BAYVIEW</td><td>ARREST, BOOKED</td><td>MENDELL ST / HUDS...</td><td>-122.38640086995301</td><td>37.738983491072</td></tr>\n",
       "<tr><td>2015-05-13 21:30:00</td><td>NON-CRIMINAL</td><td>FOUND PROPERTY</td><td>Wednesday</td><td>TENDERLOIN</td><td>NONE</td><td>100 Block of JONE...</td><td>-122.412249767634</td><td>37.782556330202</td></tr>\n",
       "</table>\n",
       "only showing top 20 rows\n"
      ],
      "text/plain": [
       "+-------------------+--------------+--------------------+---------+----------+--------------+--------------------+-------------------+------------------+\n",
       "|              Dates|      Category|            Descript|DayOfWeek|PdDistrict|    Resolution|             Address|                  X|                 Y|\n",
       "+-------------------+--------------+--------------------+---------+----------+--------------+--------------------+-------------------+------------------+\n",
       "|2015-05-13 23:53:00|      WARRANTS|      WARRANT ARREST|Wednesday|  NORTHERN|ARREST, BOOKED|  OAK ST / LAGUNA ST|  -122.425891675136|  37.7745985956747|\n",
       "|2015-05-13 23:53:00|OTHER OFFENSES|TRAFFIC VIOLATION...|Wednesday|  NORTHERN|ARREST, BOOKED|  OAK ST / LAGUNA ST|  -122.425891675136|  37.7745985956747|\n",
       "|2015-05-13 23:33:00|OTHER OFFENSES|TRAFFIC VIOLATION...|Wednesday|  NORTHERN|ARREST, BOOKED|VANNESS AV / GREE...|   -122.42436302145|  37.8004143219856|\n",
       "|2015-05-13 23:30:00| LARCENY/THEFT|GRAND THEFT FROM ...|Wednesday|  NORTHERN|          NONE|1500 Block of LOM...|-122.42699532676599| 37.80087263276921|\n",
       "|2015-05-13 23:30:00| LARCENY/THEFT|GRAND THEFT FROM ...|Wednesday|      PARK|          NONE|100 Block of BROD...|  -122.438737622757|37.771541172057795|\n",
       "|2015-05-13 23:30:00| LARCENY/THEFT|GRAND THEFT FROM ...|Wednesday| INGLESIDE|          NONE| 0 Block of TEDDY AV|-122.40325236121201|   37.713430704116|\n",
       "|2015-05-13 23:30:00| VEHICLE THEFT|   STOLEN AUTOMOBILE|Wednesday| INGLESIDE|          NONE| AVALON AV / PERU AV|  -122.423326976668|  37.7251380403778|\n",
       "|2015-05-13 23:30:00| VEHICLE THEFT|   STOLEN AUTOMOBILE|Wednesday|   BAYVIEW|          NONE|KIRKWOOD AV / DON...|  -122.371274317441|  37.7275640719518|\n",
       "|2015-05-13 23:00:00| LARCENY/THEFT|GRAND THEFT FROM ...|Wednesday|  RICHMOND|          NONE|600 Block of 47TH AV|  -122.508194031117|37.776601260681204|\n",
       "|2015-05-13 23:00:00| LARCENY/THEFT|GRAND THEFT FROM ...|Wednesday|   CENTRAL|          NONE|JEFFERSON ST / LE...|  -122.419087676747|  37.8078015516515|\n",
       "|2015-05-13 22:58:00| LARCENY/THEFT|PETTY THEFT FROM ...|Wednesday|   CENTRAL|          NONE|JEFFERSON ST / LE...|  -122.419087676747|  37.8078015516515|\n",
       "|2015-05-13 22:30:00|OTHER OFFENSES|MISCELLANEOUS INV...|Wednesday|   TARAVAL|          NONE|0 Block of ESCOLT...|  -122.487983072777|37.737666654332706|\n",
       "|2015-05-13 22:30:00|     VANDALISM|MALICIOUS MISCHIE...|Wednesday|TENDERLOIN|          NONE|  TURK ST / JONES ST|-122.41241426358101|  37.7830037964534|\n",
       "|2015-05-13 22:06:00| LARCENY/THEFT|GRAND THEFT FROM ...|Wednesday|  NORTHERN|          NONE|FILLMORE ST / GEA...|  -122.432914603494|  37.7843533426568|\n",
       "|2015-05-13 22:00:00|  NON-CRIMINAL|      FOUND PROPERTY|Wednesday|   BAYVIEW|          NONE|200 Block of WILL...|  -122.397744427103|  37.7299346936044|\n",
       "|2015-05-13 22:00:00|  NON-CRIMINAL|      FOUND PROPERTY|Wednesday|   BAYVIEW|          NONE|0 Block of MENDEL...|-122.38369150395901|  37.7431890419965|\n",
       "|2015-05-13 22:00:00|       ROBBERY|ROBBERY, ARMED WI...|Wednesday|TENDERLOIN|          NONE|  EDDY ST / JONES ST|  -122.412597377187|37.783932027727296|\n",
       "|2015-05-13 21:55:00|       ASSAULT|AGGRAVATED ASSAUL...|Wednesday| INGLESIDE|          NONE|GODEUS ST / MISSI...|  -122.421681531572|  37.7428222004845|\n",
       "|2015-05-13 21:40:00|OTHER OFFENSES|   TRAFFIC VIOLATION|Wednesday|   BAYVIEW|ARREST, BOOKED|MENDELL ST / HUDS...|-122.38640086995301|   37.738983491072|\n",
       "|2015-05-13 21:30:00|  NON-CRIMINAL|      FOUND PROPERTY|Wednesday|TENDERLOIN|          NONE|100 Block of JONE...|  -122.412249767634|   37.782556330202|\n",
       "+-------------------+--------------+--------------------+---------+----------+--------------+--------------------+-------------------+------------------+\n",
       "only showing top 20 rows"
      ]
     },
     "execution_count": 8,
     "metadata": {},
     "output_type": "execute_result"
    }
   ],
   "source": [
    "df"
   ]
  },
  {
   "cell_type": "code",
   "execution_count": 9,
   "metadata": {},
   "outputs": [
    {
     "name": "stderr",
     "output_type": "stream",
     "text": [
      "                                                                                \r"
     ]
    },
    {
     "data": {
      "text/html": [
       "<table border='1'>\n",
       "<tr><th>Dates</th><th>Category</th><th>Descript</th><th>DayOfWeek</th><th>PdDistrict</th><th>Resolution</th><th>Address</th><th>X</th><th>Y</th><th>Category_index</th><th>DayOfWeek_index</th><th>DayOfWeek_vec</th><th>PdDistrict_index</th><th>PdDistrict_vec</th><th>Resolution_index</th><th>Resolution_vec</th><th>features</th><th>selectedFeatures</th></tr>\n",
       "<tr><td>2015-05-13 23:53:00</td><td>WARRANTS</td><td>WARRANT ARREST</td><td>Wednesday</td><td>NORTHERN</td><td>ARREST, BOOKED</td><td>OAK ST / LAGUNA ST</td><td>-122.425891675136</td><td>37.7745985956747</td><td>7.0</td><td>1.0</td><td>(6,[1],[1.0])</td><td>2.0</td><td>(9,[2],[1.0])</td><td>1.0</td><td>(16,[1],[1.0])</td><td>(31,[1,8,16],[1.0...</td><td>(10,[1,8],[1.0,1.0])</td></tr>\n",
       "<tr><td>2015-05-13 23:53:00</td><td>OTHER OFFENSES</td><td>TRAFFIC VIOLATION...</td><td>Wednesday</td><td>NORTHERN</td><td>ARREST, BOOKED</td><td>OAK ST / LAGUNA ST</td><td>-122.425891675136</td><td>37.7745985956747</td><td>1.0</td><td>1.0</td><td>(6,[1],[1.0])</td><td>2.0</td><td>(9,[2],[1.0])</td><td>1.0</td><td>(16,[1],[1.0])</td><td>(31,[1,8,16],[1.0...</td><td>(10,[1,8],[1.0,1.0])</td></tr>\n",
       "<tr><td>2015-05-13 23:33:00</td><td>OTHER OFFENSES</td><td>TRAFFIC VIOLATION...</td><td>Wednesday</td><td>NORTHERN</td><td>ARREST, BOOKED</td><td>VANNESS AV / GREE...</td><td>-122.42436302145</td><td>37.8004143219856</td><td>1.0</td><td>1.0</td><td>(6,[1],[1.0])</td><td>2.0</td><td>(9,[2],[1.0])</td><td>1.0</td><td>(16,[1],[1.0])</td><td>(31,[1,8,16],[1.0...</td><td>(10,[1,8],[1.0,1.0])</td></tr>\n",
       "<tr><td>2015-05-13 23:30:00</td><td>LARCENY/THEFT</td><td>GRAND THEFT FROM ...</td><td>Wednesday</td><td>NORTHERN</td><td>NONE</td><td>1500 Block of LOM...</td><td>-122.42699532676599</td><td>37.80087263276921</td><td>0.0</td><td>1.0</td><td>(6,[1],[1.0])</td><td>2.0</td><td>(9,[2],[1.0])</td><td>0.0</td><td>(16,[0],[1.0])</td><td>(31,[1,8,15],[1.0...</td><td>(10,[1,8],[1.0,1.0])</td></tr>\n",
       "<tr><td>2015-05-13 23:30:00</td><td>LARCENY/THEFT</td><td>GRAND THEFT FROM ...</td><td>Wednesday</td><td>PARK</td><td>NONE</td><td>100 Block of BROD...</td><td>-122.438737622757</td><td>37.771541172057795</td><td>0.0</td><td>1.0</td><td>(6,[1],[1.0])</td><td>8.0</td><td>(9,[8],[1.0])</td><td>0.0</td><td>(16,[0],[1.0])</td><td>(31,[1,14,15],[1....</td><td>(10,[1],[1.0])</td></tr>\n",
       "<tr><td>2015-05-13 23:30:00</td><td>LARCENY/THEFT</td><td>GRAND THEFT FROM ...</td><td>Wednesday</td><td>INGLESIDE</td><td>NONE</td><td>0 Block of TEDDY AV</td><td>-122.40325236121201</td><td>37.713430704116</td><td>0.0</td><td>1.0</td><td>(6,[1],[1.0])</td><td>6.0</td><td>(9,[6],[1.0])</td><td>0.0</td><td>(16,[0],[1.0])</td><td>(31,[1,12,15],[1....</td><td>(10,[1],[1.0])</td></tr>\n",
       "<tr><td>2015-05-13 23:30:00</td><td>VEHICLE THEFT</td><td>STOLEN AUTOMOBILE</td><td>Wednesday</td><td>INGLESIDE</td><td>NONE</td><td>AVALON AV / PERU AV</td><td>-122.423326976668</td><td>37.7251380403778</td><td>5.0</td><td>1.0</td><td>(6,[1],[1.0])</td><td>6.0</td><td>(9,[6],[1.0])</td><td>0.0</td><td>(16,[0],[1.0])</td><td>(31,[1,12,15],[1....</td><td>(10,[1],[1.0])</td></tr>\n",
       "<tr><td>2015-05-13 23:30:00</td><td>VEHICLE THEFT</td><td>STOLEN AUTOMOBILE</td><td>Wednesday</td><td>BAYVIEW</td><td>NONE</td><td>KIRKWOOD AV / DON...</td><td>-122.371274317441</td><td>37.7275640719518</td><td>5.0</td><td>1.0</td><td>(6,[1],[1.0])</td><td>3.0</td><td>(9,[3],[1.0])</td><td>0.0</td><td>(16,[0],[1.0])</td><td>(31,[1,9,15],[1.0...</td><td>(10,[1,9],[1.0,1.0])</td></tr>\n",
       "<tr><td>2015-05-13 23:00:00</td><td>LARCENY/THEFT</td><td>GRAND THEFT FROM ...</td><td>Wednesday</td><td>RICHMOND</td><td>NONE</td><td>600 Block of 47TH AV</td><td>-122.508194031117</td><td>37.776601260681204</td><td>0.0</td><td>1.0</td><td>(6,[1],[1.0])</td><td>9.0</td><td>(9,[],[])</td><td>0.0</td><td>(16,[0],[1.0])</td><td>(31,[1,15],[1.0,1...</td><td>(10,[1],[1.0])</td></tr>\n",
       "<tr><td>2015-05-13 23:00:00</td><td>LARCENY/THEFT</td><td>GRAND THEFT FROM ...</td><td>Wednesday</td><td>CENTRAL</td><td>NONE</td><td>JEFFERSON ST / LE...</td><td>-122.419087676747</td><td>37.8078015516515</td><td>0.0</td><td>1.0</td><td>(6,[1],[1.0])</td><td>4.0</td><td>(9,[4],[1.0])</td><td>0.0</td><td>(16,[0],[1.0])</td><td>(31,[1,10,15],[1....</td><td>(10,[1],[1.0])</td></tr>\n",
       "<tr><td>2015-05-13 22:58:00</td><td>LARCENY/THEFT</td><td>PETTY THEFT FROM ...</td><td>Wednesday</td><td>CENTRAL</td><td>NONE</td><td>JEFFERSON ST / LE...</td><td>-122.419087676747</td><td>37.8078015516515</td><td>0.0</td><td>1.0</td><td>(6,[1],[1.0])</td><td>4.0</td><td>(9,[4],[1.0])</td><td>0.0</td><td>(16,[0],[1.0])</td><td>(31,[1,10,15],[1....</td><td>(10,[1],[1.0])</td></tr>\n",
       "<tr><td>2015-05-13 22:30:00</td><td>OTHER OFFENSES</td><td>MISCELLANEOUS INV...</td><td>Wednesday</td><td>TARAVAL</td><td>NONE</td><td>0 Block of ESCOLT...</td><td>-122.487983072777</td><td>37.737666654332706</td><td>1.0</td><td>1.0</td><td>(6,[1],[1.0])</td><td>7.0</td><td>(9,[7],[1.0])</td><td>0.0</td><td>(16,[0],[1.0])</td><td>(31,[1,13,15],[1....</td><td>(10,[1],[1.0])</td></tr>\n",
       "<tr><td>2015-05-13 22:30:00</td><td>VANDALISM</td><td>MALICIOUS MISCHIE...</td><td>Wednesday</td><td>TENDERLOIN</td><td>NONE</td><td>TURK ST / JONES ST</td><td>-122.41241426358101</td><td>37.7830037964534</td><td>6.0</td><td>1.0</td><td>(6,[1],[1.0])</td><td>5.0</td><td>(9,[5],[1.0])</td><td>0.0</td><td>(16,[0],[1.0])</td><td>(31,[1,11,15],[1....</td><td>(10,[1],[1.0])</td></tr>\n",
       "<tr><td>2015-05-13 22:06:00</td><td>LARCENY/THEFT</td><td>GRAND THEFT FROM ...</td><td>Wednesday</td><td>NORTHERN</td><td>NONE</td><td>FILLMORE ST / GEA...</td><td>-122.432914603494</td><td>37.7843533426568</td><td>0.0</td><td>1.0</td><td>(6,[1],[1.0])</td><td>2.0</td><td>(9,[2],[1.0])</td><td>0.0</td><td>(16,[0],[1.0])</td><td>(31,[1,8,15],[1.0...</td><td>(10,[1,8],[1.0,1.0])</td></tr>\n",
       "<tr><td>2015-05-13 22:00:00</td><td>NON-CRIMINAL</td><td>FOUND PROPERTY</td><td>Wednesday</td><td>BAYVIEW</td><td>NONE</td><td>200 Block of WILL...</td><td>-122.397744427103</td><td>37.7299346936044</td><td>2.0</td><td>1.0</td><td>(6,[1],[1.0])</td><td>3.0</td><td>(9,[3],[1.0])</td><td>0.0</td><td>(16,[0],[1.0])</td><td>(31,[1,9,15],[1.0...</td><td>(10,[1,9],[1.0,1.0])</td></tr>\n",
       "<tr><td>2015-05-13 22:00:00</td><td>NON-CRIMINAL</td><td>FOUND PROPERTY</td><td>Wednesday</td><td>BAYVIEW</td><td>NONE</td><td>0 Block of MENDEL...</td><td>-122.38369150395901</td><td>37.7431890419965</td><td>2.0</td><td>1.0</td><td>(6,[1],[1.0])</td><td>3.0</td><td>(9,[3],[1.0])</td><td>0.0</td><td>(16,[0],[1.0])</td><td>(31,[1,9,15],[1.0...</td><td>(10,[1,9],[1.0,1.0])</td></tr>\n",
       "<tr><td>2015-05-13 22:00:00</td><td>ROBBERY</td><td>ROBBERY, ARMED WI...</td><td>Wednesday</td><td>TENDERLOIN</td><td>NONE</td><td>EDDY ST / JONES ST</td><td>-122.412597377187</td><td>37.783932027727296</td><td>11.0</td><td>1.0</td><td>(6,[1],[1.0])</td><td>5.0</td><td>(9,[5],[1.0])</td><td>0.0</td><td>(16,[0],[1.0])</td><td>(31,[1,11,15],[1....</td><td>(10,[1],[1.0])</td></tr>\n",
       "<tr><td>2015-05-13 21:55:00</td><td>ASSAULT</td><td>AGGRAVATED ASSAUL...</td><td>Wednesday</td><td>INGLESIDE</td><td>NONE</td><td>GODEUS ST / MISSI...</td><td>-122.421681531572</td><td>37.7428222004845</td><td>3.0</td><td>1.0</td><td>(6,[1],[1.0])</td><td>6.0</td><td>(9,[6],[1.0])</td><td>0.0</td><td>(16,[0],[1.0])</td><td>(31,[1,12,15],[1....</td><td>(10,[1],[1.0])</td></tr>\n",
       "<tr><td>2015-05-13 21:40:00</td><td>OTHER OFFENSES</td><td>TRAFFIC VIOLATION</td><td>Wednesday</td><td>BAYVIEW</td><td>ARREST, BOOKED</td><td>MENDELL ST / HUDS...</td><td>-122.38640086995301</td><td>37.738983491072</td><td>1.0</td><td>1.0</td><td>(6,[1],[1.0])</td><td>3.0</td><td>(9,[3],[1.0])</td><td>1.0</td><td>(16,[1],[1.0])</td><td>(31,[1,9,16],[1.0...</td><td>(10,[1,9],[1.0,1.0])</td></tr>\n",
       "<tr><td>2015-05-13 21:30:00</td><td>NON-CRIMINAL</td><td>FOUND PROPERTY</td><td>Wednesday</td><td>TENDERLOIN</td><td>NONE</td><td>100 Block of JONE...</td><td>-122.412249767634</td><td>37.782556330202</td><td>2.0</td><td>1.0</td><td>(6,[1],[1.0])</td><td>5.0</td><td>(9,[5],[1.0])</td><td>0.0</td><td>(16,[0],[1.0])</td><td>(31,[1,11,15],[1....</td><td>(10,[1],[1.0])</td></tr>\n",
       "</table>\n",
       "only showing top 20 rows\n"
      ],
      "text/plain": [
       "+-------------------+--------------+--------------------+---------+----------+--------------+--------------------+-------------------+------------------+--------------+---------------+-------------+----------------+--------------+----------------+--------------+--------------------+--------------------+\n",
       "|              Dates|      Category|            Descript|DayOfWeek|PdDistrict|    Resolution|             Address|                  X|                 Y|Category_index|DayOfWeek_index|DayOfWeek_vec|PdDistrict_index|PdDistrict_vec|Resolution_index|Resolution_vec|            features|    selectedFeatures|\n",
       "+-------------------+--------------+--------------------+---------+----------+--------------+--------------------+-------------------+------------------+--------------+---------------+-------------+----------------+--------------+----------------+--------------+--------------------+--------------------+\n",
       "|2015-05-13 23:53:00|      WARRANTS|      WARRANT ARREST|Wednesday|  NORTHERN|ARREST, BOOKED|  OAK ST / LAGUNA ST|  -122.425891675136|  37.7745985956747|           7.0|            1.0|(6,[1],[1.0])|             2.0| (9,[2],[1.0])|             1.0|(16,[1],[1.0])|(31,[1,8,16],[1.0...|(10,[1,8],[1.0,1.0])|\n",
       "|2015-05-13 23:53:00|OTHER OFFENSES|TRAFFIC VIOLATION...|Wednesday|  NORTHERN|ARREST, BOOKED|  OAK ST / LAGUNA ST|  -122.425891675136|  37.7745985956747|           1.0|            1.0|(6,[1],[1.0])|             2.0| (9,[2],[1.0])|             1.0|(16,[1],[1.0])|(31,[1,8,16],[1.0...|(10,[1,8],[1.0,1.0])|\n",
       "|2015-05-13 23:33:00|OTHER OFFENSES|TRAFFIC VIOLATION...|Wednesday|  NORTHERN|ARREST, BOOKED|VANNESS AV / GREE...|   -122.42436302145|  37.8004143219856|           1.0|            1.0|(6,[1],[1.0])|             2.0| (9,[2],[1.0])|             1.0|(16,[1],[1.0])|(31,[1,8,16],[1.0...|(10,[1,8],[1.0,1.0])|\n",
       "|2015-05-13 23:30:00| LARCENY/THEFT|GRAND THEFT FROM ...|Wednesday|  NORTHERN|          NONE|1500 Block of LOM...|-122.42699532676599| 37.80087263276921|           0.0|            1.0|(6,[1],[1.0])|             2.0| (9,[2],[1.0])|             0.0|(16,[0],[1.0])|(31,[1,8,15],[1.0...|(10,[1,8],[1.0,1.0])|\n",
       "|2015-05-13 23:30:00| LARCENY/THEFT|GRAND THEFT FROM ...|Wednesday|      PARK|          NONE|100 Block of BROD...|  -122.438737622757|37.771541172057795|           0.0|            1.0|(6,[1],[1.0])|             8.0| (9,[8],[1.0])|             0.0|(16,[0],[1.0])|(31,[1,14,15],[1....|      (10,[1],[1.0])|\n",
       "|2015-05-13 23:30:00| LARCENY/THEFT|GRAND THEFT FROM ...|Wednesday| INGLESIDE|          NONE| 0 Block of TEDDY AV|-122.40325236121201|   37.713430704116|           0.0|            1.0|(6,[1],[1.0])|             6.0| (9,[6],[1.0])|             0.0|(16,[0],[1.0])|(31,[1,12,15],[1....|      (10,[1],[1.0])|\n",
       "|2015-05-13 23:30:00| VEHICLE THEFT|   STOLEN AUTOMOBILE|Wednesday| INGLESIDE|          NONE| AVALON AV / PERU AV|  -122.423326976668|  37.7251380403778|           5.0|            1.0|(6,[1],[1.0])|             6.0| (9,[6],[1.0])|             0.0|(16,[0],[1.0])|(31,[1,12,15],[1....|      (10,[1],[1.0])|\n",
       "|2015-05-13 23:30:00| VEHICLE THEFT|   STOLEN AUTOMOBILE|Wednesday|   BAYVIEW|          NONE|KIRKWOOD AV / DON...|  -122.371274317441|  37.7275640719518|           5.0|            1.0|(6,[1],[1.0])|             3.0| (9,[3],[1.0])|             0.0|(16,[0],[1.0])|(31,[1,9,15],[1.0...|(10,[1,9],[1.0,1.0])|\n",
       "|2015-05-13 23:00:00| LARCENY/THEFT|GRAND THEFT FROM ...|Wednesday|  RICHMOND|          NONE|600 Block of 47TH AV|  -122.508194031117|37.776601260681204|           0.0|            1.0|(6,[1],[1.0])|             9.0|     (9,[],[])|             0.0|(16,[0],[1.0])|(31,[1,15],[1.0,1...|      (10,[1],[1.0])|\n",
       "|2015-05-13 23:00:00| LARCENY/THEFT|GRAND THEFT FROM ...|Wednesday|   CENTRAL|          NONE|JEFFERSON ST / LE...|  -122.419087676747|  37.8078015516515|           0.0|            1.0|(6,[1],[1.0])|             4.0| (9,[4],[1.0])|             0.0|(16,[0],[1.0])|(31,[1,10,15],[1....|      (10,[1],[1.0])|\n",
       "|2015-05-13 22:58:00| LARCENY/THEFT|PETTY THEFT FROM ...|Wednesday|   CENTRAL|          NONE|JEFFERSON ST / LE...|  -122.419087676747|  37.8078015516515|           0.0|            1.0|(6,[1],[1.0])|             4.0| (9,[4],[1.0])|             0.0|(16,[0],[1.0])|(31,[1,10,15],[1....|      (10,[1],[1.0])|\n",
       "|2015-05-13 22:30:00|OTHER OFFENSES|MISCELLANEOUS INV...|Wednesday|   TARAVAL|          NONE|0 Block of ESCOLT...|  -122.487983072777|37.737666654332706|           1.0|            1.0|(6,[1],[1.0])|             7.0| (9,[7],[1.0])|             0.0|(16,[0],[1.0])|(31,[1,13,15],[1....|      (10,[1],[1.0])|\n",
       "|2015-05-13 22:30:00|     VANDALISM|MALICIOUS MISCHIE...|Wednesday|TENDERLOIN|          NONE|  TURK ST / JONES ST|-122.41241426358101|  37.7830037964534|           6.0|            1.0|(6,[1],[1.0])|             5.0| (9,[5],[1.0])|             0.0|(16,[0],[1.0])|(31,[1,11,15],[1....|      (10,[1],[1.0])|\n",
       "|2015-05-13 22:06:00| LARCENY/THEFT|GRAND THEFT FROM ...|Wednesday|  NORTHERN|          NONE|FILLMORE ST / GEA...|  -122.432914603494|  37.7843533426568|           0.0|            1.0|(6,[1],[1.0])|             2.0| (9,[2],[1.0])|             0.0|(16,[0],[1.0])|(31,[1,8,15],[1.0...|(10,[1,8],[1.0,1.0])|\n",
       "|2015-05-13 22:00:00|  NON-CRIMINAL|      FOUND PROPERTY|Wednesday|   BAYVIEW|          NONE|200 Block of WILL...|  -122.397744427103|  37.7299346936044|           2.0|            1.0|(6,[1],[1.0])|             3.0| (9,[3],[1.0])|             0.0|(16,[0],[1.0])|(31,[1,9,15],[1.0...|(10,[1,9],[1.0,1.0])|\n",
       "|2015-05-13 22:00:00|  NON-CRIMINAL|      FOUND PROPERTY|Wednesday|   BAYVIEW|          NONE|0 Block of MENDEL...|-122.38369150395901|  37.7431890419965|           2.0|            1.0|(6,[1],[1.0])|             3.0| (9,[3],[1.0])|             0.0|(16,[0],[1.0])|(31,[1,9,15],[1.0...|(10,[1,9],[1.0,1.0])|\n",
       "|2015-05-13 22:00:00|       ROBBERY|ROBBERY, ARMED WI...|Wednesday|TENDERLOIN|          NONE|  EDDY ST / JONES ST|  -122.412597377187|37.783932027727296|          11.0|            1.0|(6,[1],[1.0])|             5.0| (9,[5],[1.0])|             0.0|(16,[0],[1.0])|(31,[1,11,15],[1....|      (10,[1],[1.0])|\n",
       "|2015-05-13 21:55:00|       ASSAULT|AGGRAVATED ASSAUL...|Wednesday| INGLESIDE|          NONE|GODEUS ST / MISSI...|  -122.421681531572|  37.7428222004845|           3.0|            1.0|(6,[1],[1.0])|             6.0| (9,[6],[1.0])|             0.0|(16,[0],[1.0])|(31,[1,12,15],[1....|      (10,[1],[1.0])|\n",
       "|2015-05-13 21:40:00|OTHER OFFENSES|   TRAFFIC VIOLATION|Wednesday|   BAYVIEW|ARREST, BOOKED|MENDELL ST / HUDS...|-122.38640086995301|   37.738983491072|           1.0|            1.0|(6,[1],[1.0])|             3.0| (9,[3],[1.0])|             1.0|(16,[1],[1.0])|(31,[1,9,16],[1.0...|(10,[1,9],[1.0,1.0])|\n",
       "|2015-05-13 21:30:00|  NON-CRIMINAL|      FOUND PROPERTY|Wednesday|TENDERLOIN|          NONE|100 Block of JONE...|  -122.412249767634|   37.782556330202|           2.0|            1.0|(6,[1],[1.0])|             5.0| (9,[5],[1.0])|             0.0|(16,[0],[1.0])|(31,[1,11,15],[1....|      (10,[1],[1.0])|\n",
       "+-------------------+--------------+--------------------+---------+----------+--------------+--------------------+-------------------+------------------+--------------+---------------+-------------+----------------+--------------+----------------+--------------+--------------------+--------------------+\n",
       "only showing top 20 rows"
      ]
     },
     "execution_count": 9,
     "metadata": {},
     "output_type": "execute_result"
    }
   ],
   "source": [
    "from pyspark.ml.feature import ChiSqSelector, StringIndexer, OneHotEncoder, VectorAssembler\n",
    "\n",
    "cat_cols = ['DayOfWeek', 'PdDistrict', 'Resolution']\n",
    "\n",
    "df_new = df\n",
    "\n",
    "indexer = StringIndexer(inputCol='Category', outputCol='Category_index')\n",
    "df_new = indexer.fit(df_new).transform(df_new)\n",
    "\n",
    "# convert categorical columns to numerical\n",
    "for col in cat_cols:\n",
    "    indexer = StringIndexer(inputCol=col, outputCol=col+'_index')\n",
    "    encoder = OneHotEncoder(inputCols=[col+'_index'], outputCols=[col+'_vec'])\n",
    "    df_new = indexer.fit(df_new).transform(df_new)\n",
    "    df_new = encoder.fit(df_new).transform(df_new)\n",
    "\n",
    "# assemble the features\n",
    "assembler = VectorAssembler(inputCols=['DayOfWeek_vec', 'PdDistrict_vec', 'Resolution_vec'], outputCol='features')\n",
    "\n",
    "df_new = assembler.transform(df_new)\n",
    "\n",
    "selector = ChiSqSelector(numTopFeatures=10, featuresCol=\"features\", outputCol=\"selectedFeatures\", labelCol=\"Category_index\")\n",
    "selector_model = selector.fit(df_new)\n",
    "result = selector_model.transform(df_new)\n",
    "\n",
    "result"
   ]
  },
  {
   "cell_type": "code",
   "execution_count": 10,
   "metadata": {},
   "outputs": [],
   "source": [
    "from pyspark.ml import Transformer\n",
    "from pyspark.ml.param.shared import HasInputCol, HasOutputCols\n",
    "from pyspark.sql.functions import udf, col, explode, dayofmonth, month, year, radians, sin, cos, lit\n",
    "from pyspark.sql import DataFrame\n",
    "import math\n",
    "\n",
    "\n",
    "class DateTimeTransformer(Transformer, HasInputCol, HasOutputCols):\n",
    "    def __init__(self, inputCol=None, outputCols=None):\n",
    "        super(DateTimeTransformer, self).__init__()\n",
    "        self._set(inputCol=inputCol)\n",
    "        self._set(outputCols=outputCols)\n",
    "\n",
    "    def _transform(self, df: DataFrame) -> DataFrame:\n",
    "        input_col = self.getInputCol()\n",
    "        output_cols = self.getOutputCols()\n",
    "\n",
    "        df = df.withColumn(output_cols[0], sin(2 * math.pi * col(input_col) / 12))\n",
    "        df = df.withColumn(output_cols[1], cos(2 * math.pi * col(input_col) / 12))\n",
    "\n",
    "        return df"
   ]
  },
  {
   "cell_type": "code",
   "execution_count": 11,
   "metadata": {},
   "outputs": [
    {
     "name": "stderr",
     "output_type": "stream",
     "text": [
      "[Stage 36:=====>                                                   (1 + 9) / 10]\r"
     ]
    },
    {
     "name": "stdout",
     "output_type": "stream",
     "text": [
      "23/05/13 22:17:08 WARN InstanceBuilder$NativeBLAS: Failed to load implementation from:dev.ludovic.netlib.blas.JNIBLAS\n",
      "23/05/13 22:17:08 WARN InstanceBuilder$NativeBLAS: Failed to load implementation from:dev.ludovic.netlib.blas.ForeignLinkerBLAS\n"
     ]
    },
    {
     "name": "stderr",
     "output_type": "stream",
     "text": [
      "                                                                                \r"
     ]
    },
    {
     "name": "stdout",
     "output_type": "stream",
     "text": [
      "23/05/13 22:17:11 WARN package: Truncated the string representation of a plan since it was too large. This behavior can be adjusted by setting 'spark.sql.debug.maxToStringFields'.\n"
     ]
    },
    {
     "data": {
      "text/html": [
       "<table border='1'>\n",
       "<tr><th>Dates</th><th>Category</th><th>Descript</th><th>DayOfWeek</th><th>PdDistrict</th><th>Resolution</th><th>Address</th><th>X</th><th>Y</th><th>month</th><th>year</th><th>day</th><th>hour</th><th>minute</th><th>DayOfWeek_index</th><th>PdDistrict_index</th><th>Resolution_index</th><th>Category_index</th><th>DayOfWeek_vec</th><th>PdDistrict_vec</th><th>Resolution_vec</th><th>Category_vec</th><th>Descript_words</th><th>Descript_vec</th><th>day_sin</th><th>day_cos</th><th>month_sin</th><th>month_cos</th><th>year_sin</th><th>year_cos</th><th>hour_sin</th><th>hour_cos</th><th>minute_sin</th><th>minute_cos</th><th>features</th></tr>\n",
       "<tr><td>2015-05-13 23:53:00</td><td>WARRANTS</td><td>WARRANT ARREST</td><td>Wednesday</td><td>NORTHERN</td><td>ARREST, BOOKED</td><td>OAK ST / LAGUNA ST</td><td>-122.42589</td><td>37.774597</td><td>5</td><td>2015</td><td>13</td><td>23</td><td>53</td><td>1.0</td><td>2.0</td><td>1.0</td><td>7.0</td><td>(6,[1],[1.0])</td><td>(9,[2],[1.0])</td><td>(16,[1],[1.0])</td><td>(38,[7],[1.0])</td><td>[warrant, arrest]</td><td>[-3.3177111446857...</td><td>0.5</td><td>0.8660254037844386</td><td>0.49999999999999994</td><td>-0.8660254037844387</td><td>-0.5000000000000997</td><td>0.8660254037843811</td><td>-0.5000000000000014</td><td>0.8660254037844378</td><td>0.5000000000000004</td><td>-0.8660254037844384</td><td>(46,[1,8,16,31,32...</td></tr>\n",
       "<tr><td>2015-05-13 23:53:00</td><td>OTHER OFFENSES</td><td>TRAFFIC VIOLATION...</td><td>Wednesday</td><td>NORTHERN</td><td>ARREST, BOOKED</td><td>OAK ST / LAGUNA ST</td><td>-122.42589</td><td>37.774597</td><td>5</td><td>2015</td><td>13</td><td>23</td><td>53</td><td>1.0</td><td>2.0</td><td>1.0</td><td>1.0</td><td>(6,[1],[1.0])</td><td>(9,[2],[1.0])</td><td>(16,[1],[1.0])</td><td>(38,[1],[1.0])</td><td>[traffic, violati...</td><td>[-0.5560210943222...</td><td>0.5</td><td>0.8660254037844386</td><td>0.49999999999999994</td><td>-0.8660254037844387</td><td>-0.5000000000000997</td><td>0.8660254037843811</td><td>-0.5000000000000014</td><td>0.8660254037844378</td><td>0.5000000000000004</td><td>-0.8660254037844384</td><td>(46,[1,8,16,31,32...</td></tr>\n",
       "<tr><td>2015-05-13 23:33:00</td><td>OTHER OFFENSES</td><td>TRAFFIC VIOLATION...</td><td>Wednesday</td><td>NORTHERN</td><td>ARREST, BOOKED</td><td>VANNESS AV / GREE...</td><td>-122.42436</td><td>37.800415</td><td>5</td><td>2015</td><td>13</td><td>23</td><td>33</td><td>1.0</td><td>2.0</td><td>1.0</td><td>1.0</td><td>(6,[1],[1.0])</td><td>(9,[2],[1.0])</td><td>(16,[1],[1.0])</td><td>(38,[1],[1.0])</td><td>[traffic, violati...</td><td>[-0.5560210943222...</td><td>0.5</td><td>0.8660254037844386</td><td>0.49999999999999994</td><td>-0.8660254037844387</td><td>-0.5000000000000997</td><td>0.8660254037843811</td><td>-0.5000000000000014</td><td>0.8660254037844378</td><td>-1.0</td><td>1.102801099869206...</td><td>(46,[1,8,16,31,32...</td></tr>\n",
       "<tr><td>2015-05-13 23:30:00</td><td>LARCENY/THEFT</td><td>GRAND THEFT FROM ...</td><td>Wednesday</td><td>NORTHERN</td><td>NONE</td><td>1500 Block of LOM...</td><td>-122.426994</td><td>37.800873</td><td>5</td><td>2015</td><td>13</td><td>23</td><td>30</td><td>1.0</td><td>2.0</td><td>0.0</td><td>0.0</td><td>(6,[1],[1.0])</td><td>(9,[2],[1.0])</td><td>(16,[0],[1.0])</td><td>(38,[0],[1.0])</td><td>[grand, theft, fr...</td><td>[1.31853253841400...</td><td>0.5</td><td>0.8660254037844386</td><td>0.49999999999999994</td><td>-0.8660254037844387</td><td>-0.5000000000000997</td><td>0.8660254037843811</td><td>-0.5000000000000014</td><td>0.8660254037844378</td><td>2.388680238973927...</td><td>-1.0</td><td>(46,[1,8,15,31,32...</td></tr>\n",
       "<tr><td>2015-05-13 23:30:00</td><td>LARCENY/THEFT</td><td>GRAND THEFT FROM ...</td><td>Wednesday</td><td>PARK</td><td>NONE</td><td>100 Block of BROD...</td><td>-122.438736</td><td>37.77154</td><td>5</td><td>2015</td><td>13</td><td>23</td><td>30</td><td>1.0</td><td>8.0</td><td>0.0</td><td>0.0</td><td>(6,[1],[1.0])</td><td>(9,[8],[1.0])</td><td>(16,[0],[1.0])</td><td>(38,[0],[1.0])</td><td>[grand, theft, fr...</td><td>[1.31853253841400...</td><td>0.5</td><td>0.8660254037844386</td><td>0.49999999999999994</td><td>-0.8660254037844387</td><td>-0.5000000000000997</td><td>0.8660254037843811</td><td>-0.5000000000000014</td><td>0.8660254037844378</td><td>2.388680238973927...</td><td>-1.0</td><td>(46,[1,14,15,31,3...</td></tr>\n",
       "<tr><td>2015-05-13 23:30:00</td><td>LARCENY/THEFT</td><td>GRAND THEFT FROM ...</td><td>Wednesday</td><td>INGLESIDE</td><td>NONE</td><td>0 Block of TEDDY AV</td><td>-122.40325</td><td>37.713432</td><td>5</td><td>2015</td><td>13</td><td>23</td><td>30</td><td>1.0</td><td>6.0</td><td>0.0</td><td>0.0</td><td>(6,[1],[1.0])</td><td>(9,[6],[1.0])</td><td>(16,[0],[1.0])</td><td>(38,[0],[1.0])</td><td>[grand, theft, fr...</td><td>[1.29471199512481...</td><td>0.5</td><td>0.8660254037844386</td><td>0.49999999999999994</td><td>-0.8660254037844387</td><td>-0.5000000000000997</td><td>0.8660254037843811</td><td>-0.5000000000000014</td><td>0.8660254037844378</td><td>2.388680238973927...</td><td>-1.0</td><td>(46,[1,12,15,31,3...</td></tr>\n",
       "<tr><td>2015-05-13 23:30:00</td><td>VEHICLE THEFT</td><td>STOLEN AUTOMOBILE</td><td>Wednesday</td><td>INGLESIDE</td><td>NONE</td><td>AVALON AV / PERU AV</td><td>-122.423325</td><td>37.72514</td><td>5</td><td>2015</td><td>13</td><td>23</td><td>30</td><td>1.0</td><td>6.0</td><td>0.0</td><td>5.0</td><td>(6,[1],[1.0])</td><td>(9,[6],[1.0])</td><td>(16,[0],[1.0])</td><td>(38,[5],[1.0])</td><td>[stolen, automobile]</td><td>[-1.0004404783248...</td><td>0.5</td><td>0.8660254037844386</td><td>0.49999999999999994</td><td>-0.8660254037844387</td><td>-0.5000000000000997</td><td>0.8660254037843811</td><td>-0.5000000000000014</td><td>0.8660254037844378</td><td>2.388680238973927...</td><td>-1.0</td><td>(46,[1,12,15,31,3...</td></tr>\n",
       "<tr><td>2015-05-13 23:30:00</td><td>VEHICLE THEFT</td><td>STOLEN AUTOMOBILE</td><td>Wednesday</td><td>BAYVIEW</td><td>NONE</td><td>KIRKWOOD AV / DON...</td><td>-122.37128</td><td>37.727566</td><td>5</td><td>2015</td><td>13</td><td>23</td><td>30</td><td>1.0</td><td>3.0</td><td>0.0</td><td>5.0</td><td>(6,[1],[1.0])</td><td>(9,[3],[1.0])</td><td>(16,[0],[1.0])</td><td>(38,[5],[1.0])</td><td>[stolen, automobile]</td><td>[-1.0004404783248...</td><td>0.5</td><td>0.8660254037844386</td><td>0.49999999999999994</td><td>-0.8660254037844387</td><td>-0.5000000000000997</td><td>0.8660254037843811</td><td>-0.5000000000000014</td><td>0.8660254037844378</td><td>2.388680238973927...</td><td>-1.0</td><td>(46,[1,9,15,31,32...</td></tr>\n",
       "<tr><td>2015-05-13 23:00:00</td><td>LARCENY/THEFT</td><td>GRAND THEFT FROM ...</td><td>Wednesday</td><td>RICHMOND</td><td>NONE</td><td>600 Block of 47TH AV</td><td>-122.508194</td><td>37.7766</td><td>5</td><td>2015</td><td>13</td><td>23</td><td>0</td><td>1.0</td><td>9.0</td><td>0.0</td><td>0.0</td><td>(6,[1],[1.0])</td><td>(9,[],[])</td><td>(16,[0],[1.0])</td><td>(38,[0],[1.0])</td><td>[grand, theft, fr...</td><td>[1.31853253841400...</td><td>0.5</td><td>0.8660254037844386</td><td>0.49999999999999994</td><td>-0.8660254037844387</td><td>-0.5000000000000997</td><td>0.8660254037843811</td><td>-0.5000000000000014</td><td>0.8660254037844378</td><td>0.0</td><td>1.0</td><td>(46,[1,15,31,32,3...</td></tr>\n",
       "<tr><td>2015-05-13 23:00:00</td><td>LARCENY/THEFT</td><td>GRAND THEFT FROM ...</td><td>Wednesday</td><td>CENTRAL</td><td>NONE</td><td>JEFFERSON ST / LE...</td><td>-122.41909</td><td>37.8078</td><td>5</td><td>2015</td><td>13</td><td>23</td><td>0</td><td>1.0</td><td>4.0</td><td>0.0</td><td>0.0</td><td>(6,[1],[1.0])</td><td>(9,[4],[1.0])</td><td>(16,[0],[1.0])</td><td>(38,[0],[1.0])</td><td>[grand, theft, fr...</td><td>[1.31853253841400...</td><td>0.5</td><td>0.8660254037844386</td><td>0.49999999999999994</td><td>-0.8660254037844387</td><td>-0.5000000000000997</td><td>0.8660254037843811</td><td>-0.5000000000000014</td><td>0.8660254037844378</td><td>0.0</td><td>1.0</td><td>(46,[1,10,15,31,3...</td></tr>\n",
       "<tr><td>2015-05-13 22:58:00</td><td>LARCENY/THEFT</td><td>PETTY THEFT FROM ...</td><td>Wednesday</td><td>CENTRAL</td><td>NONE</td><td>JEFFERSON ST / LE...</td><td>-122.41909</td><td>37.8078</td><td>5</td><td>2015</td><td>13</td><td>22</td><td>58</td><td>1.0</td><td>4.0</td><td>0.0</td><td>0.0</td><td>(6,[1],[1.0])</td><td>(9,[4],[1.0])</td><td>(16,[0],[1.0])</td><td>(38,[0],[1.0])</td><td>[petty, theft, fr...</td><td>[1.28837954998016...</td><td>0.5</td><td>0.8660254037844386</td><td>0.49999999999999994</td><td>-0.8660254037844387</td><td>-0.5000000000000997</td><td>0.8660254037843811</td><td>-0.8660254037844392</td><td>0.4999999999999991</td><td>-0.8660254037844386</td><td>0.5</td><td>(46,[1,10,15,31,3...</td></tr>\n",
       "<tr><td>2015-05-13 22:30:00</td><td>OTHER OFFENSES</td><td>MISCELLANEOUS INV...</td><td>Wednesday</td><td>TARAVAL</td><td>NONE</td><td>0 Block of ESCOLT...</td><td>-122.48798</td><td>37.737667</td><td>5</td><td>2015</td><td>13</td><td>22</td><td>30</td><td>1.0</td><td>7.0</td><td>0.0</td><td>1.0</td><td>(6,[1],[1.0])</td><td>(9,[7],[1.0])</td><td>(16,[0],[1.0])</td><td>(38,[1],[1.0])</td><td>[miscellaneous, i...</td><td>[-0.8530261795967...</td><td>0.5</td><td>0.8660254037844386</td><td>0.49999999999999994</td><td>-0.8660254037844387</td><td>-0.5000000000000997</td><td>0.8660254037843811</td><td>-0.8660254037844392</td><td>0.4999999999999991</td><td>2.388680238973927...</td><td>-1.0</td><td>(46,[1,13,15,31,3...</td></tr>\n",
       "<tr><td>2015-05-13 22:30:00</td><td>VANDALISM</td><td>MALICIOUS MISCHIE...</td><td>Wednesday</td><td>TENDERLOIN</td><td>NONE</td><td>TURK ST / JONES ST</td><td>-122.412415</td><td>37.783005</td><td>5</td><td>2015</td><td>13</td><td>22</td><td>30</td><td>1.0</td><td>5.0</td><td>0.0</td><td>6.0</td><td>(6,[1],[1.0])</td><td>(9,[5],[1.0])</td><td>(16,[0],[1.0])</td><td>(38,[6],[1.0])</td><td>[malicious, misch...</td><td>[-3.2722586989402...</td><td>0.5</td><td>0.8660254037844386</td><td>0.49999999999999994</td><td>-0.8660254037844387</td><td>-0.5000000000000997</td><td>0.8660254037843811</td><td>-0.8660254037844392</td><td>0.4999999999999991</td><td>2.388680238973927...</td><td>-1.0</td><td>(46,[1,11,15,31,3...</td></tr>\n",
       "<tr><td>2015-05-13 22:06:00</td><td>LARCENY/THEFT</td><td>GRAND THEFT FROM ...</td><td>Wednesday</td><td>NORTHERN</td><td>NONE</td><td>FILLMORE ST / GEA...</td><td>-122.432915</td><td>37.784355</td><td>5</td><td>2015</td><td>13</td><td>22</td><td>6</td><td>1.0</td><td>2.0</td><td>0.0</td><td>0.0</td><td>(6,[1],[1.0])</td><td>(9,[2],[1.0])</td><td>(16,[0],[1.0])</td><td>(38,[0],[1.0])</td><td>[grand, theft, fr...</td><td>[1.31853253841400...</td><td>0.5</td><td>0.8660254037844386</td><td>0.49999999999999994</td><td>-0.8660254037844387</td><td>-0.5000000000000997</td><td>0.8660254037843811</td><td>-0.8660254037844392</td><td>0.4999999999999991</td><td>1.224646799147353...</td><td>-1.0</td><td>(46,[1,8,15,31,32...</td></tr>\n",
       "<tr><td>2015-05-13 22:00:00</td><td>NON-CRIMINAL</td><td>FOUND PROPERTY</td><td>Wednesday</td><td>BAYVIEW</td><td>NONE</td><td>200 Block of WILL...</td><td>-122.39774</td><td>37.729935</td><td>5</td><td>2015</td><td>13</td><td>22</td><td>0</td><td>1.0</td><td>3.0</td><td>0.0</td><td>2.0</td><td>(6,[1],[1.0])</td><td>(9,[3],[1.0])</td><td>(16,[0],[1.0])</td><td>(38,[2],[1.0])</td><td>[found, property]</td><td>[-6.3667773976922...</td><td>0.5</td><td>0.8660254037844386</td><td>0.49999999999999994</td><td>-0.8660254037844387</td><td>-0.5000000000000997</td><td>0.8660254037843811</td><td>-0.8660254037844392</td><td>0.4999999999999991</td><td>0.0</td><td>1.0</td><td>(46,[1,9,15,31,32...</td></tr>\n",
       "<tr><td>2015-05-13 22:00:00</td><td>NON-CRIMINAL</td><td>FOUND PROPERTY</td><td>Wednesday</td><td>BAYVIEW</td><td>NONE</td><td>0 Block of MENDEL...</td><td>-122.38369</td><td>37.74319</td><td>5</td><td>2015</td><td>13</td><td>22</td><td>0</td><td>1.0</td><td>3.0</td><td>0.0</td><td>2.0</td><td>(6,[1],[1.0])</td><td>(9,[3],[1.0])</td><td>(16,[0],[1.0])</td><td>(38,[2],[1.0])</td><td>[found, property]</td><td>[-6.3667773976922...</td><td>0.5</td><td>0.8660254037844386</td><td>0.49999999999999994</td><td>-0.8660254037844387</td><td>-0.5000000000000997</td><td>0.8660254037843811</td><td>-0.8660254037844392</td><td>0.4999999999999991</td><td>0.0</td><td>1.0</td><td>(46,[1,9,15,31,32...</td></tr>\n",
       "<tr><td>2015-05-13 22:00:00</td><td>ROBBERY</td><td>ROBBERY, ARMED WI...</td><td>Wednesday</td><td>TENDERLOIN</td><td>NONE</td><td>EDDY ST / JONES ST</td><td>-122.4126</td><td>37.78393</td><td>5</td><td>2015</td><td>13</td><td>22</td><td>0</td><td>1.0</td><td>5.0</td><td>0.0</td><td>11.0</td><td>(6,[1],[1.0])</td><td>(9,[5],[1.0])</td><td>(16,[0],[1.0])</td><td>(38,[11],[1.0])</td><td>[robbery,, armed,...</td><td>[1.62396484613418...</td><td>0.5</td><td>0.8660254037844386</td><td>0.49999999999999994</td><td>-0.8660254037844387</td><td>-0.5000000000000997</td><td>0.8660254037843811</td><td>-0.8660254037844392</td><td>0.4999999999999991</td><td>0.0</td><td>1.0</td><td>(46,[1,11,15,31,3...</td></tr>\n",
       "<tr><td>2015-05-13 21:55:00</td><td>ASSAULT</td><td>AGGRAVATED ASSAUL...</td><td>Wednesday</td><td>INGLESIDE</td><td>NONE</td><td>GODEUS ST / MISSI...</td><td>-122.421684</td><td>37.74282</td><td>5</td><td>2015</td><td>13</td><td>21</td><td>55</td><td>1.0</td><td>6.0</td><td>0.0</td><td>3.0</td><td>(6,[1],[1.0])</td><td>(9,[6],[1.0])</td><td>(16,[0],[1.0])</td><td>(38,[3],[1.0])</td><td>[aggravated, assa...</td><td>[2.23760633468627...</td><td>0.5</td><td>0.8660254037844386</td><td>0.49999999999999994</td><td>-0.8660254037844387</td><td>-0.5000000000000997</td><td>0.8660254037843811</td><td>-1.0</td><td>-4.28626379701573...</td><td>-0.5000000000000016</td><td>-0.8660254037844377</td><td>(46,[1,12,15,31,3...</td></tr>\n",
       "<tr><td>2015-05-13 21:40:00</td><td>OTHER OFFENSES</td><td>TRAFFIC VIOLATION</td><td>Wednesday</td><td>BAYVIEW</td><td>ARREST, BOOKED</td><td>MENDELL ST / HUDS...</td><td>-122.3864</td><td>37.738983</td><td>5</td><td>2015</td><td>13</td><td>21</td><td>40</td><td>1.0</td><td>3.0</td><td>1.0</td><td>1.0</td><td>(6,[1],[1.0])</td><td>(9,[3],[1.0])</td><td>(16,[1],[1.0])</td><td>(38,[1],[1.0])</td><td>[traffic, violation]</td><td>[-0.8030822575092...</td><td>0.5</td><td>0.8660254037844386</td><td>0.49999999999999994</td><td>-0.8660254037844387</td><td>-0.5000000000000997</td><td>0.8660254037843811</td><td>-1.0</td><td>-4.28626379701573...</td><td>0.8660254037844385</td><td>-0.5000000000000003</td><td>(46,[1,9,16,31,32...</td></tr>\n",
       "<tr><td>2015-05-13 21:30:00</td><td>NON-CRIMINAL</td><td>FOUND PROPERTY</td><td>Wednesday</td><td>TENDERLOIN</td><td>NONE</td><td>100 Block of JONE...</td><td>-122.41225</td><td>37.782555</td><td>5</td><td>2015</td><td>13</td><td>21</td><td>30</td><td>1.0</td><td>5.0</td><td>0.0</td><td>2.0</td><td>(6,[1],[1.0])</td><td>(9,[5],[1.0])</td><td>(16,[0],[1.0])</td><td>(38,[2],[1.0])</td><td>[found, property]</td><td>[-6.3667773976922...</td><td>0.5</td><td>0.8660254037844386</td><td>0.49999999999999994</td><td>-0.8660254037844387</td><td>-0.5000000000000997</td><td>0.8660254037843811</td><td>-1.0</td><td>-4.28626379701573...</td><td>2.388680238973927...</td><td>-1.0</td><td>(46,[1,11,15,31,3...</td></tr>\n",
       "</table>\n",
       "only showing top 20 rows\n"
      ],
      "text/plain": [
       "+-------------------+--------------+--------------------+---------+----------+--------------+--------------------+-----------+---------+-----+----+---+----+------+---------------+----------------+----------------+--------------+-------------+--------------+--------------+---------------+--------------------+--------------------+-------+------------------+-------------------+-------------------+-------------------+------------------+-------------------+--------------------+--------------------+--------------------+--------------------+\n",
       "|              Dates|      Category|            Descript|DayOfWeek|PdDistrict|    Resolution|             Address|          X|        Y|month|year|day|hour|minute|DayOfWeek_index|PdDistrict_index|Resolution_index|Category_index|DayOfWeek_vec|PdDistrict_vec|Resolution_vec|   Category_vec|      Descript_words|        Descript_vec|day_sin|           day_cos|          month_sin|          month_cos|           year_sin|          year_cos|           hour_sin|            hour_cos|          minute_sin|          minute_cos|            features|\n",
       "+-------------------+--------------+--------------------+---------+----------+--------------+--------------------+-----------+---------+-----+----+---+----+------+---------------+----------------+----------------+--------------+-------------+--------------+--------------+---------------+--------------------+--------------------+-------+------------------+-------------------+-------------------+-------------------+------------------+-------------------+--------------------+--------------------+--------------------+--------------------+\n",
       "|2015-05-13 23:53:00|      WARRANTS|      WARRANT ARREST|Wednesday|  NORTHERN|ARREST, BOOKED|  OAK ST / LAGUNA ST| -122.42589|37.774597|    5|2015| 13|  23|    53|            1.0|             2.0|             1.0|           7.0|(6,[1],[1.0])| (9,[2],[1.0])|(16,[1],[1.0])| (38,[7],[1.0])|   [warrant, arrest]|[-3.3177111446857...|    0.5|0.8660254037844386|0.49999999999999994|-0.8660254037844387|-0.5000000000000997|0.8660254037843811|-0.5000000000000014|  0.8660254037844378|  0.5000000000000004| -0.8660254037844384|(46,[1,8,16,31,32...|\n",
       "|2015-05-13 23:53:00|OTHER OFFENSES|TRAFFIC VIOLATION...|Wednesday|  NORTHERN|ARREST, BOOKED|  OAK ST / LAGUNA ST| -122.42589|37.774597|    5|2015| 13|  23|    53|            1.0|             2.0|             1.0|           1.0|(6,[1],[1.0])| (9,[2],[1.0])|(16,[1],[1.0])| (38,[1],[1.0])|[traffic, violati...|[-0.5560210943222...|    0.5|0.8660254037844386|0.49999999999999994|-0.8660254037844387|-0.5000000000000997|0.8660254037843811|-0.5000000000000014|  0.8660254037844378|  0.5000000000000004| -0.8660254037844384|(46,[1,8,16,31,32...|\n",
       "|2015-05-13 23:33:00|OTHER OFFENSES|TRAFFIC VIOLATION...|Wednesday|  NORTHERN|ARREST, BOOKED|VANNESS AV / GREE...| -122.42436|37.800415|    5|2015| 13|  23|    33|            1.0|             2.0|             1.0|           1.0|(6,[1],[1.0])| (9,[2],[1.0])|(16,[1],[1.0])| (38,[1],[1.0])|[traffic, violati...|[-0.5560210943222...|    0.5|0.8660254037844386|0.49999999999999994|-0.8660254037844387|-0.5000000000000997|0.8660254037843811|-0.5000000000000014|  0.8660254037844378|                -1.0|1.102801099869206...|(46,[1,8,16,31,32...|\n",
       "|2015-05-13 23:30:00| LARCENY/THEFT|GRAND THEFT FROM ...|Wednesday|  NORTHERN|          NONE|1500 Block of LOM...|-122.426994|37.800873|    5|2015| 13|  23|    30|            1.0|             2.0|             0.0|           0.0|(6,[1],[1.0])| (9,[2],[1.0])|(16,[0],[1.0])| (38,[0],[1.0])|[grand, theft, fr...|[1.31853253841400...|    0.5|0.8660254037844386|0.49999999999999994|-0.8660254037844387|-0.5000000000000997|0.8660254037843811|-0.5000000000000014|  0.8660254037844378|2.388680238973927...|                -1.0|(46,[1,8,15,31,32...|\n",
       "|2015-05-13 23:30:00| LARCENY/THEFT|GRAND THEFT FROM ...|Wednesday|      PARK|          NONE|100 Block of BROD...|-122.438736| 37.77154|    5|2015| 13|  23|    30|            1.0|             8.0|             0.0|           0.0|(6,[1],[1.0])| (9,[8],[1.0])|(16,[0],[1.0])| (38,[0],[1.0])|[grand, theft, fr...|[1.31853253841400...|    0.5|0.8660254037844386|0.49999999999999994|-0.8660254037844387|-0.5000000000000997|0.8660254037843811|-0.5000000000000014|  0.8660254037844378|2.388680238973927...|                -1.0|(46,[1,14,15,31,3...|\n",
       "|2015-05-13 23:30:00| LARCENY/THEFT|GRAND THEFT FROM ...|Wednesday| INGLESIDE|          NONE| 0 Block of TEDDY AV| -122.40325|37.713432|    5|2015| 13|  23|    30|            1.0|             6.0|             0.0|           0.0|(6,[1],[1.0])| (9,[6],[1.0])|(16,[0],[1.0])| (38,[0],[1.0])|[grand, theft, fr...|[1.29471199512481...|    0.5|0.8660254037844386|0.49999999999999994|-0.8660254037844387|-0.5000000000000997|0.8660254037843811|-0.5000000000000014|  0.8660254037844378|2.388680238973927...|                -1.0|(46,[1,12,15,31,3...|\n",
       "|2015-05-13 23:30:00| VEHICLE THEFT|   STOLEN AUTOMOBILE|Wednesday| INGLESIDE|          NONE| AVALON AV / PERU AV|-122.423325| 37.72514|    5|2015| 13|  23|    30|            1.0|             6.0|             0.0|           5.0|(6,[1],[1.0])| (9,[6],[1.0])|(16,[0],[1.0])| (38,[5],[1.0])|[stolen, automobile]|[-1.0004404783248...|    0.5|0.8660254037844386|0.49999999999999994|-0.8660254037844387|-0.5000000000000997|0.8660254037843811|-0.5000000000000014|  0.8660254037844378|2.388680238973927...|                -1.0|(46,[1,12,15,31,3...|\n",
       "|2015-05-13 23:30:00| VEHICLE THEFT|   STOLEN AUTOMOBILE|Wednesday|   BAYVIEW|          NONE|KIRKWOOD AV / DON...| -122.37128|37.727566|    5|2015| 13|  23|    30|            1.0|             3.0|             0.0|           5.0|(6,[1],[1.0])| (9,[3],[1.0])|(16,[0],[1.0])| (38,[5],[1.0])|[stolen, automobile]|[-1.0004404783248...|    0.5|0.8660254037844386|0.49999999999999994|-0.8660254037844387|-0.5000000000000997|0.8660254037843811|-0.5000000000000014|  0.8660254037844378|2.388680238973927...|                -1.0|(46,[1,9,15,31,32...|\n",
       "|2015-05-13 23:00:00| LARCENY/THEFT|GRAND THEFT FROM ...|Wednesday|  RICHMOND|          NONE|600 Block of 47TH AV|-122.508194|  37.7766|    5|2015| 13|  23|     0|            1.0|             9.0|             0.0|           0.0|(6,[1],[1.0])|     (9,[],[])|(16,[0],[1.0])| (38,[0],[1.0])|[grand, theft, fr...|[1.31853253841400...|    0.5|0.8660254037844386|0.49999999999999994|-0.8660254037844387|-0.5000000000000997|0.8660254037843811|-0.5000000000000014|  0.8660254037844378|                 0.0|                 1.0|(46,[1,15,31,32,3...|\n",
       "|2015-05-13 23:00:00| LARCENY/THEFT|GRAND THEFT FROM ...|Wednesday|   CENTRAL|          NONE|JEFFERSON ST / LE...| -122.41909|  37.8078|    5|2015| 13|  23|     0|            1.0|             4.0|             0.0|           0.0|(6,[1],[1.0])| (9,[4],[1.0])|(16,[0],[1.0])| (38,[0],[1.0])|[grand, theft, fr...|[1.31853253841400...|    0.5|0.8660254037844386|0.49999999999999994|-0.8660254037844387|-0.5000000000000997|0.8660254037843811|-0.5000000000000014|  0.8660254037844378|                 0.0|                 1.0|(46,[1,10,15,31,3...|\n",
       "|2015-05-13 22:58:00| LARCENY/THEFT|PETTY THEFT FROM ...|Wednesday|   CENTRAL|          NONE|JEFFERSON ST / LE...| -122.41909|  37.8078|    5|2015| 13|  22|    58|            1.0|             4.0|             0.0|           0.0|(6,[1],[1.0])| (9,[4],[1.0])|(16,[0],[1.0])| (38,[0],[1.0])|[petty, theft, fr...|[1.28837954998016...|    0.5|0.8660254037844386|0.49999999999999994|-0.8660254037844387|-0.5000000000000997|0.8660254037843811|-0.8660254037844392|  0.4999999999999991| -0.8660254037844386|                 0.5|(46,[1,10,15,31,3...|\n",
       "|2015-05-13 22:30:00|OTHER OFFENSES|MISCELLANEOUS INV...|Wednesday|   TARAVAL|          NONE|0 Block of ESCOLT...| -122.48798|37.737667|    5|2015| 13|  22|    30|            1.0|             7.0|             0.0|           1.0|(6,[1],[1.0])| (9,[7],[1.0])|(16,[0],[1.0])| (38,[1],[1.0])|[miscellaneous, i...|[-0.8530261795967...|    0.5|0.8660254037844386|0.49999999999999994|-0.8660254037844387|-0.5000000000000997|0.8660254037843811|-0.8660254037844392|  0.4999999999999991|2.388680238973927...|                -1.0|(46,[1,13,15,31,3...|\n",
       "|2015-05-13 22:30:00|     VANDALISM|MALICIOUS MISCHIE...|Wednesday|TENDERLOIN|          NONE|  TURK ST / JONES ST|-122.412415|37.783005|    5|2015| 13|  22|    30|            1.0|             5.0|             0.0|           6.0|(6,[1],[1.0])| (9,[5],[1.0])|(16,[0],[1.0])| (38,[6],[1.0])|[malicious, misch...|[-3.2722586989402...|    0.5|0.8660254037844386|0.49999999999999994|-0.8660254037844387|-0.5000000000000997|0.8660254037843811|-0.8660254037844392|  0.4999999999999991|2.388680238973927...|                -1.0|(46,[1,11,15,31,3...|\n",
       "|2015-05-13 22:06:00| LARCENY/THEFT|GRAND THEFT FROM ...|Wednesday|  NORTHERN|          NONE|FILLMORE ST / GEA...|-122.432915|37.784355|    5|2015| 13|  22|     6|            1.0|             2.0|             0.0|           0.0|(6,[1],[1.0])| (9,[2],[1.0])|(16,[0],[1.0])| (38,[0],[1.0])|[grand, theft, fr...|[1.31853253841400...|    0.5|0.8660254037844386|0.49999999999999994|-0.8660254037844387|-0.5000000000000997|0.8660254037843811|-0.8660254037844392|  0.4999999999999991|1.224646799147353...|                -1.0|(46,[1,8,15,31,32...|\n",
       "|2015-05-13 22:00:00|  NON-CRIMINAL|      FOUND PROPERTY|Wednesday|   BAYVIEW|          NONE|200 Block of WILL...| -122.39774|37.729935|    5|2015| 13|  22|     0|            1.0|             3.0|             0.0|           2.0|(6,[1],[1.0])| (9,[3],[1.0])|(16,[0],[1.0])| (38,[2],[1.0])|   [found, property]|[-6.3667773976922...|    0.5|0.8660254037844386|0.49999999999999994|-0.8660254037844387|-0.5000000000000997|0.8660254037843811|-0.8660254037844392|  0.4999999999999991|                 0.0|                 1.0|(46,[1,9,15,31,32...|\n",
       "|2015-05-13 22:00:00|  NON-CRIMINAL|      FOUND PROPERTY|Wednesday|   BAYVIEW|          NONE|0 Block of MENDEL...| -122.38369| 37.74319|    5|2015| 13|  22|     0|            1.0|             3.0|             0.0|           2.0|(6,[1],[1.0])| (9,[3],[1.0])|(16,[0],[1.0])| (38,[2],[1.0])|   [found, property]|[-6.3667773976922...|    0.5|0.8660254037844386|0.49999999999999994|-0.8660254037844387|-0.5000000000000997|0.8660254037843811|-0.8660254037844392|  0.4999999999999991|                 0.0|                 1.0|(46,[1,9,15,31,32...|\n",
       "|2015-05-13 22:00:00|       ROBBERY|ROBBERY, ARMED WI...|Wednesday|TENDERLOIN|          NONE|  EDDY ST / JONES ST|  -122.4126| 37.78393|    5|2015| 13|  22|     0|            1.0|             5.0|             0.0|          11.0|(6,[1],[1.0])| (9,[5],[1.0])|(16,[0],[1.0])|(38,[11],[1.0])|[robbery,, armed,...|[1.62396484613418...|    0.5|0.8660254037844386|0.49999999999999994|-0.8660254037844387|-0.5000000000000997|0.8660254037843811|-0.8660254037844392|  0.4999999999999991|                 0.0|                 1.0|(46,[1,11,15,31,3...|\n",
       "|2015-05-13 21:55:00|       ASSAULT|AGGRAVATED ASSAUL...|Wednesday| INGLESIDE|          NONE|GODEUS ST / MISSI...|-122.421684| 37.74282|    5|2015| 13|  21|    55|            1.0|             6.0|             0.0|           3.0|(6,[1],[1.0])| (9,[6],[1.0])|(16,[0],[1.0])| (38,[3],[1.0])|[aggravated, assa...|[2.23760633468627...|    0.5|0.8660254037844386|0.49999999999999994|-0.8660254037844387|-0.5000000000000997|0.8660254037843811|               -1.0|-4.28626379701573...| -0.5000000000000016| -0.8660254037844377|(46,[1,12,15,31,3...|\n",
       "|2015-05-13 21:40:00|OTHER OFFENSES|   TRAFFIC VIOLATION|Wednesday|   BAYVIEW|ARREST, BOOKED|MENDELL ST / HUDS...|  -122.3864|37.738983|    5|2015| 13|  21|    40|            1.0|             3.0|             1.0|           1.0|(6,[1],[1.0])| (9,[3],[1.0])|(16,[1],[1.0])| (38,[1],[1.0])|[traffic, violation]|[-0.8030822575092...|    0.5|0.8660254037844386|0.49999999999999994|-0.8660254037844387|-0.5000000000000997|0.8660254037843811|               -1.0|-4.28626379701573...|  0.8660254037844385| -0.5000000000000003|(46,[1,9,16,31,32...|\n",
       "|2015-05-13 21:30:00|  NON-CRIMINAL|      FOUND PROPERTY|Wednesday|TENDERLOIN|          NONE|100 Block of JONE...| -122.41225|37.782555|    5|2015| 13|  21|    30|            1.0|             5.0|             0.0|           2.0|(6,[1],[1.0])| (9,[5],[1.0])|(16,[0],[1.0])| (38,[2],[1.0])|   [found, property]|[-6.3667773976922...|    0.5|0.8660254037844386|0.49999999999999994|-0.8660254037844387|-0.5000000000000997|0.8660254037843811|               -1.0|-4.28626379701573...|2.388680238973927...|                -1.0|(46,[1,11,15,31,3...|\n",
       "+-------------------+--------------+--------------------+---------+----------+--------------+--------------------+-----------+---------+-----+----+---+----+------+---------------+----------------+----------------+--------------+-------------+--------------+--------------+---------------+--------------------+--------------------+-------+------------------+-------------------+-------------------+-------------------+------------------+-------------------+--------------------+--------------------+--------------------+--------------------+\n",
       "only showing top 20 rows"
      ]
     },
     "execution_count": 11,
     "metadata": {},
     "output_type": "execute_result"
    }
   ],
   "source": [
    "from pyspark.sql import SparkSession\n",
    "from pyspark.ml.feature import StringIndexer, OneHotEncoder, VectorAssembler, HashingTF, IDF, Word2Vec, Tokenizer, MinMaxScaler, Word2VecModel, Word2Vec\n",
    "from pyspark.sql.functions import udf, col, explode, dayofmonth, month, year, radians, sin, cos, lit\n",
    "from pyspark.sql.types import DoubleType, StringType, ArrayType\n",
    "from pyspark.ml import Pipeline\n",
    "from pyspark.ml import Transformer\n",
    "from pyspark.ml.param.shared import HasInputCol, HasOutputCols\n",
    "from pyspark.sql import DataFrame\n",
    "import math\n",
    "from pyspark.ml.linalg import SparseVector\n",
    "\n",
    "\n",
    "df_new = df\n",
    "\n",
    "cat_features = ['DayOfWeek', 'PdDistrict', 'Resolution', 'Category']\n",
    "num_features = ['X', 'Y']\n",
    "text_features = ['Descript']\n",
    "\n",
    "\n",
    "df_new = df_new.withColumn('month', month('Dates'))\n",
    "df_new = df_new.withColumn('year', year('Dates'))\n",
    "df_new = df_new.withColumn('day', dayofmonth('Dates'))\n",
    "df_new = df_new.withColumn('hour', df_new.Dates.cast('string').substr(12, 2).cast('int'))\n",
    "df_new = df_new.withColumn('minute', df_new.Dates.cast('string').substr(15, 2).cast('int'))\n",
    "\n",
    "date_time_features = ['day', 'month', 'year', 'hour', 'minute']\n",
    "\n",
    "\n",
    "# convert X, Y to float\n",
    "df_new = df_new.withColumn('X', df_new['X'].cast('float'))\n",
    "df_new = df_new.withColumn('Y', df_new['Y'].cast('float'))\n",
    "\n",
    "\n",
    "# convert the string labels to numbers\n",
    "indexers = [StringIndexer(inputCol=column, outputCol=column+\"_index\").fit(df) for column in cat_features]\n",
    "\n",
    "# convert the numbers to one hot vectors\n",
    "encoders = [OneHotEncoder(inputCol=column+\"_index\", outputCol=column+\"_vec\") for column in cat_features]\n",
    "\n",
    "# tokenize the text\n",
    "tokenizers = [Tokenizer(inputCol=column, outputCol=f\"{column}_words\") for column in text_features]\n",
    "\n",
    "# convert the text to vectors using Word2Vec\n",
    "word2Vecs = [Word2Vec(vectorSize=3, minCount=0, inputCol=f\"{column}_words\", outputCol=f\"{column}_vec\") for column in text_features]\n",
    "\n",
    "date_time_encoders = [DateTimeTransformer(inputCol=column, outputCols=[f\"{column}_sin\", f\"{column}_cos\"]) for column in date_time_features]\n",
    "\n",
    "# assemble the features\n",
    "assembler = VectorAssembler(inputCols=['DayOfWeek_vec', 'PdDistrict_vec', 'Resolution_vec', 'Descript_vec', 'X', 'Y', 'day_sin', 'day_cos', 'month_sin', 'month_cos', 'year_sin', 'year_cos', 'hour_sin', 'hour_cos', 'minute_sin', 'minute_cos'], outputCol='features')\n",
    "\n",
    "# create a pipeline\n",
    "pipeline = Pipeline(stages=indexers + encoders + tokenizers + word2Vecs + date_time_encoders + [assembler])\n",
    "\n",
    "# fit the pipeline\n",
    "model = pipeline.fit(df_new)\n",
    "df_new = model.transform(df_new)\n",
    "\n",
    "df_new"
   ]
  },
  {
   "cell_type": "code",
   "execution_count": 12,
   "metadata": {},
   "outputs": [
    {
     "name": "stdout",
     "output_type": "stream",
     "text": [
      "+--------------------+-----+\n",
      "|            features|label|\n",
      "+--------------------+-----+\n",
      "|(46,[1,8,16,31,32...|  7.0|\n",
      "|(46,[1,8,16,31,32...|  1.0|\n",
      "|(46,[1,8,16,31,32...|  1.0|\n",
      "|(46,[1,8,15,31,32...|  0.0|\n",
      "|(46,[1,14,15,31,3...|  0.0|\n",
      "|(46,[1,12,15,31,3...|  0.0|\n",
      "|(46,[1,12,15,31,3...|  5.0|\n",
      "|(46,[1,9,15,31,32...|  5.0|\n",
      "|(46,[1,15,31,32,3...|  0.0|\n",
      "|(46,[1,10,15,31,3...|  0.0|\n",
      "|(46,[1,10,15,31,3...|  0.0|\n",
      "|(46,[1,13,15,31,3...|  1.0|\n",
      "|(46,[1,11,15,31,3...|  6.0|\n",
      "|(46,[1,8,15,31,32...|  0.0|\n",
      "|(46,[1,9,15,31,32...|  2.0|\n",
      "|(46,[1,9,15,31,32...|  2.0|\n",
      "|(46,[1,11,15,31,3...| 11.0|\n",
      "|(46,[1,12,15,31,3...|  3.0|\n",
      "|(46,[1,9,16,31,32...|  1.0|\n",
      "|(46,[1,11,15,31,3...|  2.0|\n",
      "+--------------------+-----+\n",
      "only showing top 20 rows\n",
      "\n"
     ]
    }
   ],
   "source": [
    "# select ('features', 'category_index')\n",
    "df_final = df_new.select('features', 'Category_index').withColumnRenamed('Category_index', 'label')\n",
    "df_final.show()"
   ]
  },
  {
   "cell_type": "code",
   "execution_count": 13,
   "metadata": {},
   "outputs": [
    {
     "name": "stdout",
     "output_type": "stream",
     "text": [
      "+-----+\n",
      "|label|\n",
      "+-----+\n",
      "|  0.0|\n",
      "|  1.0|\n",
      "|  2.0|\n",
      "|  3.0|\n",
      "|  4.0|\n",
      "|  5.0|\n",
      "|  6.0|\n",
      "|  7.0|\n",
      "|  8.0|\n",
      "|  9.0|\n",
      "| 10.0|\n",
      "| 11.0|\n",
      "| 12.0|\n",
      "| 13.0|\n",
      "| 14.0|\n",
      "| 15.0|\n",
      "| 16.0|\n",
      "| 17.0|\n",
      "| 18.0|\n",
      "| 19.0|\n",
      "+-----+\n",
      "only showing top 20 rows\n",
      "\n"
     ]
    }
   ],
   "source": [
    "# Category_index uniqu\n",
    "df_final.select('label').distinct().sort('label').show()"
   ]
  },
  {
   "cell_type": "code",
   "execution_count": 14,
   "metadata": {},
   "outputs": [],
   "source": [
    "# split the data\n",
    "train_data, test_data = df_final.randomSplit([0.7, 0.3])"
   ]
  },
  {
   "cell_type": "markdown",
   "metadata": {},
   "source": [
    "## Logistic Regression"
   ]
  },
  {
   "cell_type": "code",
   "execution_count": 33,
   "metadata": {},
   "outputs": [
    {
     "name": "stderr",
     "output_type": "stream",
     "text": [
      "                                                                                \r"
     ]
    },
    {
     "name": "stdout",
     "output_type": "stream",
     "text": [
      "Iteration 0: Loss = 2.6805224692650844\n",
      "Iteration 1: Loss = 2.2552143493286216\n",
      "Iteration 2: Loss = 1.8027961965389827\n",
      "Iteration 3: Loss = 1.6219508539718897\n",
      "Iteration 4: Loss = 1.4648099833874033\n",
      "Iteration 5: Loss = 1.3537100866384157\n",
      "Iteration 6: Loss = 1.29189427510797\n",
      "Iteration 7: Loss = 1.243317464258179\n",
      "Iteration 8: Loss = 1.2004382882580515\n",
      "Iteration 9: Loss = 1.1697030915689903\n",
      "Iteration 10: Loss = 1.1403089540072364\n"
     ]
    }
   ],
   "source": [
    "# Logistic Regression\n",
    "from pyspark.ml.classification import LogisticRegression\n",
    "\n",
    "\n",
    "# create the model\n",
    "lr = LogisticRegression(featuresCol='features', labelCol='label', maxIter=10)\n",
    "\n",
    "# fit the model\n",
    "lr_model = lr.fit(train_data)\n",
    "\n",
    "for iteration, loss in enumerate(lr_model.summary.objectiveHistory):\n",
    "    print(f\"Iteration {iteration}: Loss = {loss}\")"
   ]
  },
  {
   "cell_type": "code",
   "execution_count": 34,
   "metadata": {},
   "outputs": [
    {
     "data": {
      "image/png": "[encoded data removed]",
      "text/plain": [
       "<Figure size 640x480 with 1 Axes>"
      ]
     },
     "metadata": {},
     "output_type": "display_data"
    }
   ],
   "source": [
    "import matplotlib.pyplot as plt\n",
    "\n",
    "# plot the loss for each iteration\n",
    "plt.plot(lr_model.summary.objectiveHistory)\n",
    "plt.title('Loss Curve')\n",
    "plt.xlabel('Iteration')\n",
    "plt.ylabel('Loss')\n",
    "plt.show()\n"
   ]
  },
  {
   "cell_type": "code",
   "execution_count": 15,
   "metadata": {},
   "outputs": [
    {
     "name": "stderr",
     "output_type": "stream",
     "text": [
      "[Stage 69:>                                                         (0 + 1) / 1]\r"
     ]
    },
    {
     "name": "stdout",
     "output_type": "stream",
     "text": [
      "+-----+----------+\n",
      "|label|prediction|\n",
      "+-----+----------+\n",
      "|  3.0|       3.0|\n",
      "|  2.0|       2.0|\n",
      "|  2.0|       2.0|\n",
      "|  2.0|       2.0|\n",
      "|  2.0|       2.0|\n",
      "+-----+----------+\n",
      "only showing top 5 rows\n",
      "\n"
     ]
    },
    {
     "name": "stderr",
     "output_type": "stream",
     "text": [
      "                                                                                \r"
     ]
    }
   ],
   "source": [
    "predictions = lr_model.transform(test_data)\n",
    "predictions.select(['label', 'prediction']).show(5)"
   ]
  },
  {
   "cell_type": "code",
   "execution_count": 16,
   "metadata": {},
   "outputs": [
    {
     "name": "stderr",
     "output_type": "stream",
     "text": [
      "                                                                                \r"
     ]
    },
    {
     "name": "stdout",
     "output_type": "stream",
     "text": [
      "Accuracy: 0.7144806826927087\n"
     ]
    },
    {
     "name": "stderr",
     "output_type": "stream",
     "text": [
      "[Stage 72:=====>                                                   (1 + 9) / 10]\r"
     ]
    },
    {
     "name": "stdout",
     "output_type": "stream",
     "text": [
      "F1 Score: 0.6813237562766474\n"
     ]
    },
    {
     "name": "stderr",
     "output_type": "stream",
     "text": [
      "                                                                                \r"
     ]
    }
   ],
   "source": [
    "# Evaluate the model\n",
    "from pyspark.ml.evaluation import MulticlassClassificationEvaluator\n",
    "\n",
    "# get the accuracy, f1, RMSE\n",
    "evaluator = MulticlassClassificationEvaluator(labelCol='label', predictionCol='prediction', metricName='accuracy')\n",
    "accuracy = evaluator.evaluate(predictions)\n",
    "print('Accuracy: {}'.format(accuracy))\n",
    "\n",
    "evaluator = MulticlassClassificationEvaluator(labelCol='label', predictionCol='prediction', metricName='f1')\n",
    "f1 = evaluator.evaluate(predictions)\n",
    "print('F1 Score: {}'.format(f1))"
   ]
  },
  {
   "cell_type": "code",
   "execution_count": 21,
   "metadata": {},
   "outputs": [
    {
     "name": "stdout",
     "output_type": "stream",
     "text": [
      "0.0\n",
      "0.0\n",
      "10\n",
      "1e-06\n"
     ]
    }
   ],
   "source": [
    "# get the paramters of the model, regParam, elasticNetParam\n",
    "lr_model.explainParams()\n",
    "# get the regParam\n",
    "print(lr_model.getRegParam())\n",
    "# get the elasticNetParam\n",
    "print(lr_model.getElasticNetParam())\n",
    "# maxIter\n",
    "print(lr_model.getMaxIter())\n",
    "# tol\n",
    "print(lr_model.getTol())"
   ]
  },
  {
   "cell_type": "code",
   "execution_count": 18,
   "metadata": {},
   "outputs": [
    {
     "name": "stderr",
     "output_type": "stream",
     "text": [
      "                                                                                \r"
     ]
    },
    {
     "name": "stdout",
     "output_type": "stream",
     "text": [
      "RegParam: 0.0\n",
      "ElasticNetParam: 0.0\n",
      "MaxIter: 10\n",
      "Tol: 1e-06\n",
      "Metric for current fold: 0.6621223358576002\n",
      "====================================\n",
      "RegParam: 0.0\n",
      "ElasticNetParam: 0.0\n",
      "MaxIter: 10\n",
      "Tol: 1e-06\n",
      "Metric for current fold: 0.6621223358576002\n",
      "====================================\n",
      "RegParam: 0.0\n",
      "ElasticNetParam: 0.0\n",
      "MaxIter: 10\n",
      "Tol: 1e-06\n",
      "Metric for current fold: 0.6621223358576002\n",
      "====================================\n",
      "RegParam: 0.0\n",
      "ElasticNetParam: 0.0\n",
      "MaxIter: 10\n",
      "Tol: 1e-06\n",
      "Metric for current fold: 0.7154930127254274\n",
      "====================================\n",
      "RegParam: 0.0\n",
      "ElasticNetParam: 0.0\n",
      "MaxIter: 10\n",
      "Tol: 1e-06\n",
      "Metric for current fold: 0.7154930127254274\n",
      "====================================\n",
      "RegParam: 0.0\n",
      "ElasticNetParam: 0.0\n",
      "MaxIter: 10\n",
      "Tol: 1e-06\n",
      "Metric for current fold: 0.7154930127254274\n",
      "====================================\n",
      "RegParam: 0.0\n",
      "ElasticNetParam: 0.0\n",
      "MaxIter: 10\n",
      "Tol: 1e-06\n",
      "Metric for current fold: 0.6621223358576002\n",
      "====================================\n",
      "RegParam: 0.0\n",
      "ElasticNetParam: 0.0\n",
      "MaxIter: 10\n",
      "Tol: 1e-06\n",
      "Metric for current fold: 0.6621223358576002\n",
      "====================================\n",
      "RegParam: 0.0\n",
      "ElasticNetParam: 0.0\n",
      "MaxIter: 10\n",
      "Tol: 1e-06\n",
      "Metric for current fold: 0.6621223358576002\n",
      "====================================\n",
      "RegParam: 0.0\n",
      "ElasticNetParam: 0.0\n",
      "MaxIter: 10\n",
      "Tol: 1e-06\n",
      "Metric for current fold: 0.7154930127254274\n",
      "====================================\n",
      "RegParam: 0.0\n",
      "ElasticNetParam: 0.0\n",
      "MaxIter: 10\n",
      "Tol: 1e-06\n",
      "Metric for current fold: 0.7154930127254274\n",
      "====================================\n",
      "RegParam: 0.0\n",
      "ElasticNetParam: 0.0\n",
      "MaxIter: 10\n",
      "Tol: 1e-06\n",
      "Metric for current fold: 0.7154930127254274\n",
      "====================================\n",
      "RegParam: 0.0\n",
      "ElasticNetParam: 0.0\n",
      "MaxIter: 10\n",
      "Tol: 1e-06\n",
      "Metric for current fold: 0.6621223358576002\n",
      "====================================\n",
      "RegParam: 0.0\n",
      "ElasticNetParam: 0.0\n",
      "MaxIter: 10\n",
      "Tol: 1e-06\n",
      "Metric for current fold: 0.6621223358576002\n",
      "====================================\n",
      "RegParam: 0.0\n",
      "ElasticNetParam: 0.0\n",
      "MaxIter: 10\n",
      "Tol: 1e-06\n",
      "Metric for current fold: 0.6621223358576002\n",
      "====================================\n",
      "RegParam: 0.0\n",
      "ElasticNetParam: 0.0\n",
      "MaxIter: 10\n",
      "Tol: 1e-06\n",
      "Metric for current fold: 0.7154930127254274\n",
      "====================================\n",
      "RegParam: 0.0\n",
      "ElasticNetParam: 0.0\n",
      "MaxIter: 10\n",
      "Tol: 1e-06\n",
      "Metric for current fold: 0.7154930127254274\n",
      "====================================\n",
      "RegParam: 0.0\n",
      "ElasticNetParam: 0.0\n",
      "MaxIter: 10\n",
      "Tol: 1e-06\n",
      "Metric for current fold: 0.7154930127254274\n",
      "====================================\n",
      "RegParam: 0.0\n",
      "ElasticNetParam: 0.0\n",
      "MaxIter: 10\n",
      "Tol: 1e-06\n",
      "Metric for current fold: 0.5005318526036381\n",
      "====================================\n",
      "RegParam: 0.0\n",
      "ElasticNetParam: 0.0\n",
      "MaxIter: 10\n",
      "Tol: 1e-06\n",
      "Metric for current fold: 0.5005318526036381\n",
      "====================================\n",
      "RegParam: 0.0\n",
      "ElasticNetParam: 0.0\n",
      "MaxIter: 10\n",
      "Tol: 1e-06\n",
      "Metric for current fold: 0.5005318526036381\n",
      "====================================\n",
      "RegParam: 0.0\n",
      "ElasticNetParam: 0.0\n",
      "MaxIter: 10\n",
      "Tol: 1e-06\n",
      "Metric for current fold: 0.5001756577406511\n",
      "====================================\n",
      "RegParam: 0.0\n",
      "ElasticNetParam: 0.0\n",
      "MaxIter: 10\n",
      "Tol: 1e-06\n",
      "Metric for current fold: 0.5001756577406511\n",
      "====================================\n",
      "RegParam: 0.0\n",
      "ElasticNetParam: 0.0\n",
      "MaxIter: 10\n",
      "Tol: 1e-06\n",
      "Metric for current fold: 0.5001756577406511\n",
      "====================================\n",
      "RegParam: 0.0\n",
      "ElasticNetParam: 0.0\n",
      "MaxIter: 10\n",
      "Tol: 1e-06\n",
      "Metric for current fold: 0.4172212897181669\n",
      "====================================\n",
      "RegParam: 0.0\n",
      "ElasticNetParam: 0.0\n",
      "MaxIter: 10\n",
      "Tol: 1e-06\n",
      "Metric for current fold: 0.4172212897181669\n",
      "====================================\n",
      "RegParam: 0.0\n",
      "ElasticNetParam: 0.0\n",
      "MaxIter: 10\n",
      "Tol: 1e-06\n",
      "Metric for current fold: 0.4172212897181669\n",
      "====================================\n",
      "RegParam: 0.0\n",
      "ElasticNetParam: 0.0\n",
      "MaxIter: 10\n",
      "Tol: 1e-06\n",
      "Metric for current fold: 0.419885432118042\n",
      "====================================\n",
      "RegParam: 0.0\n",
      "ElasticNetParam: 0.0\n",
      "MaxIter: 10\n",
      "Tol: 1e-06\n",
      "Metric for current fold: 0.419885432118042\n",
      "====================================\n",
      "RegParam: 0.0\n",
      "ElasticNetParam: 0.0\n",
      "MaxIter: 10\n",
      "Tol: 1e-06\n",
      "Metric for current fold: 0.419885432118042\n",
      "====================================\n",
      "RegParam: 0.0\n",
      "ElasticNetParam: 0.0\n",
      "MaxIter: 10\n",
      "Tol: 1e-06\n",
      "Metric for current fold: 0.34650929034272776\n",
      "====================================\n",
      "RegParam: 0.0\n",
      "ElasticNetParam: 0.0\n",
      "MaxIter: 10\n",
      "Tol: 1e-06\n",
      "Metric for current fold: 0.34650929034272776\n",
      "====================================\n",
      "RegParam: 0.0\n",
      "ElasticNetParam: 0.0\n",
      "MaxIter: 10\n",
      "Tol: 1e-06\n",
      "Metric for current fold: 0.34650929034272776\n",
      "====================================\n",
      "RegParam: 0.0\n",
      "ElasticNetParam: 0.0\n",
      "MaxIter: 10\n",
      "Tol: 1e-06\n",
      "Metric for current fold: 0.33594054961355296\n",
      "====================================\n",
      "RegParam: 0.0\n",
      "ElasticNetParam: 0.0\n",
      "MaxIter: 10\n",
      "Tol: 1e-06\n",
      "Metric for current fold: 0.33594054961355296\n",
      "====================================\n",
      "RegParam: 0.0\n",
      "ElasticNetParam: 0.0\n",
      "MaxIter: 10\n",
      "Tol: 1e-06\n",
      "Metric for current fold: 0.33594054961355296\n",
      "====================================\n",
      "RegParam: 0.0\n",
      "ElasticNetParam: 0.0\n",
      "MaxIter: 10\n",
      "Tol: 1e-06\n",
      "Metric for current fold: 0.39504449996096497\n",
      "====================================\n",
      "RegParam: 0.0\n",
      "ElasticNetParam: 0.0\n",
      "MaxIter: 10\n",
      "Tol: 1e-06\n",
      "Metric for current fold: 0.39504449996096497\n",
      "====================================\n",
      "RegParam: 0.0\n",
      "ElasticNetParam: 0.0\n",
      "MaxIter: 10\n",
      "Tol: 1e-06\n",
      "Metric for current fold: 0.39504449996096497\n",
      "====================================\n",
      "RegParam: 0.0\n",
      "ElasticNetParam: 0.0\n",
      "MaxIter: 10\n",
      "Tol: 1e-06\n",
      "Metric for current fold: 0.394254040128035\n",
      "====================================\n",
      "RegParam: 0.0\n",
      "ElasticNetParam: 0.0\n",
      "MaxIter: 10\n",
      "Tol: 1e-06\n",
      "Metric for current fold: 0.394254040128035\n",
      "====================================\n"
     ]
    },
    {
     "name": "stderr",
     "output_type": "stream",
     "text": [
      "                                                                                \r"
     ]
    },
    {
     "name": "stdout",
     "output_type": "stream",
     "text": [
      "RegParam: 0.0\n",
      "ElasticNetParam: 0.0\n",
      "MaxIter: 10\n",
      "Tol: 1e-06\n",
      "Metric for current fold: 0.394254040128035\n",
      "====================================\n",
      "RegParam: 0.0\n",
      "ElasticNetParam: 0.0\n",
      "MaxIter: 10\n",
      "Tol: 1e-06\n",
      "Metric for current fold: 0.19922515418846123\n",
      "====================================\n",
      "RegParam: 0.0\n",
      "ElasticNetParam: 0.0\n",
      "MaxIter: 10\n",
      "Tol: 1e-06\n",
      "Metric for current fold: 0.19922515418846123\n",
      "====================================\n",
      "RegParam: 0.0\n",
      "ElasticNetParam: 0.0\n",
      "MaxIter: 10\n",
      "Tol: 1e-06\n",
      "Metric for current fold: 0.19922515418846123\n",
      "====================================\n",
      "RegParam: 0.0\n",
      "ElasticNetParam: 0.0\n",
      "MaxIter: 10\n",
      "Tol: 1e-06\n",
      "Metric for current fold: 0.19922515418846123\n",
      "====================================\n",
      "RegParam: 0.0\n",
      "ElasticNetParam: 0.0\n",
      "MaxIter: 10\n",
      "Tol: 1e-06\n",
      "Metric for current fold: 0.19922515418846123\n",
      "====================================\n",
      "RegParam: 0.0\n",
      "ElasticNetParam: 0.0\n",
      "MaxIter: 10\n",
      "Tol: 1e-06\n",
      "Metric for current fold: 0.19922515418846123\n",
      "====================================\n",
      "RegParam: 0.0\n",
      "ElasticNetParam: 0.0\n",
      "MaxIter: 10\n",
      "Tol: 1e-06\n",
      "Metric for current fold: 0.19922515418846123\n",
      "====================================\n",
      "RegParam: 0.0\n",
      "ElasticNetParam: 0.0\n",
      "MaxIter: 10\n",
      "Tol: 1e-06\n",
      "Metric for current fold: 0.19922515418846123\n",
      "====================================\n",
      "RegParam: 0.0\n",
      "ElasticNetParam: 0.0\n",
      "MaxIter: 10\n",
      "Tol: 1e-06\n",
      "Metric for current fold: 0.19922515418846123\n",
      "====================================\n",
      "RegParam: 0.0\n",
      "ElasticNetParam: 0.0\n",
      "MaxIter: 10\n",
      "Tol: 1e-06\n",
      "Metric for current fold: 0.19922515418846123\n",
      "====================================\n",
      "RegParam: 0.0\n",
      "ElasticNetParam: 0.0\n",
      "MaxIter: 10\n",
      "Tol: 1e-06\n",
      "Metric for current fold: 0.19922515418846123\n",
      "====================================\n",
      "RegParam: 0.0\n",
      "ElasticNetParam: 0.0\n",
      "MaxIter: 10\n",
      "Tol: 1e-06\n",
      "Metric for current fold: 0.19922515418846123\n",
      "====================================\n"
     ]
    },
    {
     "name": "stderr",
     "output_type": "stream",
     "text": [
      "                                                                                \r"
     ]
    },
    {
     "name": "stdout",
     "output_type": "stream",
     "text": [
      "RegParam: 0.0\n",
      "ElasticNetParam: 0.0\n",
      "MaxIter: 10\n",
      "Tol: 1e-06\n",
      "Metric for current fold: 0.66246813174983\n",
      "====================================\n",
      "RegParam: 0.0\n",
      "ElasticNetParam: 0.0\n",
      "MaxIter: 10\n",
      "Tol: 1e-06\n",
      "Metric for current fold: 0.66246813174983\n",
      "====================================\n",
      "RegParam: 0.0\n",
      "ElasticNetParam: 0.0\n",
      "MaxIter: 10\n",
      "Tol: 1e-06\n",
      "Metric for current fold: 0.66246813174983\n",
      "====================================\n",
      "RegParam: 0.0\n",
      "ElasticNetParam: 0.0\n",
      "MaxIter: 10\n",
      "Tol: 1e-06\n",
      "Metric for current fold: 0.7168973903511991\n",
      "====================================\n",
      "RegParam: 0.0\n",
      "ElasticNetParam: 0.0\n",
      "MaxIter: 10\n",
      "Tol: 1e-06\n",
      "Metric for current fold: 0.7168973903511991\n",
      "====================================\n",
      "RegParam: 0.0\n",
      "ElasticNetParam: 0.0\n",
      "MaxIter: 10\n",
      "Tol: 1e-06\n",
      "Metric for current fold: 0.7168973903511991\n",
      "====================================\n",
      "RegParam: 0.0\n",
      "ElasticNetParam: 0.0\n",
      "MaxIter: 10\n",
      "Tol: 1e-06\n",
      "Metric for current fold: 0.66246813174983\n",
      "====================================\n",
      "RegParam: 0.0\n",
      "ElasticNetParam: 0.0\n",
      "MaxIter: 10\n",
      "Tol: 1e-06\n",
      "Metric for current fold: 0.66246813174983\n",
      "====================================\n",
      "RegParam: 0.0\n",
      "ElasticNetParam: 0.0\n",
      "MaxIter: 10\n",
      "Tol: 1e-06\n",
      "Metric for current fold: 0.66246813174983\n",
      "====================================\n",
      "RegParam: 0.0\n",
      "ElasticNetParam: 0.0\n",
      "MaxIter: 10\n",
      "Tol: 1e-06\n",
      "Metric for current fold: 0.7168973903511991\n",
      "====================================\n",
      "RegParam: 0.0\n",
      "ElasticNetParam: 0.0\n",
      "MaxIter: 10\n",
      "Tol: 1e-06\n",
      "Metric for current fold: 0.7168973903511991\n",
      "====================================\n",
      "RegParam: 0.0\n",
      "ElasticNetParam: 0.0\n",
      "MaxIter: 10\n",
      "Tol: 1e-06\n",
      "Metric for current fold: 0.7168973903511991\n",
      "====================================\n",
      "RegParam: 0.0\n",
      "ElasticNetParam: 0.0\n",
      "MaxIter: 10\n",
      "Tol: 1e-06\n",
      "Metric for current fold: 0.66246813174983\n",
      "====================================\n",
      "RegParam: 0.0\n",
      "ElasticNetParam: 0.0\n",
      "MaxIter: 10\n",
      "Tol: 1e-06\n",
      "Metric for current fold: 0.66246813174983\n",
      "====================================\n",
      "RegParam: 0.0\n",
      "ElasticNetParam: 0.0\n",
      "MaxIter: 10\n",
      "Tol: 1e-06\n",
      "Metric for current fold: 0.66246813174983\n",
      "====================================\n",
      "RegParam: 0.0\n",
      "ElasticNetParam: 0.0\n",
      "MaxIter: 10\n",
      "Tol: 1e-06\n",
      "Metric for current fold: 0.7168973903511991\n",
      "====================================\n",
      "RegParam: 0.0\n",
      "ElasticNetParam: 0.0\n",
      "MaxIter: 10\n",
      "Tol: 1e-06\n",
      "Metric for current fold: 0.7168973903511991\n",
      "====================================\n",
      "RegParam: 0.0\n",
      "ElasticNetParam: 0.0\n",
      "MaxIter: 10\n",
      "Tol: 1e-06\n",
      "Metric for current fold: 0.7168973903511991\n",
      "====================================\n",
      "RegParam: 0.0\n",
      "ElasticNetParam: 0.0\n",
      "MaxIter: 10\n",
      "Tol: 1e-06\n",
      "Metric for current fold: 0.5026399878643746\n",
      "====================================\n",
      "RegParam: 0.0\n",
      "ElasticNetParam: 0.0\n",
      "MaxIter: 10\n",
      "Tol: 1e-06\n",
      "Metric for current fold: 0.5026399878643746\n",
      "====================================\n",
      "RegParam: 0.0\n",
      "ElasticNetParam: 0.0\n",
      "MaxIter: 10\n",
      "Tol: 1e-06\n",
      "Metric for current fold: 0.5026399878643746\n",
      "====================================\n",
      "RegParam: 0.0\n",
      "ElasticNetParam: 0.0\n",
      "MaxIter: 10\n",
      "Tol: 1e-06\n",
      "Metric for current fold: 0.502248516077257\n",
      "====================================\n",
      "RegParam: 0.0\n",
      "ElasticNetParam: 0.0\n",
      "MaxIter: 10\n",
      "Tol: 1e-06\n",
      "Metric for current fold: 0.502248516077257\n",
      "====================================\n",
      "RegParam: 0.0\n",
      "ElasticNetParam: 0.0\n",
      "MaxIter: 10\n",
      "Tol: 1e-06\n",
      "Metric for current fold: 0.502248516077257\n",
      "====================================\n",
      "RegParam: 0.0\n",
      "ElasticNetParam: 0.0\n",
      "MaxIter: 10\n",
      "Tol: 1e-06\n",
      "Metric for current fold: 0.4176172090997617\n",
      "====================================\n",
      "RegParam: 0.0\n",
      "ElasticNetParam: 0.0\n",
      "MaxIter: 10\n",
      "Tol: 1e-06\n",
      "Metric for current fold: 0.4176172090997617\n",
      "====================================\n",
      "RegParam: 0.0\n",
      "ElasticNetParam: 0.0\n",
      "MaxIter: 10\n",
      "Tol: 1e-06\n",
      "Metric for current fold: 0.4176172090997617\n",
      "====================================\n",
      "RegParam: 0.0\n",
      "ElasticNetParam: 0.0\n",
      "MaxIter: 10\n",
      "Tol: 1e-06\n",
      "Metric for current fold: 0.42175212985119176\n",
      "====================================\n",
      "RegParam: 0.0\n",
      "ElasticNetParam: 0.0\n",
      "MaxIter: 10\n",
      "Tol: 1e-06\n",
      "Metric for current fold: 0.42175212985119176\n",
      "====================================\n",
      "RegParam: 0.0\n",
      "ElasticNetParam: 0.0\n",
      "MaxIter: 10\n",
      "Tol: 1e-06\n",
      "Metric for current fold: 0.42175212985119176\n",
      "====================================\n",
      "RegParam: 0.0\n",
      "ElasticNetParam: 0.0\n",
      "MaxIter: 10\n",
      "Tol: 1e-06\n",
      "Metric for current fold: 0.34706420626648465\n",
      "====================================\n",
      "RegParam: 0.0\n",
      "ElasticNetParam: 0.0\n",
      "MaxIter: 10\n",
      "Tol: 1e-06\n",
      "Metric for current fold: 0.34706420626648465\n",
      "====================================\n",
      "RegParam: 0.0\n",
      "ElasticNetParam: 0.0\n",
      "MaxIter: 10\n",
      "Tol: 1e-06\n",
      "Metric for current fold: 0.34706420626648465\n",
      "====================================\n"
     ]
    },
    {
     "name": "stderr",
     "output_type": "stream",
     "text": [
      "                                                                                \r"
     ]
    },
    {
     "name": "stdout",
     "output_type": "stream",
     "text": [
      "RegParam: 0.0\n",
      "ElasticNetParam: 0.0\n",
      "MaxIter: 10\n",
      "Tol: 1e-06\n",
      "Metric for current fold: 0.3363917066701899\n",
      "====================================\n",
      "RegParam: 0.0\n",
      "ElasticNetParam: 0.0\n",
      "MaxIter: 10\n",
      "Tol: 1e-06\n",
      "Metric for current fold: 0.3363917066701899\n",
      "====================================\n",
      "RegParam: 0.0\n",
      "ElasticNetParam: 0.0\n",
      "MaxIter: 10\n",
      "Tol: 1e-06\n",
      "Metric for current fold: 0.3363917066701899\n",
      "====================================\n",
      "RegParam: 0.0\n",
      "ElasticNetParam: 0.0\n",
      "MaxIter: 10\n",
      "Tol: 1e-06\n",
      "Metric for current fold: 0.3962183825364436\n",
      "====================================\n",
      "RegParam: 0.0\n",
      "ElasticNetParam: 0.0\n",
      "MaxIter: 10\n",
      "Tol: 1e-06\n",
      "Metric for current fold: 0.3962183825364436\n",
      "====================================\n",
      "RegParam: 0.0\n",
      "ElasticNetParam: 0.0\n",
      "MaxIter: 10\n",
      "Tol: 1e-06\n",
      "Metric for current fold: 0.3962183825364436\n",
      "====================================\n",
      "RegParam: 0.0\n",
      "ElasticNetParam: 0.0\n",
      "MaxIter: 10\n",
      "Tol: 1e-06\n",
      "Metric for current fold: 0.3954403323595473\n",
      "====================================\n",
      "RegParam: 0.0\n",
      "ElasticNetParam: 0.0\n",
      "MaxIter: 10\n",
      "Tol: 1e-06\n",
      "Metric for current fold: 0.3954403323595473\n",
      "====================================\n"
     ]
    },
    {
     "name": "stderr",
     "output_type": "stream",
     "text": [
      "                                                                                \r"
     ]
    },
    {
     "name": "stdout",
     "output_type": "stream",
     "text": [
      "RegParam: 0.0\n",
      "ElasticNetParam: 0.0\n",
      "MaxIter: 10\n",
      "Tol: 1e-06\n",
      "Metric for current fold: 0.3954403323595473\n",
      "====================================\n",
      "RegParam: 0.0\n",
      "ElasticNetParam: 0.0\n",
      "MaxIter: 10\n",
      "Tol: 1e-06\n",
      "Metric for current fold: 0.19977294636347176\n",
      "====================================\n",
      "RegParam: 0.0\n",
      "ElasticNetParam: 0.0\n",
      "MaxIter: 10\n",
      "Tol: 1e-06\n",
      "Metric for current fold: 0.19977294636347176\n",
      "====================================\n",
      "RegParam: 0.0\n",
      "ElasticNetParam: 0.0\n",
      "MaxIter: 10\n",
      "Tol: 1e-06\n",
      "Metric for current fold: 0.19977294636347176\n",
      "====================================\n",
      "RegParam: 0.0\n",
      "ElasticNetParam: 0.0\n",
      "MaxIter: 10\n",
      "Tol: 1e-06\n",
      "Metric for current fold: 0.19977294636347176\n",
      "====================================\n",
      "RegParam: 0.0\n",
      "ElasticNetParam: 0.0\n",
      "MaxIter: 10\n",
      "Tol: 1e-06\n",
      "Metric for current fold: 0.19977294636347176\n",
      "====================================\n",
      "RegParam: 0.0\n",
      "ElasticNetParam: 0.0\n",
      "MaxIter: 10\n",
      "Tol: 1e-06\n",
      "Metric for current fold: 0.19977294636347176\n",
      "====================================\n",
      "RegParam: 0.0\n",
      "ElasticNetParam: 0.0\n",
      "MaxIter: 10\n",
      "Tol: 1e-06\n",
      "Metric for current fold: 0.19977294636347176\n",
      "====================================\n",
      "RegParam: 0.0\n",
      "ElasticNetParam: 0.0\n",
      "MaxIter: 10\n",
      "Tol: 1e-06\n",
      "Metric for current fold: 0.19977294636347176\n",
      "====================================\n",
      "RegParam: 0.0\n",
      "ElasticNetParam: 0.0\n",
      "MaxIter: 10\n",
      "Tol: 1e-06\n",
      "Metric for current fold: 0.19977294636347176\n",
      "====================================\n",
      "RegParam: 0.0\n",
      "ElasticNetParam: 0.0\n",
      "MaxIter: 10\n",
      "Tol: 1e-06\n",
      "Metric for current fold: 0.19977294636347176\n",
      "====================================\n",
      "RegParam: 0.0\n",
      "ElasticNetParam: 0.0\n",
      "MaxIter: 10\n",
      "Tol: 1e-06\n",
      "Metric for current fold: 0.19977294636347176\n",
      "====================================\n",
      "RegParam: 0.0\n",
      "ElasticNetParam: 0.0\n",
      "MaxIter: 10\n",
      "Tol: 1e-06\n",
      "Metric for current fold: 0.19977294636347176\n",
      "====================================\n"
     ]
    },
    {
     "name": "stderr",
     "output_type": "stream",
     "text": [
      "                                                                                \r"
     ]
    },
    {
     "name": "stdout",
     "output_type": "stream",
     "text": [
      "RegParam: 0.0\n",
      "ElasticNetParam: 0.0\n",
      "MaxIter: 10\n",
      "Tol: 1e-06\n",
      "Metric for current fold: 0.659836365499173\n",
      "====================================\n",
      "RegParam: 0.0\n",
      "ElasticNetParam: 0.0\n",
      "MaxIter: 10\n",
      "Tol: 1e-06\n",
      "Metric for current fold: 0.659836365499173\n",
      "====================================\n",
      "RegParam: 0.0\n",
      "ElasticNetParam: 0.0\n",
      "MaxIter: 10\n",
      "Tol: 1e-06\n",
      "Metric for current fold: 0.659836365499173\n",
      "====================================\n",
      "RegParam: 0.0\n",
      "ElasticNetParam: 0.0\n",
      "MaxIter: 10\n",
      "Tol: 1e-06\n",
      "Metric for current fold: 0.7150983807307446\n",
      "====================================\n",
      "RegParam: 0.0\n",
      "ElasticNetParam: 0.0\n",
      "MaxIter: 10\n",
      "Tol: 1e-06\n",
      "Metric for current fold: 0.7150983807307446\n",
      "====================================\n",
      "RegParam: 0.0\n",
      "ElasticNetParam: 0.0\n",
      "MaxIter: 10\n",
      "Tol: 1e-06\n",
      "Metric for current fold: 0.7150983807307446\n",
      "====================================\n",
      "RegParam: 0.0\n",
      "ElasticNetParam: 0.0\n",
      "MaxIter: 10\n",
      "Tol: 1e-06\n",
      "Metric for current fold: 0.659836365499173\n",
      "====================================\n",
      "RegParam: 0.0\n",
      "ElasticNetParam: 0.0\n",
      "MaxIter: 10\n",
      "Tol: 1e-06\n",
      "Metric for current fold: 0.659836365499173\n",
      "====================================\n",
      "RegParam: 0.0\n",
      "ElasticNetParam: 0.0\n",
      "MaxIter: 10\n",
      "Tol: 1e-06\n",
      "Metric for current fold: 0.659836365499173\n",
      "====================================\n",
      "RegParam: 0.0\n",
      "ElasticNetParam: 0.0\n",
      "MaxIter: 10\n",
      "Tol: 1e-06\n",
      "Metric for current fold: 0.7150983807307446\n",
      "====================================\n",
      "RegParam: 0.0\n",
      "ElasticNetParam: 0.0\n",
      "MaxIter: 10\n",
      "Tol: 1e-06\n",
      "Metric for current fold: 0.7150983807307446\n",
      "====================================\n",
      "RegParam: 0.0\n",
      "ElasticNetParam: 0.0\n",
      "MaxIter: 10\n",
      "Tol: 1e-06\n",
      "Metric for current fold: 0.7150983807307446\n",
      "====================================\n",
      "RegParam: 0.0\n",
      "ElasticNetParam: 0.0\n",
      "MaxIter: 10\n",
      "Tol: 1e-06\n",
      "Metric for current fold: 0.659836365499173\n",
      "====================================\n",
      "RegParam: 0.0\n",
      "ElasticNetParam: 0.0\n",
      "MaxIter: 10\n",
      "Tol: 1e-06\n",
      "Metric for current fold: 0.659836365499173\n",
      "====================================\n",
      "RegParam: 0.0\n",
      "ElasticNetParam: 0.0\n",
      "MaxIter: 10\n",
      "Tol: 1e-06\n",
      "Metric for current fold: 0.659836365499173\n",
      "====================================\n",
      "RegParam: 0.0\n",
      "ElasticNetParam: 0.0\n",
      "MaxIter: 10\n",
      "Tol: 1e-06\n",
      "Metric for current fold: 0.7150983807307446\n",
      "====================================\n",
      "RegParam: 0.0\n",
      "ElasticNetParam: 0.0\n",
      "MaxIter: 10\n",
      "Tol: 1e-06\n",
      "Metric for current fold: 0.7150983807307446\n",
      "====================================\n",
      "RegParam: 0.0\n",
      "ElasticNetParam: 0.0\n",
      "MaxIter: 10\n",
      "Tol: 1e-06\n",
      "Metric for current fold: 0.7150983807307446\n",
      "====================================\n",
      "RegParam: 0.0\n",
      "ElasticNetParam: 0.0\n",
      "MaxIter: 10\n",
      "Tol: 1e-06\n",
      "Metric for current fold: 0.5023393781498665\n",
      "====================================\n",
      "RegParam: 0.0\n",
      "ElasticNetParam: 0.0\n",
      "MaxIter: 10\n",
      "Tol: 1e-06\n",
      "Metric for current fold: 0.5023393781498665\n",
      "====================================\n",
      "RegParam: 0.0\n",
      "ElasticNetParam: 0.0\n",
      "MaxIter: 10\n",
      "Tol: 1e-06\n",
      "Metric for current fold: 0.5023393781498665\n",
      "====================================\n",
      "RegParam: 0.0\n",
      "ElasticNetParam: 0.0\n",
      "MaxIter: 10\n",
      "Tol: 1e-06\n",
      "Metric for current fold: 0.5017831964833707\n",
      "====================================\n",
      "RegParam: 0.0\n",
      "ElasticNetParam: 0.0\n",
      "MaxIter: 10\n",
      "Tol: 1e-06\n",
      "Metric for current fold: 0.5017831964833707\n",
      "====================================\n",
      "RegParam: 0.0\n",
      "ElasticNetParam: 0.0\n",
      "MaxIter: 10\n",
      "Tol: 1e-06\n",
      "Metric for current fold: 0.5017831964833707\n",
      "====================================\n",
      "RegParam: 0.0\n",
      "ElasticNetParam: 0.0\n",
      "MaxIter: 10\n",
      "Tol: 1e-06\n",
      "Metric for current fold: 0.4181461586874113\n",
      "====================================\n",
      "RegParam: 0.0\n",
      "ElasticNetParam: 0.0\n",
      "MaxIter: 10\n",
      "Tol: 1e-06\n",
      "Metric for current fold: 0.4181461586874113\n",
      "====================================\n",
      "RegParam: 0.0\n",
      "ElasticNetParam: 0.0\n",
      "MaxIter: 10\n",
      "Tol: 1e-06\n",
      "Metric for current fold: 0.4181461586874113\n",
      "====================================\n",
      "RegParam: 0.0\n",
      "ElasticNetParam: 0.0\n",
      "MaxIter: 10\n",
      "Tol: 1e-06\n",
      "Metric for current fold: 0.4200732793739541\n",
      "====================================\n",
      "RegParam: 0.0\n",
      "ElasticNetParam: 0.0\n",
      "MaxIter: 10\n",
      "Tol: 1e-06\n",
      "Metric for current fold: 0.4200732793739541\n",
      "====================================\n",
      "RegParam: 0.0\n",
      "ElasticNetParam: 0.0\n",
      "MaxIter: 10\n",
      "Tol: 1e-06\n",
      "Metric for current fold: 0.4200732793739541\n",
      "====================================\n",
      "RegParam: 0.0\n",
      "ElasticNetParam: 0.0\n",
      "MaxIter: 10\n",
      "Tol: 1e-06\n",
      "Metric for current fold: 0.3389341802906781\n",
      "====================================\n",
      "RegParam: 0.0\n",
      "ElasticNetParam: 0.0\n",
      "MaxIter: 10\n",
      "Tol: 1e-06\n",
      "Metric for current fold: 0.3389341802906781\n",
      "====================================\n",
      "RegParam: 0.0\n",
      "ElasticNetParam: 0.0\n",
      "MaxIter: 10\n",
      "Tol: 1e-06\n",
      "Metric for current fold: 0.3389341802906781\n",
      "====================================\n",
      "RegParam: 0.0\n",
      "ElasticNetParam: 0.0\n",
      "MaxIter: 10\n",
      "Tol: 1e-06\n",
      "Metric for current fold: 0.33575321146124537\n",
      "====================================\n",
      "RegParam: 0.0\n",
      "ElasticNetParam: 0.0\n",
      "MaxIter: 10\n",
      "Tol: 1e-06\n",
      "Metric for current fold: 0.33575321146124537\n",
      "====================================\n",
      "RegParam: 0.0\n",
      "ElasticNetParam: 0.0\n",
      "MaxIter: 10\n",
      "Tol: 1e-06\n",
      "Metric for current fold: 0.33575321146124537\n",
      "====================================\n",
      "RegParam: 0.0\n",
      "ElasticNetParam: 0.0\n",
      "MaxIter: 10\n",
      "Tol: 1e-06\n",
      "Metric for current fold: 0.3951378013260542\n",
      "====================================\n",
      "RegParam: 0.0\n",
      "ElasticNetParam: 0.0\n",
      "MaxIter: 10\n",
      "Tol: 1e-06\n",
      "Metric for current fold: 0.3951378013260542\n",
      "====================================\n",
      "RegParam: 0.0\n",
      "ElasticNetParam: 0.0\n",
      "MaxIter: 10\n",
      "Tol: 1e-06\n",
      "Metric for current fold: 0.3951378013260542\n",
      "====================================\n",
      "RegParam: 0.0\n",
      "ElasticNetParam: 0.0\n",
      "MaxIter: 10\n",
      "Tol: 1e-06\n",
      "Metric for current fold: 0.3943035288263103\n",
      "====================================\n",
      "RegParam: 0.0\n",
      "ElasticNetParam: 0.0\n",
      "MaxIter: 10\n",
      "Tol: 1e-06\n",
      "Metric for current fold: 0.3943035288263103\n",
      "====================================\n",
      "RegParam: 0.0\n",
      "ElasticNetParam: 0.0\n",
      "MaxIter: 10\n",
      "Tol: 1e-06\n",
      "Metric for current fold: 0.3943035288263103\n",
      "====================================\n",
      "RegParam: 0.0\n",
      "ElasticNetParam: 0.0\n",
      "MaxIter: 10\n",
      "Tol: 1e-06\n",
      "Metric for current fold: 0.1990886426727944\n",
      "====================================\n",
      "RegParam: 0.0\n",
      "ElasticNetParam: 0.0\n",
      "MaxIter: 10\n",
      "Tol: 1e-06\n",
      "Metric for current fold: 0.1990886426727944\n",
      "====================================\n",
      "RegParam: 0.0\n",
      "ElasticNetParam: 0.0\n",
      "MaxIter: 10\n",
      "Tol: 1e-06\n",
      "Metric for current fold: 0.1990886426727944\n",
      "====================================\n",
      "RegParam: 0.0\n",
      "ElasticNetParam: 0.0\n",
      "MaxIter: 10\n",
      "Tol: 1e-06\n",
      "Metric for current fold: 0.1990886426727944\n",
      "====================================\n",
      "RegParam: 0.0\n",
      "ElasticNetParam: 0.0\n",
      "MaxIter: 10\n",
      "Tol: 1e-06\n",
      "Metric for current fold: 0.1990886426727944\n",
      "====================================\n",
      "RegParam: 0.0\n",
      "ElasticNetParam: 0.0\n",
      "MaxIter: 10\n",
      "Tol: 1e-06\n",
      "Metric for current fold: 0.1990886426727944\n",
      "====================================\n",
      "RegParam: 0.0\n",
      "ElasticNetParam: 0.0\n",
      "MaxIter: 10\n",
      "Tol: 1e-06\n",
      "Metric for current fold: 0.1990886426727944\n",
      "====================================\n",
      "RegParam: 0.0\n",
      "ElasticNetParam: 0.0\n",
      "MaxIter: 10\n",
      "Tol: 1e-06\n",
      "Metric for current fold: 0.1990886426727944\n",
      "====================================\n",
      "RegParam: 0.0\n",
      "ElasticNetParam: 0.0\n",
      "MaxIter: 10\n",
      "Tol: 1e-06\n",
      "Metric for current fold: 0.1990886426727944\n",
      "====================================\n",
      "RegParam: 0.0\n",
      "ElasticNetParam: 0.0\n",
      "MaxIter: 10\n",
      "Tol: 1e-06\n",
      "Metric for current fold: 0.1990886426727944\n",
      "====================================\n",
      "RegParam: 0.0\n",
      "ElasticNetParam: 0.0\n",
      "MaxIter: 10\n",
      "Tol: 1e-06\n",
      "Metric for current fold: 0.1990886426727944\n",
      "====================================\n",
      "RegParam: 0.0\n",
      "ElasticNetParam: 0.0\n",
      "MaxIter: 10\n",
      "Tol: 1e-06\n",
      "Metric for current fold: 0.1990886426727944\n",
      "====================================\n"
     ]
    },
    {
     "name": "stderr",
     "output_type": "stream",
     "text": [
      "                                                                                \r"
     ]
    }
   ],
   "source": [
    "# hyper parameter tuning for Logistic Regression\n",
    "from pyspark.ml.tuning import ParamGridBuilder, CrossValidator\n",
    "from pyspark.ml.evaluation import MulticlassClassificationEvaluator\n",
    "\n",
    "class LoggingEvaluator(MulticlassClassificationEvaluator):\n",
    "\n",
    "    def __init__(self, **kwargs):\n",
    "        super(LoggingEvaluator, self).__init__(**kwargs)\n",
    "\n",
    "    def _evaluate(self, dataset):\n",
    "        metric = super(LoggingEvaluator, self)._evaluate(dataset)\n",
    "        # print the parameters\n",
    "        print(f\"RegParam: {lr_model.getRegParam()}\")\n",
    "        print(f\"ElasticNetParam: {lr_model.getElasticNetParam()}\")\n",
    "        print(f\"MaxIter: {lr_model.getMaxIter()}\")\n",
    "        print(f\"Tol: {lr_model.getTol()}\")\n",
    "        print(f\"Metric for current fold: {metric}\")\n",
    "        print(\"====================================\")\n",
    "        return metric\n",
    "\n",
    "\n",
    "\n",
    "\n",
    "# create the grid of parameters\n",
    "param_grid = {\n",
    "    'regParam': [0.0, 0.1, 0.5],\n",
    "    'elasticNetParam': [0.0, 0.5, 1.0],\n",
    "    'maxIter': [5, 10],\n",
    "    'tol': [1e-8, 1e-6, 1e-4],\n",
    "}\n",
    "\n",
    "param_grid = ParamGridBuilder(). \\\n",
    "        addGrid(lr.regParam, [0.0, 0.1, 0.5]). \\\n",
    "        addGrid(lr.elasticNetParam, [0.0, 0.5, 1.0]). \\\n",
    "        addGrid(lr.maxIter, [5, 10]). \\\n",
    "        addGrid(lr.tol, [1e-8, 1e-6, 1e-4]). \\\n",
    "        build()\n",
    "\n",
    "# create the cross validator\n",
    "\n",
    "logging_evaluator = LoggingEvaluator(labelCol='label', predictionCol='prediction', metricName='accuracy')\n",
    "cross_val = CrossValidator(estimator=lr, estimatorParamMaps=param_grid, evaluator=logging_evaluator, numFolds=3)\n",
    "\n",
    "# fit the model\n",
    "cv_model = cross_val.fit(train_data)\n",
    "\n",
    "# get the best model\n",
    "best_model = cv_model.bestModel"
   ]
  },
  {
   "cell_type": "code",
   "execution_count": 22,
   "metadata": {},
   "outputs": [
    {
     "name": "stdout",
     "output_type": "stream",
     "text": [
      "Best Param (regParam): 0.0\n",
      "Best Param (elasticNetParam): 0.0\n",
      "Best Param (maxIter): 10\n",
      "Best Param (tol): 1e-08\n"
     ]
    },
    {
     "name": "stderr",
     "output_type": "stream",
     "text": [
      "                                                                                \r"
     ]
    },
    {
     "name": "stdout",
     "output_type": "stream",
     "text": [
      "Accuracy: 0.7144806826927087\n"
     ]
    },
    {
     "name": "stderr",
     "output_type": "stream",
     "text": [
      "[Stage 4166:=====>                                                 (1 + 9) / 10]\r"
     ]
    },
    {
     "name": "stdout",
     "output_type": "stream",
     "text": [
      "F1 Score: 0.6813237562766474\n"
     ]
    },
    {
     "name": "stderr",
     "output_type": "stream",
     "text": [
      "                                                                                \r"
     ]
    }
   ],
   "source": [
    "# print the parameters and the performance\n",
    "print('Best Param (regParam): {}'.format(best_model._java_obj.getRegParam()))\n",
    "print('Best Param (elasticNetParam): {}'.format(best_model._java_obj.getElasticNetParam()))\n",
    "print('Best Param (maxIter): {}'.format(best_model._java_obj.getMaxIter()))\n",
    "print('Best Param (tol): {}'.format(best_model._java_obj.getTol()))\n",
    "\n",
    "# get the accuracy, f1\n",
    "predictions = best_model.transform(test_data)\n",
    "evaluator = MulticlassClassificationEvaluator(labelCol='label', predictionCol='prediction', metricName='accuracy')\n",
    "accuracy = evaluator.evaluate(predictions)\n",
    "print('Accuracy: {}'.format(accuracy))\n",
    "\n",
    "evaluator = MulticlassClassificationEvaluator(labelCol='label', predictionCol='prediction', metricName='f1')\n",
    "f1 = evaluator.evaluate(predictions)\n",
    "print('F1 Score: {}'.format(f1))"
   ]
  },
  {
   "cell_type": "markdown",
   "metadata": {},
   "source": [
    "## Random Forest"
   ]
  },
  {
   "cell_type": "code",
   "execution_count": 3,
   "metadata": {},
   "outputs": [
    {
     "ename": "AssertionError",
     "evalue": "",
     "output_type": "error",
     "traceback": [
      "\u001b[0;31m---------------------------------------------------------------------------\u001b[0m",
      "\u001b[0;31mAssertionError\u001b[0m                            Traceback (most recent call last)",
      "Cell \u001b[0;32mIn [3], line 5\u001b[0m\n\u001b[1;32m      2\u001b[0m \u001b[38;5;28;01mfrom\u001b[39;00m \u001b[38;5;21;01mpyspark\u001b[39;00m\u001b[38;5;21;01m.\u001b[39;00m\u001b[38;5;21;01mml\u001b[39;00m\u001b[38;5;21;01m.\u001b[39;00m\u001b[38;5;21;01mclassification\u001b[39;00m \u001b[38;5;28;01mimport\u001b[39;00m RandomForestClassifier\n\u001b[1;32m      4\u001b[0m \u001b[38;5;66;03m# create the model\u001b[39;00m\n\u001b[0;32m----> 5\u001b[0m rf \u001b[38;5;241m=\u001b[39m RandomForestClassifier(labelCol\u001b[38;5;241m=\u001b[39m\u001b[38;5;124m\"\u001b[39m\u001b[38;5;124mlabel\u001b[39m\u001b[38;5;124m\"\u001b[39m, featuresCol\u001b[38;5;241m=\u001b[39m\u001b[38;5;124m\"\u001b[39m\u001b[38;5;124mfeatures\u001b[39m\u001b[38;5;124m\"\u001b[39m, seed\u001b[38;5;241m=\u001b[39m\u001b[38;5;241m24\u001b[39m)\n\u001b[1;32m      7\u001b[0m \u001b[38;5;66;03m# fit the model\u001b[39;00m\n\u001b[1;32m      8\u001b[0m rf_model \u001b[38;5;241m=\u001b[39m rf\u001b[38;5;241m.\u001b[39mfit(train_data)\n",
      "File \u001b[0;32m~/Library/Python/3.8/lib/python/site-packages/pyspark/__init__.py:135\u001b[0m, in \u001b[0;36mkeyword_only.<locals>.wrapper\u001b[0;34m(self, *args, **kwargs)\u001b[0m\n\u001b[1;32m    133\u001b[0m     \u001b[39mraise\u001b[39;00m \u001b[39mTypeError\u001b[39;00m(\u001b[39m\"\u001b[39m\u001b[39mMethod \u001b[39m\u001b[39m%s\u001b[39;00m\u001b[39m forces keyword arguments.\u001b[39m\u001b[39m\"\u001b[39m \u001b[39m%\u001b[39m func\u001b[39m.\u001b[39m\u001b[39m__name__\u001b[39m)\n\u001b[1;32m    134\u001b[0m \u001b[39mself\u001b[39m\u001b[39m.\u001b[39m_input_kwargs \u001b[39m=\u001b[39m kwargs\n\u001b[0;32m--> 135\u001b[0m \u001b[39mreturn\u001b[39;00m func(\u001b[39mself\u001b[39;49m, \u001b[39m*\u001b[39;49m\u001b[39m*\u001b[39;49mkwargs)\n",
      "File \u001b[0;32m~/Library/Python/3.8/lib/python/site-packages/pyspark/ml/classification.py:2104\u001b[0m, in \u001b[0;36mRandomForestClassifier.__init__\u001b[0;34m(self, featuresCol, labelCol, predictionCol, probabilityCol, rawPredictionCol, maxDepth, maxBins, minInstancesPerNode, minInfoGain, maxMemoryInMB, cacheNodeIds, checkpointInterval, impurity, numTrees, featureSubsetStrategy, seed, subsamplingRate, leafCol, minWeightFractionPerNode, weightCol, bootstrap)\u001b[0m\n\u001b[1;32m   2095\u001b[0m \u001b[39m\"\"\"\u001b[39;00m\n\u001b[1;32m   2096\u001b[0m \u001b[39m__init__(self, \\\\*, featuresCol=\"features\", labelCol=\"label\", predictionCol=\"prediction\", \\\u001b[39;00m\n\u001b[1;32m   2097\u001b[0m \u001b[39m         probabilityCol=\"probability\", rawPredictionCol=\"rawPrediction\", \\\u001b[39;00m\n\u001b[0;32m   (...)\u001b[0m\n\u001b[1;32m   2101\u001b[0m \u001b[39m         leafCol=\"\", minWeightFractionPerNode=0.0, weightCol=None, bootstrap=True)\u001b[39;00m\n\u001b[1;32m   2102\u001b[0m \u001b[39m\"\"\"\u001b[39;00m\n\u001b[1;32m   2103\u001b[0m \u001b[39msuper\u001b[39m(RandomForestClassifier, \u001b[39mself\u001b[39m)\u001b[39m.\u001b[39m\u001b[39m__init__\u001b[39m()\n\u001b[0;32m-> 2104\u001b[0m \u001b[39mself\u001b[39m\u001b[39m.\u001b[39m_java_obj \u001b[39m=\u001b[39m \u001b[39mself\u001b[39;49m\u001b[39m.\u001b[39;49m_new_java_obj(\n\u001b[1;32m   2105\u001b[0m     \u001b[39m\"\u001b[39;49m\u001b[39morg.apache.spark.ml.classification.RandomForestClassifier\u001b[39;49m\u001b[39m\"\u001b[39;49m, \u001b[39mself\u001b[39;49m\u001b[39m.\u001b[39;49muid\n\u001b[1;32m   2106\u001b[0m )\n\u001b[1;32m   2107\u001b[0m kwargs \u001b[39m=\u001b[39m \u001b[39mself\u001b[39m\u001b[39m.\u001b[39m_input_kwargs\n\u001b[1;32m   2108\u001b[0m \u001b[39mself\u001b[39m\u001b[39m.\u001b[39msetParams(\u001b[39m*\u001b[39m\u001b[39m*\u001b[39mkwargs)\n",
      "File \u001b[0;32m~/Library/Python/3.8/lib/python/site-packages/pyspark/ml/wrapper.py:80\u001b[0m, in \u001b[0;36mJavaWrapper._new_java_obj\u001b[0;34m(java_class, *args)\u001b[0m\n\u001b[1;32m     76\u001b[0m \u001b[39m\"\"\"\u001b[39;00m\n\u001b[1;32m     77\u001b[0m \u001b[39mReturns a new Java object.\u001b[39;00m\n\u001b[1;32m     78\u001b[0m \u001b[39m\"\"\"\u001b[39;00m\n\u001b[1;32m     79\u001b[0m sc \u001b[39m=\u001b[39m SparkContext\u001b[39m.\u001b[39m_active_spark_context\n\u001b[0;32m---> 80\u001b[0m \u001b[39massert\u001b[39;00m sc \u001b[39mis\u001b[39;00m \u001b[39mnot\u001b[39;00m \u001b[39mNone\u001b[39;00m\n\u001b[1;32m     82\u001b[0m java_obj \u001b[39m=\u001b[39m _jvm()\n\u001b[1;32m     83\u001b[0m \u001b[39mfor\u001b[39;00m name \u001b[39min\u001b[39;00m java_class\u001b[39m.\u001b[39msplit(\u001b[39m\"\u001b[39m\u001b[39m.\u001b[39m\u001b[39m\"\u001b[39m):\n",
      "\u001b[0;31mAssertionError\u001b[0m: "
     ]
    }
   ],
   "source": [
    "# classify using Random Forest\n",
    "from pyspark.ml.classification import RandomForestClassifier\n",
    "\n",
    "# create the model\n",
    "rf = RandomForestClassifier(labelCol=\"label\", featuresCol=\"features\", seed=24)\n",
    "\n",
    "# fit the model\n",
    "rf_model = rf.fit(train_data)"
   ]
  },
  {
   "cell_type": "code",
   "execution_count": 2,
   "metadata": {},
   "outputs": [
    {
     "ename": "AssertionError",
     "evalue": "",
     "output_type": "error",
     "traceback": [
      "\u001b[0;31m---------------------------------------------------------------------------\u001b[0m",
      "\u001b[0;31mAssertionError\u001b[0m                            Traceback (most recent call last)",
      "Cell \u001b[0;32mIn [2], line 4\u001b[0m\n\u001b[1;32m      1\u001b[0m \u001b[38;5;28;01mfrom\u001b[39;00m \u001b[38;5;21;01mpyspark\u001b[39;00m\u001b[38;5;21;01m.\u001b[39;00m\u001b[38;5;21;01mml\u001b[39;00m\u001b[38;5;21;01m.\u001b[39;00m\u001b[38;5;21;01mevaluation\u001b[39;00m \u001b[38;5;28;01mimport\u001b[39;00m MulticlassClassificationEvaluator\n\u001b[1;32m      2\u001b[0m \u001b[38;5;28;01mimport\u001b[39;00m \u001b[38;5;21;01mmatplotlib\u001b[39;00m\u001b[38;5;21;01m.\u001b[39;00m\u001b[38;5;21;01mpyplot\u001b[39;00m \u001b[38;5;28;01mas\u001b[39;00m \u001b[38;5;21;01mplt\u001b[39;00m\n\u001b[0;32m----> 4\u001b[0m evaluator \u001b[38;5;241m=\u001b[39m MulticlassClassificationEvaluator(labelCol\u001b[38;5;241m=\u001b[39m\u001b[38;5;124m'\u001b[39m\u001b[38;5;124mlabel\u001b[39m\u001b[38;5;124m'\u001b[39m, predictionCol\u001b[38;5;241m=\u001b[39m\u001b[38;5;124m'\u001b[39m\u001b[38;5;124mprediction\u001b[39m\u001b[38;5;124m'\u001b[39m, metricName\u001b[38;5;241m=\u001b[39m\u001b[38;5;124m'\u001b[39m\u001b[38;5;124maccuracy\u001b[39m\u001b[38;5;124m'\u001b[39m)\n\u001b[1;32m      6\u001b[0m num_trees \u001b[38;5;241m=\u001b[39m [\u001b[38;5;241m10\u001b[39m, \u001b[38;5;241m20\u001b[39m, \u001b[38;5;241m30\u001b[39m]\u001b[38;5;66;03m#, 50, 100, 200]\u001b[39;00m\n\u001b[1;32m      7\u001b[0m accuracies \u001b[38;5;241m=\u001b[39m []\n",
      "File \u001b[0;32m~/Library/Python/3.8/lib/python/site-packages/pyspark/__init__.py:135\u001b[0m, in \u001b[0;36mkeyword_only.<locals>.wrapper\u001b[0;34m(self, *args, **kwargs)\u001b[0m\n\u001b[1;32m    133\u001b[0m     \u001b[39mraise\u001b[39;00m \u001b[39mTypeError\u001b[39;00m(\u001b[39m\"\u001b[39m\u001b[39mMethod \u001b[39m\u001b[39m%s\u001b[39;00m\u001b[39m forces keyword arguments.\u001b[39m\u001b[39m\"\u001b[39m \u001b[39m%\u001b[39m func\u001b[39m.\u001b[39m\u001b[39m__name__\u001b[39m)\n\u001b[1;32m    134\u001b[0m \u001b[39mself\u001b[39m\u001b[39m.\u001b[39m_input_kwargs \u001b[39m=\u001b[39m kwargs\n\u001b[0;32m--> 135\u001b[0m \u001b[39mreturn\u001b[39;00m func(\u001b[39mself\u001b[39;49m, \u001b[39m*\u001b[39;49m\u001b[39m*\u001b[39;49mkwargs)\n",
      "File \u001b[0;32m~/Library/Python/3.8/lib/python/site-packages/pyspark/ml/evaluation.py:589\u001b[0m, in \u001b[0;36mMulticlassClassificationEvaluator.__init__\u001b[0;34m(self, predictionCol, labelCol, metricName, weightCol, metricLabel, beta, probabilityCol, eps)\u001b[0m\n\u001b[1;32m    583\u001b[0m \u001b[39m\"\"\"\u001b[39;00m\n\u001b[1;32m    584\u001b[0m \u001b[39m__init__(self, \\\\*, predictionCol=\"prediction\", labelCol=\"label\", \\\u001b[39;00m\n\u001b[1;32m    585\u001b[0m \u001b[39m         metricName=\"f1\", weightCol=None, metricLabel=0.0, beta=1.0, \\\u001b[39;00m\n\u001b[1;32m    586\u001b[0m \u001b[39m         probabilityCol=\"probability\", eps=1e-15)\u001b[39;00m\n\u001b[1;32m    587\u001b[0m \u001b[39m\"\"\"\u001b[39;00m\n\u001b[1;32m    588\u001b[0m \u001b[39msuper\u001b[39m(MulticlassClassificationEvaluator, \u001b[39mself\u001b[39m)\u001b[39m.\u001b[39m\u001b[39m__init__\u001b[39m()\n\u001b[0;32m--> 589\u001b[0m \u001b[39mself\u001b[39m\u001b[39m.\u001b[39m_java_obj \u001b[39m=\u001b[39m \u001b[39mself\u001b[39;49m\u001b[39m.\u001b[39;49m_new_java_obj(\n\u001b[1;32m    590\u001b[0m     \u001b[39m\"\u001b[39;49m\u001b[39morg.apache.spark.ml.evaluation.MulticlassClassificationEvaluator\u001b[39;49m\u001b[39m\"\u001b[39;49m, \u001b[39mself\u001b[39;49m\u001b[39m.\u001b[39;49muid\n\u001b[1;32m    591\u001b[0m )\n\u001b[1;32m    592\u001b[0m \u001b[39mself\u001b[39m\u001b[39m.\u001b[39m_setDefault(metricName\u001b[39m=\u001b[39m\u001b[39m\"\u001b[39m\u001b[39mf1\u001b[39m\u001b[39m\"\u001b[39m, metricLabel\u001b[39m=\u001b[39m\u001b[39m0.0\u001b[39m, beta\u001b[39m=\u001b[39m\u001b[39m1.0\u001b[39m, eps\u001b[39m=\u001b[39m\u001b[39m1e-15\u001b[39m)\n\u001b[1;32m    593\u001b[0m kwargs \u001b[39m=\u001b[39m \u001b[39mself\u001b[39m\u001b[39m.\u001b[39m_input_kwargs\n",
      "File \u001b[0;32m~/Library/Python/3.8/lib/python/site-packages/pyspark/ml/wrapper.py:80\u001b[0m, in \u001b[0;36mJavaWrapper._new_java_obj\u001b[0;34m(java_class, *args)\u001b[0m\n\u001b[1;32m     76\u001b[0m \u001b[39m\"\"\"\u001b[39;00m\n\u001b[1;32m     77\u001b[0m \u001b[39mReturns a new Java object.\u001b[39;00m\n\u001b[1;32m     78\u001b[0m \u001b[39m\"\"\"\u001b[39;00m\n\u001b[1;32m     79\u001b[0m sc \u001b[39m=\u001b[39m SparkContext\u001b[39m.\u001b[39m_active_spark_context\n\u001b[0;32m---> 80\u001b[0m \u001b[39massert\u001b[39;00m sc \u001b[39mis\u001b[39;00m \u001b[39mnot\u001b[39;00m \u001b[39mNone\u001b[39;00m\n\u001b[1;32m     82\u001b[0m java_obj \u001b[39m=\u001b[39m _jvm()\n\u001b[1;32m     83\u001b[0m \u001b[39mfor\u001b[39;00m name \u001b[39min\u001b[39;00m java_class\u001b[39m.\u001b[39msplit(\u001b[39m\"\u001b[39m\u001b[39m.\u001b[39m\u001b[39m\"\u001b[39m):\n",
      "\u001b[0;31mAssertionError\u001b[0m: "
     ]
    }
   ],
   "source": [
    "from pyspark.ml.evaluation import MulticlassClassificationEvaluator\n",
    "import matplotlib.pyplot as plt\n",
    "\n",
    "evaluator = MulticlassClassificationEvaluator(labelCol='label', predictionCol='prediction', metricName='accuracy')\n",
    "\n",
    "num_trees = [10, 20, 30]#, 50, 100, 200]\n",
    "accuracies = []\n",
    "\n",
    "for num_tree in num_trees:\n",
    "    rf = RandomForestClassifier(labelCol=\"label\", featuresCol=\"features\", seed=24, numTrees=num_tree)\n",
    "    rf_model = rf.fit(train_data)\n",
    "    predictions = rf_model.transform(test_data)\n",
    "    accuracy = evaluator.evaluate(predictions)\n",
    "    accuracies.append(accuracy)\n",
    "\n",
    "plt.plot(num_trees, accuracies)\n",
    "# smooth the curve\n",
    "plt.plot(num_trees, accuracies, 'o', color='black')\n",
    "plt.title('Accuracy vs Number of Trees')\n",
    "plt.xlabel('Number of Trees')\n",
    "plt.ylabel('Accuracy')\n",
    "plt.show()\n"
   ]
  },
  {
   "cell_type": "code",
   "execution_count": 16,
   "metadata": {},
   "outputs": [
    {
     "name": "stderr",
     "output_type": "stream",
     "text": [
      "[Stage 59:>                                                         (0 + 1) / 1]\r"
     ]
    },
    {
     "name": "stdout",
     "output_type": "stream",
     "text": [
      "+-----+----------+\n",
      "|label|prediction|\n",
      "+-----+----------+\n",
      "|  2.0|       2.0|\n",
      "|  2.0|       2.0|\n",
      "|  2.0|       2.0|\n",
      "|  2.0|       2.0|\n",
      "|  2.0|       2.0|\n",
      "+-----+----------+\n",
      "only showing top 5 rows\n",
      "\n"
     ]
    },
    {
     "name": "stderr",
     "output_type": "stream",
     "text": [
      "                                                                                \r"
     ]
    }
   ],
   "source": [
    "predictions = rf_model.transform(test_data)\n",
    "predictions.select(['label', 'prediction']).show(5)"
   ]
  },
  {
   "cell_type": "code",
   "execution_count": 17,
   "metadata": {},
   "outputs": [
    {
     "name": "stderr",
     "output_type": "stream",
     "text": [
      "                                                                                \r"
     ]
    },
    {
     "name": "stdout",
     "output_type": "stream",
     "text": [
      "Accuracy = 0.637293\n"
     ]
    },
    {
     "name": "stderr",
     "output_type": "stream",
     "text": [
      "[Stage 62:=====>                                                   (1 + 9) / 10]\r"
     ]
    },
    {
     "name": "stdout",
     "output_type": "stream",
     "text": [
      "F1 score: 0.5731772697222233\n"
     ]
    },
    {
     "name": "stderr",
     "output_type": "stream",
     "text": [
      "                                                                                \r"
     ]
    }
   ],
   "source": [
    "# get the prediction accuracy\n",
    "from pyspark.ml.evaluation import MulticlassClassificationEvaluator\n",
    "\n",
    "evaluator = MulticlassClassificationEvaluator(labelCol=\"label\", predictionCol=\"prediction\", metricName=\"accuracy\")\n",
    "accuracy = evaluator.evaluate(predictions)\n",
    "print(\"Accuracy = %g\" % accuracy)\n",
    "\n",
    "# evaluate using F1 score\n",
    "from pyspark.ml.evaluation import MulticlassClassificationEvaluator\n",
    "\n",
    "evaluator = MulticlassClassificationEvaluator(labelCol=\"label\", predictionCol=\"prediction\", metricName=\"f1\")\n",
    "f1_score = evaluator.evaluate(predictions)\n",
    "print(f\"F1 score: {f1_score}\")"
   ]
  },
  {
   "cell_type": "code",
   "execution_count": 18,
   "metadata": {},
   "outputs": [
    {
     "name": "stdout",
     "output_type": "stream",
     "text": [
      "20\n",
      "5\n",
      "32\n"
     ]
    }
   ],
   "source": [
    "# print the parameters of the model\n",
    "# numTrees\n",
    "print(rf_model.getNumTrees)\n",
    "# maxDepth\n",
    "print(rf_model.getMaxDepth())\n",
    "# maxBins\n",
    "print(rf_model.getMaxBins())"
   ]
  },
  {
   "cell_type": "code",
   "execution_count": 19,
   "metadata": {},
   "outputs": [
    {
     "name": "stderr",
     "output_type": "stream",
     "text": [
      "[Stage 64:=====>                                                   (1 + 9) / 10]\r"
     ]
    },
    {
     "name": "stdout",
     "output_type": "stream",
     "text": [
      "614983\n"
     ]
    },
    {
     "name": "stderr",
     "output_type": "stream",
     "text": [
      "                                                                                \r"
     ]
    }
   ],
   "source": [
    "# get the size of the training data\n",
    "print(train_data.count())"
   ]
  },
  {
   "cell_type": "code",
   "execution_count": 20,
   "metadata": {},
   "outputs": [
    {
     "name": "stdout",
     "output_type": "stream",
     "text": [
      "8874\n"
     ]
    }
   ],
   "source": [
    "# take a stratified sample of the data\n",
    "fractions = df_final.select(\"label\").distinct().withColumn(\"fraction\", lit(0.01)).rdd.collectAsMap()\n",
    "\n",
    "# Perform stratified sampling\n",
    "df_sample = df_final.stat.sampleBy(\"label\", fractions, seed=24)\n",
    "\n",
    "# get the size of the sample\n",
    "print(df_sample.count())"
   ]
  },
  {
   "cell_type": "code",
   "execution_count": 21,
   "metadata": {},
   "outputs": [],
   "source": [
    "sc.setLogLevel(\"ERROR\")"
   ]
  },
  {
   "cell_type": "code",
   "execution_count": 22,
   "metadata": {},
   "outputs": [
    {
     "name": "stderr",
     "output_type": "stream",
     "text": [
      "                                                                                \r"
     ]
    },
    {
     "name": "stdout",
     "output_type": "stream",
     "text": [
      "NumTrees: 10, MaxDepth: 5, Score: 0.6591653805508884\n"
     ]
    },
    {
     "name": "stderr",
     "output_type": "stream",
     "text": [
      "                                                                                \r"
     ]
    },
    {
     "name": "stdout",
     "output_type": "stream",
     "text": [
      "NumTrees: 10, MaxDepth: 10, Score: 0.8312704796514943\n"
     ]
    },
    {
     "name": "stderr",
     "output_type": "stream",
     "text": [
      "                                                                                \r"
     ]
    },
    {
     "name": "stdout",
     "output_type": "stream",
     "text": [
      "NumTrees: 10, MaxDepth: 15, Score: 0.9174617776527564\n"
     ]
    },
    {
     "name": "stderr",
     "output_type": "stream",
     "text": [
      "                                                                                \r"
     ]
    },
    {
     "name": "stdout",
     "output_type": "stream",
     "text": [
      "NumTrees: 20, MaxDepth: 5, Score: 0.6372925425558605\n"
     ]
    },
    {
     "name": "stderr",
     "output_type": "stream",
     "text": [
      "                                                                                \r"
     ]
    },
    {
     "name": "stdout",
     "output_type": "stream",
     "text": [
      "NumTrees: 20, MaxDepth: 10, Score: 0.8383713592786601\n"
     ]
    },
    {
     "name": "stderr",
     "output_type": "stream",
     "text": [
      "                                                                                \r"
     ]
    },
    {
     "name": "stdout",
     "output_type": "stream",
     "text": [
      "NumTrees: 20, MaxDepth: 15, Score: 0.9340317638919511\n"
     ]
    },
    {
     "name": "stderr",
     "output_type": "stream",
     "text": [
      "                                                                                \r"
     ]
    },
    {
     "name": "stdout",
     "output_type": "stream",
     "text": [
      "NumTrees: 30, MaxDepth: 5, Score: 0.639641762903606\n"
     ]
    },
    {
     "name": "stderr",
     "output_type": "stream",
     "text": [
      "                                                                                \r"
     ]
    },
    {
     "name": "stdout",
     "output_type": "stream",
     "text": [
      "NumTrees: 30, MaxDepth: 10, Score: 0.837151133175705\n"
     ]
    },
    {
     "name": "stderr",
     "output_type": "stream",
     "text": [
      "[Stage 323:=======================================>                (7 + 3) / 10]\r"
     ]
    },
    {
     "name": "stdout",
     "output_type": "stream",
     "text": [
      "NumTrees: 30, MaxDepth: 15, Score: 0.9235781134772263\n",
      "Best parameters: (20, 15), Score: 0.9340317638919511\n"
     ]
    },
    {
     "name": "stderr",
     "output_type": "stream",
     "text": [
      "                                                                                \r"
     ]
    }
   ],
   "source": [
    "from pyspark.ml.evaluation import MulticlassClassificationEvaluator\n",
    "from pyspark.ml.classification import RandomForestClassifier\n",
    "\n",
    "# Define the hyperparameters\n",
    "num_trees = [10, 20, 30]\n",
    "max_depths = [5, 10, 15]\n",
    "\n",
    "# Initialize the best parameters and the best score\n",
    "best_score = 0\n",
    "best_params = None\n",
    "\n",
    "# Loop over the parameters\n",
    "for num_tree in num_trees:\n",
    "    for max_depth in max_depths:\n",
    "        # Create the model\n",
    "        rf = RandomForestClassifier(labelCol=\"label\", featuresCol=\"features\", \n",
    "                                    numTrees=num_tree, maxDepth=max_depth, seed=24)\n",
    "        # Fit the model\n",
    "        model = rf.fit(train_data)\n",
    "        # Make predictions\n",
    "        predictions = model.transform(test_data)\n",
    "        # Initialize evaluator\n",
    "        evaluator = MulticlassClassificationEvaluator(\n",
    "            labelCol=\"label\", predictionCol=\"prediction\", metricName=\"accuracy\")\n",
    "        # Compute the accuracy on the test set\n",
    "        accuracy = evaluator.evaluate(predictions)\n",
    "        # Print the parameters and the score\n",
    "        print(f'NumTrees: {num_tree}, MaxDepth: {max_depth}, Score: {accuracy}')\n",
    "        # Check if we got a better score\n",
    "        if accuracy > best_score:\n",
    "            best_score = accuracy\n",
    "            best_params = (num_tree, max_depth)\n",
    "\n",
    "print(f'Best parameters: {best_params}, Score: {best_score}')\n"
   ]
  },
  {
   "cell_type": "code",
   "execution_count": 25,
   "metadata": {},
   "outputs": [
    {
     "name": "stderr",
     "output_type": "stream",
     "text": [
      "                                                                                \r"
     ]
    },
    {
     "name": "stdout",
     "output_type": "stream",
     "text": [
      "Accuracy: 0.9340317638919511\n"
     ]
    },
    {
     "name": "stderr",
     "output_type": "stream",
     "text": [
      "[Stage 367:=====>                                                  (1 + 9) / 10]\r"
     ]
    },
    {
     "name": "stdout",
     "output_type": "stream",
     "text": [
      "F1 Score: 0.9275126576617813\n"
     ]
    },
    {
     "name": "stderr",
     "output_type": "stream",
     "text": [
      "                                                                                \r"
     ]
    }
   ],
   "source": [
    "# define a model with the best parameters\n",
    "rf = RandomForestClassifier(labelCol=\"label\", featuresCol=\"features\",\n",
    "                            numTrees=best_params[0], maxDepth=best_params[1], seed=24)\n",
    "\n",
    "# fit the model\n",
    "rf_model = rf.fit(train_data)\n",
    "\n",
    "# get the accuracy, f1\n",
    "predictions = rf_model.transform(test_data)\n",
    "evaluator = MulticlassClassificationEvaluator(labelCol='label', predictionCol='prediction', metricName='accuracy')\n",
    "accuracy = evaluator.evaluate(predictions)\n",
    "print('Accuracy: {}'.format(accuracy))\n",
    "\n",
    "evaluator = MulticlassClassificationEvaluator(labelCol='label', predictionCol='prediction', metricName='f1')\n",
    "f1 = evaluator.evaluate(predictions)\n",
    "print('F1 Score: {}'.format(f1))"
   ]
  }
 ],
 "metadata": {
  "kernelspec": {
   "display_name": "Python 3.8.9 64-bit",
   "language": "python",
   "name": "python3"
  },
  "language_info": {
   "codemirror_mode": {
    "name": "ipython",
    "version": 3
   },
   "file_extension": ".py",
   "mimetype": "text/x-python",
   "name": "python",
   "nbconvert_exporter": "python",
   "pygments_lexer": "ipython3",
   "version": "3.8.9"
  },
  "orig_nbformat": 4,
  "vscode": {
   "interpreter": {
    "hash": "31f2aee4e71d21fbe5cf8b01ff0e069b9275f58929596ceb00d14d90e3e16cd6"
   }
  }
 },
 "nbformat": 4,
 "nbformat_minor": 2
}
