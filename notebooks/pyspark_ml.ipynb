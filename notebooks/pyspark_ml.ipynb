{
 "cells": [
  {
   "cell_type": "code",
   "execution_count": 1,
   "metadata": {},
   "outputs": [],
   "source": [
    "import findspark\n",
    "findspark.init()"
   ]
  },
  {
   "cell_type": "code",
   "execution_count": 2,
   "metadata": {},
   "outputs": [
    {
     "name": "stdout",
     "output_type": "stream",
     "text": [
      "23/05/11 12:59:02 WARN Utils: Your hostname, MacBook-Pro.local resolves to a loopback address: 127.0.0.1; using 10.91.54.55 instead (on interface en0)\n",
      "23/05/11 12:59:02 WARN Utils: Set SPARK_LOCAL_IP if you need to bind to another address\n"
     ]
    },
    {
     "name": "stderr",
     "output_type": "stream",
     "text": [
      "Setting default log level to \"WARN\".\n",
      "To adjust logging level use sc.setLogLevel(newLevel). For SparkR, use setLogLevel(newLevel).\n"
     ]
    },
    {
     "name": "stdout",
     "output_type": "stream",
     "text": [
      "23/05/11 12:59:02 WARN NativeCodeLoader: Unable to load native-hadoop library for your platform... using builtin-java classes where applicable\n"
     ]
    },
    {
     "data": {
      "text/html": [
       "\n",
       "            <div>\n",
       "                <p><b>SparkSession - in-memory</b></p>\n",
       "                \n",
       "        <div>\n",
       "            <p><b>SparkContext</b></p>\n",
       "\n",
       "            <p><a href=\"http://10.91.54.55:4050\">Spark UI</a></p>\n",
       "\n",
       "            <dl>\n",
       "              <dt>Version</dt>\n",
       "                <dd><code>v3.3.2</code></dd>\n",
       "              <dt>Master</dt>\n",
       "                <dd><code>local[*]</code></dd>\n",
       "              <dt>AppName</dt>\n",
       "                <dd><code>Colab</code></dd>\n",
       "            </dl>\n",
       "        </div>\n",
       "        \n",
       "            </div>\n",
       "        "
      ],
      "text/plain": [
       "<pyspark.sql.session.SparkSession at 0x10963f970>"
      ]
     },
     "execution_count": 2,
     "metadata": {},
     "output_type": "execute_result"
    }
   ],
   "source": [
    "from pyspark.sql import SparkSession\n",
    "\n",
    "# We will use this port number for monitoring Spark Jobs\n",
    "port=4050\n",
    "\n",
    "spark = SparkSession.builder\\\n",
    "        .master(\"local[*]\")\\\n",
    "        .appName(\"Colab\")\\\n",
    "        .config('spark.ui.port', str(port))\\\n",
    "        .getOrCreate()\n",
    "\n",
    "spark.conf.set(\"spark.sql.repl.eagerEval.enabled\", True) # Property used to format output tables better\n",
    "\n",
    "spark"
   ]
  },
  {
   "cell_type": "code",
   "execution_count": 3,
   "metadata": {},
   "outputs": [
    {
     "data": {
      "text/html": [
       "<div>\n",
       "<style scoped>\n",
       "    .dataframe tbody tr th:only-of-type {\n",
       "        vertical-align: middle;\n",
       "    }\n",
       "\n",
       "    .dataframe tbody tr th {\n",
       "        vertical-align: top;\n",
       "    }\n",
       "\n",
       "    .dataframe thead th {\n",
       "        text-align: right;\n",
       "    }\n",
       "</style>\n",
       "<table border=\"1\" class=\"dataframe\">\n",
       "  <thead>\n",
       "    <tr style=\"text-align: right;\">\n",
       "      <th></th>\n",
       "      <th>Dates</th>\n",
       "      <th>Category</th>\n",
       "      <th>Descript</th>\n",
       "      <th>DayOfWeek</th>\n",
       "      <th>PdDistrict</th>\n",
       "      <th>Resolution</th>\n",
       "      <th>Address</th>\n",
       "      <th>X</th>\n",
       "      <th>Y</th>\n",
       "    </tr>\n",
       "  </thead>\n",
       "  <tbody>\n",
       "    <tr>\n",
       "      <th>0</th>\n",
       "      <td>2015-05-13 23:53:00</td>\n",
       "      <td>WARRANTS</td>\n",
       "      <td>WARRANT ARREST</td>\n",
       "      <td>Wednesday</td>\n",
       "      <td>NORTHERN</td>\n",
       "      <td>ARREST, BOOKED</td>\n",
       "      <td>OAK ST / LAGUNA ST</td>\n",
       "      <td>-122.425892</td>\n",
       "      <td>37.774599</td>\n",
       "    </tr>\n",
       "    <tr>\n",
       "      <th>1</th>\n",
       "      <td>2015-05-13 23:53:00</td>\n",
       "      <td>OTHER OFFENSES</td>\n",
       "      <td>TRAFFIC VIOLATION ARREST</td>\n",
       "      <td>Wednesday</td>\n",
       "      <td>NORTHERN</td>\n",
       "      <td>ARREST, BOOKED</td>\n",
       "      <td>OAK ST / LAGUNA ST</td>\n",
       "      <td>-122.425892</td>\n",
       "      <td>37.774599</td>\n",
       "    </tr>\n",
       "    <tr>\n",
       "      <th>2</th>\n",
       "      <td>2015-05-13 23:33:00</td>\n",
       "      <td>OTHER OFFENSES</td>\n",
       "      <td>TRAFFIC VIOLATION ARREST</td>\n",
       "      <td>Wednesday</td>\n",
       "      <td>NORTHERN</td>\n",
       "      <td>ARREST, BOOKED</td>\n",
       "      <td>VANNESS AV / GREENWICH ST</td>\n",
       "      <td>-122.424363</td>\n",
       "      <td>37.800414</td>\n",
       "    </tr>\n",
       "    <tr>\n",
       "      <th>3</th>\n",
       "      <td>2015-05-13 23:30:00</td>\n",
       "      <td>LARCENY/THEFT</td>\n",
       "      <td>GRAND THEFT FROM LOCKED AUTO</td>\n",
       "      <td>Wednesday</td>\n",
       "      <td>NORTHERN</td>\n",
       "      <td>NONE</td>\n",
       "      <td>1500 Block of LOMBARD ST</td>\n",
       "      <td>-122.426995</td>\n",
       "      <td>37.800873</td>\n",
       "    </tr>\n",
       "    <tr>\n",
       "      <th>4</th>\n",
       "      <td>2015-05-13 23:30:00</td>\n",
       "      <td>LARCENY/THEFT</td>\n",
       "      <td>GRAND THEFT FROM LOCKED AUTO</td>\n",
       "      <td>Wednesday</td>\n",
       "      <td>PARK</td>\n",
       "      <td>NONE</td>\n",
       "      <td>100 Block of BRODERICK ST</td>\n",
       "      <td>-122.438738</td>\n",
       "      <td>37.771541</td>\n",
       "    </tr>\n",
       "  </tbody>\n",
       "</table>\n",
       "</div>"
      ],
      "text/plain": [
       "                 Dates        Category                      Descript  \\\n",
       "0  2015-05-13 23:53:00        WARRANTS                WARRANT ARREST   \n",
       "1  2015-05-13 23:53:00  OTHER OFFENSES      TRAFFIC VIOLATION ARREST   \n",
       "2  2015-05-13 23:33:00  OTHER OFFENSES      TRAFFIC VIOLATION ARREST   \n",
       "3  2015-05-13 23:30:00   LARCENY/THEFT  GRAND THEFT FROM LOCKED AUTO   \n",
       "4  2015-05-13 23:30:00   LARCENY/THEFT  GRAND THEFT FROM LOCKED AUTO   \n",
       "\n",
       "   DayOfWeek PdDistrict      Resolution                    Address  \\\n",
       "0  Wednesday   NORTHERN  ARREST, BOOKED         OAK ST / LAGUNA ST   \n",
       "1  Wednesday   NORTHERN  ARREST, BOOKED         OAK ST / LAGUNA ST   \n",
       "2  Wednesday   NORTHERN  ARREST, BOOKED  VANNESS AV / GREENWICH ST   \n",
       "3  Wednesday   NORTHERN            NONE   1500 Block of LOMBARD ST   \n",
       "4  Wednesday       PARK            NONE  100 Block of BRODERICK ST   \n",
       "\n",
       "            X          Y  \n",
       "0 -122.425892  37.774599  \n",
       "1 -122.425892  37.774599  \n",
       "2 -122.424363  37.800414  \n",
       "3 -122.426995  37.800873  \n",
       "4 -122.438738  37.771541  "
      ]
     },
     "execution_count": 3,
     "metadata": {},
     "output_type": "execute_result"
    }
   ],
   "source": [
    "# read /Users/husseinyounes/University/big_data/San-Francisco-Crime-Classification-bigdata/data/train.csv\n",
    "import pandas as pd\n",
    "\n",
    "file_path = '/Users/husseinyounes/University/big_data/San-Francisco-Crime-Classification-bigdata/data/train.csv'\n",
    "\n",
    "# read the data\n",
    "data = pd.read_csv(file_path)\n",
    "data.head()"
   ]
  },
  {
   "cell_type": "code",
   "execution_count": 4,
   "metadata": {},
   "outputs": [],
   "source": [
    "spark.conf.set(\"spark.sql.legacy.timeParserPolicy\", \"LEGACY\")"
   ]
  },
  {
   "cell_type": "code",
   "execution_count": 47,
   "metadata": {},
   "outputs": [
    {
     "name": "stdout",
     "output_type": "stream",
     "text": [
      "+-------------------+--------------+--------------------+---------+----------+--------------+--------------------+-------------------+------------------+\n",
      "|              Dates|      Category|            Descript|DayOfWeek|PdDistrict|    Resolution|             Address|                  X|                 Y|\n",
      "+-------------------+--------------+--------------------+---------+----------+--------------+--------------------+-------------------+------------------+\n",
      "|2015-05-13 23:53:00|      WARRANTS|      WARRANT ARREST|Wednesday|  NORTHERN|ARREST, BOOKED|  OAK ST / LAGUNA ST|  -122.425891675136|  37.7745985956747|\n",
      "|2015-05-13 23:53:00|OTHER OFFENSES|TRAFFIC VIOLATION...|Wednesday|  NORTHERN|ARREST, BOOKED|  OAK ST / LAGUNA ST|  -122.425891675136|  37.7745985956747|\n",
      "|2015-05-13 23:33:00|OTHER OFFENSES|TRAFFIC VIOLATION...|Wednesday|  NORTHERN|ARREST, BOOKED|VANNESS AV / GREE...|   -122.42436302145|  37.8004143219856|\n",
      "|2015-05-13 23:30:00| LARCENY/THEFT|GRAND THEFT FROM ...|Wednesday|  NORTHERN|          NONE|1500 Block of LOM...|-122.42699532676599| 37.80087263276921|\n",
      "|2015-05-13 23:30:00| LARCENY/THEFT|GRAND THEFT FROM ...|Wednesday|      PARK|          NONE|100 Block of BROD...|  -122.438737622757|37.771541172057795|\n",
      "+-------------------+--------------+--------------------+---------+----------+--------------+--------------------+-------------------+------------------+\n",
      "only showing top 5 rows\n",
      "\n"
     ]
    }
   ],
   "source": [
    "from pyspark.sql.types import StructType, StructField, IntegerType, StringType, BooleanType, DateType, TimestampType\n",
    "\n",
    "schema = StructType([\n",
    "    StructField(\"Dates\", TimestampType(), True),\n",
    "    StructField(\"Category\", StringType(), True),\n",
    "    StructField(\"Descript\", StringType(), True),\n",
    "    StructField(\"DayOfWeek\", StringType(), True),\n",
    "    StructField(\"PdDistrict\", StringType(), True),\n",
    "    StructField(\"Resolution\", StringType(), True),\n",
    "    StructField(\"Address\", StringType(), True),\n",
    "    StructField(\"X\", StringType(), True),\n",
    "    StructField(\"Y\", StringType(), True)\n",
    "])\n",
    "\n",
    "# read the data\n",
    "df = spark.read.csv(file_path, header=True, schema=schema)\n",
    "df.show(5)"
   ]
  },
  {
   "cell_type": "code",
   "execution_count": 32,
   "metadata": {},
   "outputs": [
    {
     "data": {
      "text/plain": [
       "[('Dates', 'timestamp'),\n",
       " ('Category', 'string'),\n",
       " ('Descript', 'string'),\n",
       " ('DayOfWeek', 'string'),\n",
       " ('PdDistrict', 'string'),\n",
       " ('Resolution', 'string'),\n",
       " ('Address', 'string'),\n",
       " ('X', 'string'),\n",
       " ('Y', 'string')]"
      ]
     },
     "execution_count": 32,
     "metadata": {},
     "output_type": "execute_result"
    }
   ],
   "source": [
    "df.dtypes"
   ]
  },
  {
   "cell_type": "code",
   "execution_count": 33,
   "metadata": {},
   "outputs": [
    {
     "data": {
      "text/html": [
       "<table border='1'>\n",
       "<tr><th>Dates</th><th>Category</th><th>Descript</th><th>DayOfWeek</th><th>PdDistrict</th><th>Resolution</th><th>Address</th><th>X</th><th>Y</th></tr>\n",
       "<tr><td>2015-05-13 23:53:00</td><td>WARRANTS</td><td>WARRANT ARREST</td><td>Wednesday</td><td>NORTHERN</td><td>ARREST, BOOKED</td><td>OAK ST / LAGUNA ST</td><td>-122.425891675136</td><td>37.7745985956747</td></tr>\n",
       "<tr><td>2015-05-13 23:53:00</td><td>OTHER OFFENSES</td><td>TRAFFIC VIOLATION...</td><td>Wednesday</td><td>NORTHERN</td><td>ARREST, BOOKED</td><td>OAK ST / LAGUNA ST</td><td>-122.425891675136</td><td>37.7745985956747</td></tr>\n",
       "<tr><td>2015-05-13 23:33:00</td><td>OTHER OFFENSES</td><td>TRAFFIC VIOLATION...</td><td>Wednesday</td><td>NORTHERN</td><td>ARREST, BOOKED</td><td>VANNESS AV / GREE...</td><td>-122.42436302145</td><td>37.8004143219856</td></tr>\n",
       "<tr><td>2015-05-13 23:30:00</td><td>LARCENY/THEFT</td><td>GRAND THEFT FROM ...</td><td>Wednesday</td><td>NORTHERN</td><td>NONE</td><td>1500 Block of LOM...</td><td>-122.42699532676599</td><td>37.80087263276921</td></tr>\n",
       "<tr><td>2015-05-13 23:30:00</td><td>LARCENY/THEFT</td><td>GRAND THEFT FROM ...</td><td>Wednesday</td><td>PARK</td><td>NONE</td><td>100 Block of BROD...</td><td>-122.438737622757</td><td>37.771541172057795</td></tr>\n",
       "<tr><td>2015-05-13 23:30:00</td><td>LARCENY/THEFT</td><td>GRAND THEFT FROM ...</td><td>Wednesday</td><td>INGLESIDE</td><td>NONE</td><td>0 Block of TEDDY AV</td><td>-122.40325236121201</td><td>37.713430704116</td></tr>\n",
       "<tr><td>2015-05-13 23:30:00</td><td>VEHICLE THEFT</td><td>STOLEN AUTOMOBILE</td><td>Wednesday</td><td>INGLESIDE</td><td>NONE</td><td>AVALON AV / PERU AV</td><td>-122.423326976668</td><td>37.7251380403778</td></tr>\n",
       "<tr><td>2015-05-13 23:30:00</td><td>VEHICLE THEFT</td><td>STOLEN AUTOMOBILE</td><td>Wednesday</td><td>BAYVIEW</td><td>NONE</td><td>KIRKWOOD AV / DON...</td><td>-122.371274317441</td><td>37.7275640719518</td></tr>\n",
       "<tr><td>2015-05-13 23:00:00</td><td>LARCENY/THEFT</td><td>GRAND THEFT FROM ...</td><td>Wednesday</td><td>RICHMOND</td><td>NONE</td><td>600 Block of 47TH AV</td><td>-122.508194031117</td><td>37.776601260681204</td></tr>\n",
       "<tr><td>2015-05-13 23:00:00</td><td>LARCENY/THEFT</td><td>GRAND THEFT FROM ...</td><td>Wednesday</td><td>CENTRAL</td><td>NONE</td><td>JEFFERSON ST / LE...</td><td>-122.419087676747</td><td>37.8078015516515</td></tr>\n",
       "<tr><td>2015-05-13 22:58:00</td><td>LARCENY/THEFT</td><td>PETTY THEFT FROM ...</td><td>Wednesday</td><td>CENTRAL</td><td>NONE</td><td>JEFFERSON ST / LE...</td><td>-122.419087676747</td><td>37.8078015516515</td></tr>\n",
       "<tr><td>2015-05-13 22:30:00</td><td>OTHER OFFENSES</td><td>MISCELLANEOUS INV...</td><td>Wednesday</td><td>TARAVAL</td><td>NONE</td><td>0 Block of ESCOLT...</td><td>-122.487983072777</td><td>37.737666654332706</td></tr>\n",
       "<tr><td>2015-05-13 22:30:00</td><td>VANDALISM</td><td>MALICIOUS MISCHIE...</td><td>Wednesday</td><td>TENDERLOIN</td><td>NONE</td><td>TURK ST / JONES ST</td><td>-122.41241426358101</td><td>37.7830037964534</td></tr>\n",
       "<tr><td>2015-05-13 22:06:00</td><td>LARCENY/THEFT</td><td>GRAND THEFT FROM ...</td><td>Wednesday</td><td>NORTHERN</td><td>NONE</td><td>FILLMORE ST / GEA...</td><td>-122.432914603494</td><td>37.7843533426568</td></tr>\n",
       "<tr><td>2015-05-13 22:00:00</td><td>NON-CRIMINAL</td><td>FOUND PROPERTY</td><td>Wednesday</td><td>BAYVIEW</td><td>NONE</td><td>200 Block of WILL...</td><td>-122.397744427103</td><td>37.7299346936044</td></tr>\n",
       "<tr><td>2015-05-13 22:00:00</td><td>NON-CRIMINAL</td><td>FOUND PROPERTY</td><td>Wednesday</td><td>BAYVIEW</td><td>NONE</td><td>0 Block of MENDEL...</td><td>-122.38369150395901</td><td>37.7431890419965</td></tr>\n",
       "<tr><td>2015-05-13 22:00:00</td><td>ROBBERY</td><td>ROBBERY, ARMED WI...</td><td>Wednesday</td><td>TENDERLOIN</td><td>NONE</td><td>EDDY ST / JONES ST</td><td>-122.412597377187</td><td>37.783932027727296</td></tr>\n",
       "<tr><td>2015-05-13 21:55:00</td><td>ASSAULT</td><td>AGGRAVATED ASSAUL...</td><td>Wednesday</td><td>INGLESIDE</td><td>NONE</td><td>GODEUS ST / MISSI...</td><td>-122.421681531572</td><td>37.7428222004845</td></tr>\n",
       "<tr><td>2015-05-13 21:40:00</td><td>OTHER OFFENSES</td><td>TRAFFIC VIOLATION</td><td>Wednesday</td><td>BAYVIEW</td><td>ARREST, BOOKED</td><td>MENDELL ST / HUDS...</td><td>-122.38640086995301</td><td>37.738983491072</td></tr>\n",
       "<tr><td>2015-05-13 21:30:00</td><td>NON-CRIMINAL</td><td>FOUND PROPERTY</td><td>Wednesday</td><td>TENDERLOIN</td><td>NONE</td><td>100 Block of JONE...</td><td>-122.412249767634</td><td>37.782556330202</td></tr>\n",
       "</table>\n",
       "only showing top 20 rows\n"
      ],
      "text/plain": [
       "+-------------------+--------------+--------------------+---------+----------+--------------+--------------------+-------------------+------------------+\n",
       "|              Dates|      Category|            Descript|DayOfWeek|PdDistrict|    Resolution|             Address|                  X|                 Y|\n",
       "+-------------------+--------------+--------------------+---------+----------+--------------+--------------------+-------------------+------------------+\n",
       "|2015-05-13 23:53:00|      WARRANTS|      WARRANT ARREST|Wednesday|  NORTHERN|ARREST, BOOKED|  OAK ST / LAGUNA ST|  -122.425891675136|  37.7745985956747|\n",
       "|2015-05-13 23:53:00|OTHER OFFENSES|TRAFFIC VIOLATION...|Wednesday|  NORTHERN|ARREST, BOOKED|  OAK ST / LAGUNA ST|  -122.425891675136|  37.7745985956747|\n",
       "|2015-05-13 23:33:00|OTHER OFFENSES|TRAFFIC VIOLATION...|Wednesday|  NORTHERN|ARREST, BOOKED|VANNESS AV / GREE...|   -122.42436302145|  37.8004143219856|\n",
       "|2015-05-13 23:30:00| LARCENY/THEFT|GRAND THEFT FROM ...|Wednesday|  NORTHERN|          NONE|1500 Block of LOM...|-122.42699532676599| 37.80087263276921|\n",
       "|2015-05-13 23:30:00| LARCENY/THEFT|GRAND THEFT FROM ...|Wednesday|      PARK|          NONE|100 Block of BROD...|  -122.438737622757|37.771541172057795|\n",
       "|2015-05-13 23:30:00| LARCENY/THEFT|GRAND THEFT FROM ...|Wednesday| INGLESIDE|          NONE| 0 Block of TEDDY AV|-122.40325236121201|   37.713430704116|\n",
       "|2015-05-13 23:30:00| VEHICLE THEFT|   STOLEN AUTOMOBILE|Wednesday| INGLESIDE|          NONE| AVALON AV / PERU AV|  -122.423326976668|  37.7251380403778|\n",
       "|2015-05-13 23:30:00| VEHICLE THEFT|   STOLEN AUTOMOBILE|Wednesday|   BAYVIEW|          NONE|KIRKWOOD AV / DON...|  -122.371274317441|  37.7275640719518|\n",
       "|2015-05-13 23:00:00| LARCENY/THEFT|GRAND THEFT FROM ...|Wednesday|  RICHMOND|          NONE|600 Block of 47TH AV|  -122.508194031117|37.776601260681204|\n",
       "|2015-05-13 23:00:00| LARCENY/THEFT|GRAND THEFT FROM ...|Wednesday|   CENTRAL|          NONE|JEFFERSON ST / LE...|  -122.419087676747|  37.8078015516515|\n",
       "|2015-05-13 22:58:00| LARCENY/THEFT|PETTY THEFT FROM ...|Wednesday|   CENTRAL|          NONE|JEFFERSON ST / LE...|  -122.419087676747|  37.8078015516515|\n",
       "|2015-05-13 22:30:00|OTHER OFFENSES|MISCELLANEOUS INV...|Wednesday|   TARAVAL|          NONE|0 Block of ESCOLT...|  -122.487983072777|37.737666654332706|\n",
       "|2015-05-13 22:30:00|     VANDALISM|MALICIOUS MISCHIE...|Wednesday|TENDERLOIN|          NONE|  TURK ST / JONES ST|-122.41241426358101|  37.7830037964534|\n",
       "|2015-05-13 22:06:00| LARCENY/THEFT|GRAND THEFT FROM ...|Wednesday|  NORTHERN|          NONE|FILLMORE ST / GEA...|  -122.432914603494|  37.7843533426568|\n",
       "|2015-05-13 22:00:00|  NON-CRIMINAL|      FOUND PROPERTY|Wednesday|   BAYVIEW|          NONE|200 Block of WILL...|  -122.397744427103|  37.7299346936044|\n",
       "|2015-05-13 22:00:00|  NON-CRIMINAL|      FOUND PROPERTY|Wednesday|   BAYVIEW|          NONE|0 Block of MENDEL...|-122.38369150395901|  37.7431890419965|\n",
       "|2015-05-13 22:00:00|       ROBBERY|ROBBERY, ARMED WI...|Wednesday|TENDERLOIN|          NONE|  EDDY ST / JONES ST|  -122.412597377187|37.783932027727296|\n",
       "|2015-05-13 21:55:00|       ASSAULT|AGGRAVATED ASSAUL...|Wednesday| INGLESIDE|          NONE|GODEUS ST / MISSI...|  -122.421681531572|  37.7428222004845|\n",
       "|2015-05-13 21:40:00|OTHER OFFENSES|   TRAFFIC VIOLATION|Wednesday|   BAYVIEW|ARREST, BOOKED|MENDELL ST / HUDS...|-122.38640086995301|   37.738983491072|\n",
       "|2015-05-13 21:30:00|  NON-CRIMINAL|      FOUND PROPERTY|Wednesday|TENDERLOIN|          NONE|100 Block of JONE...|  -122.412249767634|   37.782556330202|\n",
       "+-------------------+--------------+--------------------+---------+----------+--------------+--------------------+-------------------+------------------+\n",
       "only showing top 20 rows"
      ]
     },
     "execution_count": 33,
     "metadata": {},
     "output_type": "execute_result"
    }
   ],
   "source": [
    "df"
   ]
  },
  {
   "cell_type": "code",
   "execution_count": 63,
   "metadata": {},
   "outputs": [
    {
     "name": "stderr",
     "output_type": "stream",
     "text": [
      "                                                                                \r"
     ]
    },
    {
     "data": {
      "text/html": [
       "<table border='1'>\n",
       "<tr><th>Dates</th><th>Category</th><th>Descript</th><th>DayOfWeek</th><th>PdDistrict</th><th>Resolution</th><th>Address</th><th>X</th><th>Y</th><th>DayOfWeek_index</th><th>PdDistrict_index</th><th>Resolution_index</th><th>Category_index</th><th>DayOfWeek_vec</th><th>PdDistrict_vec</th><th>Resolution_vec</th><th>Category_vec</th><th>Descript_words</th><th>Descript_vec</th><th>features</th></tr>\n",
       "<tr><td>2015-05-13 23:53:00</td><td>WARRANTS</td><td>WARRANT ARREST</td><td>Wednesday</td><td>NORTHERN</td><td>ARREST, BOOKED</td><td>OAK ST / LAGUNA ST</td><td>-122.425891675136</td><td>37.7745985956747</td><td>1.0</td><td>2.0</td><td>1.0</td><td>7.0</td><td>(6,[1],[1.0])</td><td>(9,[2],[1.0])</td><td>(16,[1],[1.0])</td><td>(38,[7],[1.0])</td><td>[warrant, arrest]</td><td>[-4.5020973682403...</td><td>(34,[0,1,2,4,11,1...</td></tr>\n",
       "<tr><td>2015-05-13 23:53:00</td><td>OTHER OFFENSES</td><td>TRAFFIC VIOLATION...</td><td>Wednesday</td><td>NORTHERN</td><td>ARREST, BOOKED</td><td>OAK ST / LAGUNA ST</td><td>-122.425891675136</td><td>37.7745985956747</td><td>1.0</td><td>2.0</td><td>1.0</td><td>1.0</td><td>(6,[1],[1.0])</td><td>(9,[2],[1.0])</td><td>(16,[1],[1.0])</td><td>(38,[1],[1.0])</td><td>[traffic, violati...</td><td>[-3.6304053664207...</td><td>(34,[0,1,2,4,11,1...</td></tr>\n",
       "<tr><td>2015-05-13 23:33:00</td><td>OTHER OFFENSES</td><td>TRAFFIC VIOLATION...</td><td>Wednesday</td><td>NORTHERN</td><td>ARREST, BOOKED</td><td>VANNESS AV / GREE...</td><td>-122.42436302145</td><td>37.8004143219856</td><td>1.0</td><td>2.0</td><td>1.0</td><td>1.0</td><td>(6,[1],[1.0])</td><td>(9,[2],[1.0])</td><td>(16,[1],[1.0])</td><td>(38,[1],[1.0])</td><td>[traffic, violati...</td><td>[-3.6304053664207...</td><td>(34,[0,1,2,4,11,1...</td></tr>\n",
       "<tr><td>2015-05-13 23:30:00</td><td>LARCENY/THEFT</td><td>GRAND THEFT FROM ...</td><td>Wednesday</td><td>NORTHERN</td><td>NONE</td><td>1500 Block of LOM...</td><td>-122.42699532676599</td><td>37.80087263276921</td><td>1.0</td><td>2.0</td><td>0.0</td><td>0.0</td><td>(6,[1],[1.0])</td><td>(9,[2],[1.0])</td><td>(16,[0],[1.0])</td><td>(38,[0],[1.0])</td><td>[grand, theft, fr...</td><td>[0.37099074125289...</td><td>(34,[0,1,2,4,11,1...</td></tr>\n",
       "<tr><td>2015-05-13 23:30:00</td><td>LARCENY/THEFT</td><td>GRAND THEFT FROM ...</td><td>Wednesday</td><td>PARK</td><td>NONE</td><td>100 Block of BROD...</td><td>-122.438737622757</td><td>37.771541172057795</td><td>1.0</td><td>8.0</td><td>0.0</td><td>0.0</td><td>(6,[1],[1.0])</td><td>(9,[8],[1.0])</td><td>(16,[0],[1.0])</td><td>(38,[0],[1.0])</td><td>[grand, theft, fr...</td><td>[0.37099074125289...</td><td>(34,[0,1,2,4,17,1...</td></tr>\n",
       "<tr><td>2015-05-13 23:30:00</td><td>LARCENY/THEFT</td><td>GRAND THEFT FROM ...</td><td>Wednesday</td><td>INGLESIDE</td><td>NONE</td><td>0 Block of TEDDY AV</td><td>-122.40325236121201</td><td>37.713430704116</td><td>1.0</td><td>6.0</td><td>0.0</td><td>0.0</td><td>(6,[1],[1.0])</td><td>(9,[6],[1.0])</td><td>(16,[0],[1.0])</td><td>(38,[0],[1.0])</td><td>[grand, theft, fr...</td><td>[0.40975003838539...</td><td>(34,[0,1,2,4,15,1...</td></tr>\n",
       "<tr><td>2015-05-13 23:30:00</td><td>VEHICLE THEFT</td><td>STOLEN AUTOMOBILE</td><td>Wednesday</td><td>INGLESIDE</td><td>NONE</td><td>AVALON AV / PERU AV</td><td>-122.423326976668</td><td>37.7251380403778</td><td>1.0</td><td>6.0</td><td>0.0</td><td>5.0</td><td>(6,[1],[1.0])</td><td>(9,[6],[1.0])</td><td>(16,[0],[1.0])</td><td>(38,[5],[1.0])</td><td>[stolen, automobile]</td><td>[-2.6523309051990...</td><td>(34,[0,1,2,4,15,1...</td></tr>\n",
       "<tr><td>2015-05-13 23:30:00</td><td>VEHICLE THEFT</td><td>STOLEN AUTOMOBILE</td><td>Wednesday</td><td>BAYVIEW</td><td>NONE</td><td>KIRKWOOD AV / DON...</td><td>-122.371274317441</td><td>37.7275640719518</td><td>1.0</td><td>3.0</td><td>0.0</td><td>5.0</td><td>(6,[1],[1.0])</td><td>(9,[3],[1.0])</td><td>(16,[0],[1.0])</td><td>(38,[5],[1.0])</td><td>[stolen, automobile]</td><td>[-2.6523309051990...</td><td>(34,[0,1,2,4,12,1...</td></tr>\n",
       "<tr><td>2015-05-13 23:00:00</td><td>LARCENY/THEFT</td><td>GRAND THEFT FROM ...</td><td>Wednesday</td><td>RICHMOND</td><td>NONE</td><td>600 Block of 47TH AV</td><td>-122.508194031117</td><td>37.776601260681204</td><td>1.0</td><td>9.0</td><td>0.0</td><td>0.0</td><td>(6,[1],[1.0])</td><td>(9,[],[])</td><td>(16,[0],[1.0])</td><td>(38,[0],[1.0])</td><td>[grand, theft, fr...</td><td>[0.37099074125289...</td><td>(34,[0,1,2,4,18],...</td></tr>\n",
       "<tr><td>2015-05-13 23:00:00</td><td>LARCENY/THEFT</td><td>GRAND THEFT FROM ...</td><td>Wednesday</td><td>CENTRAL</td><td>NONE</td><td>JEFFERSON ST / LE...</td><td>-122.419087676747</td><td>37.8078015516515</td><td>1.0</td><td>4.0</td><td>0.0</td><td>0.0</td><td>(6,[1],[1.0])</td><td>(9,[4],[1.0])</td><td>(16,[0],[1.0])</td><td>(38,[0],[1.0])</td><td>[grand, theft, fr...</td><td>[0.37099074125289...</td><td>(34,[0,1,2,4,13,1...</td></tr>\n",
       "<tr><td>2015-05-13 22:58:00</td><td>LARCENY/THEFT</td><td>PETTY THEFT FROM ...</td><td>Wednesday</td><td>CENTRAL</td><td>NONE</td><td>JEFFERSON ST / LE...</td><td>-122.419087676747</td><td>37.8078015516515</td><td>1.0</td><td>4.0</td><td>0.0</td><td>0.0</td><td>(6,[1],[1.0])</td><td>(9,[4],[1.0])</td><td>(16,[0],[1.0])</td><td>(38,[0],[1.0])</td><td>[petty, theft, fr...</td><td>[0.43658286333084...</td><td>(34,[0,1,2,4,13,1...</td></tr>\n",
       "<tr><td>2015-05-13 22:30:00</td><td>OTHER OFFENSES</td><td>MISCELLANEOUS INV...</td><td>Wednesday</td><td>TARAVAL</td><td>NONE</td><td>0 Block of ESCOLT...</td><td>-122.487983072777</td><td>37.737666654332706</td><td>1.0</td><td>7.0</td><td>0.0</td><td>1.0</td><td>(6,[1],[1.0])</td><td>(9,[7],[1.0])</td><td>(16,[0],[1.0])</td><td>(38,[1],[1.0])</td><td>[miscellaneous, i...</td><td>[-7.4895570278167...</td><td>(34,[0,1,2,4,16,1...</td></tr>\n",
       "<tr><td>2015-05-13 22:30:00</td><td>VANDALISM</td><td>MALICIOUS MISCHIE...</td><td>Wednesday</td><td>TENDERLOIN</td><td>NONE</td><td>TURK ST / JONES ST</td><td>-122.41241426358101</td><td>37.7830037964534</td><td>1.0</td><td>5.0</td><td>0.0</td><td>6.0</td><td>(6,[1],[1.0])</td><td>(9,[5],[1.0])</td><td>(16,[0],[1.0])</td><td>(38,[6],[1.0])</td><td>[malicious, misch...</td><td>[-2.1811247110366...</td><td>(34,[0,1,2,4,14,1...</td></tr>\n",
       "<tr><td>2015-05-13 22:06:00</td><td>LARCENY/THEFT</td><td>GRAND THEFT FROM ...</td><td>Wednesday</td><td>NORTHERN</td><td>NONE</td><td>FILLMORE ST / GEA...</td><td>-122.432914603494</td><td>37.7843533426568</td><td>1.0</td><td>2.0</td><td>0.0</td><td>0.0</td><td>(6,[1],[1.0])</td><td>(9,[2],[1.0])</td><td>(16,[0],[1.0])</td><td>(38,[0],[1.0])</td><td>[grand, theft, fr...</td><td>[0.37099074125289...</td><td>(34,[0,1,2,4,11,1...</td></tr>\n",
       "<tr><td>2015-05-13 22:00:00</td><td>NON-CRIMINAL</td><td>FOUND PROPERTY</td><td>Wednesday</td><td>BAYVIEW</td><td>NONE</td><td>200 Block of WILL...</td><td>-122.397744427103</td><td>37.7299346936044</td><td>1.0</td><td>3.0</td><td>0.0</td><td>2.0</td><td>(6,[1],[1.0])</td><td>(9,[3],[1.0])</td><td>(16,[0],[1.0])</td><td>(38,[2],[1.0])</td><td>[found, property]</td><td>[3.84028837084770...</td><td>(34,[0,1,2,4,12,1...</td></tr>\n",
       "<tr><td>2015-05-13 22:00:00</td><td>NON-CRIMINAL</td><td>FOUND PROPERTY</td><td>Wednesday</td><td>BAYVIEW</td><td>NONE</td><td>0 Block of MENDEL...</td><td>-122.38369150395901</td><td>37.7431890419965</td><td>1.0</td><td>3.0</td><td>0.0</td><td>2.0</td><td>(6,[1],[1.0])</td><td>(9,[3],[1.0])</td><td>(16,[0],[1.0])</td><td>(38,[2],[1.0])</td><td>[found, property]</td><td>[3.84028837084770...</td><td>(34,[0,1,2,4,12,1...</td></tr>\n",
       "<tr><td>2015-05-13 22:00:00</td><td>ROBBERY</td><td>ROBBERY, ARMED WI...</td><td>Wednesday</td><td>TENDERLOIN</td><td>NONE</td><td>EDDY ST / JONES ST</td><td>-122.412597377187</td><td>37.783932027727296</td><td>1.0</td><td>5.0</td><td>0.0</td><td>11.0</td><td>(6,[1],[1.0])</td><td>(9,[5],[1.0])</td><td>(16,[0],[1.0])</td><td>(38,[11],[1.0])</td><td>[robbery,, armed,...</td><td>[0.59463666081428...</td><td>(34,[0,1,2,4,14,1...</td></tr>\n",
       "<tr><td>2015-05-13 21:55:00</td><td>ASSAULT</td><td>AGGRAVATED ASSAUL...</td><td>Wednesday</td><td>INGLESIDE</td><td>NONE</td><td>GODEUS ST / MISSI...</td><td>-122.421681531572</td><td>37.7428222004845</td><td>1.0</td><td>6.0</td><td>0.0</td><td>3.0</td><td>(6,[1],[1.0])</td><td>(9,[6],[1.0])</td><td>(16,[0],[1.0])</td><td>(38,[3],[1.0])</td><td>[aggravated, assa...</td><td>[0.91652520895004...</td><td>(34,[0,1,2,4,15,1...</td></tr>\n",
       "<tr><td>2015-05-13 21:40:00</td><td>OTHER OFFENSES</td><td>TRAFFIC VIOLATION</td><td>Wednesday</td><td>BAYVIEW</td><td>ARREST, BOOKED</td><td>MENDELL ST / HUDS...</td><td>-122.38640086995301</td><td>37.738983491072</td><td>1.0</td><td>3.0</td><td>1.0</td><td>1.0</td><td>(6,[1],[1.0])</td><td>(9,[3],[1.0])</td><td>(16,[1],[1.0])</td><td>(38,[1],[1.0])</td><td>[traffic, violation]</td><td>[-2.1751832067966...</td><td>(34,[0,1,2,4,12,1...</td></tr>\n",
       "<tr><td>2015-05-13 21:30:00</td><td>NON-CRIMINAL</td><td>FOUND PROPERTY</td><td>Wednesday</td><td>TENDERLOIN</td><td>NONE</td><td>100 Block of JONE...</td><td>-122.412249767634</td><td>37.782556330202</td><td>1.0</td><td>5.0</td><td>0.0</td><td>2.0</td><td>(6,[1],[1.0])</td><td>(9,[5],[1.0])</td><td>(16,[0],[1.0])</td><td>(38,[2],[1.0])</td><td>[found, property]</td><td>[3.84028837084770...</td><td>(34,[0,1,2,4,14,1...</td></tr>\n",
       "</table>\n",
       "only showing top 20 rows\n"
      ],
      "text/plain": [
       "+-------------------+--------------+--------------------+---------+----------+--------------+--------------------+-------------------+------------------+---------------+----------------+----------------+--------------+-------------+--------------+--------------+---------------+--------------------+--------------------+--------------------+\n",
       "|              Dates|      Category|            Descript|DayOfWeek|PdDistrict|    Resolution|             Address|                  X|                 Y|DayOfWeek_index|PdDistrict_index|Resolution_index|Category_index|DayOfWeek_vec|PdDistrict_vec|Resolution_vec|   Category_vec|      Descript_words|        Descript_vec|            features|\n",
       "+-------------------+--------------+--------------------+---------+----------+--------------+--------------------+-------------------+------------------+---------------+----------------+----------------+--------------+-------------+--------------+--------------+---------------+--------------------+--------------------+--------------------+\n",
       "|2015-05-13 23:53:00|      WARRANTS|      WARRANT ARREST|Wednesday|  NORTHERN|ARREST, BOOKED|  OAK ST / LAGUNA ST|  -122.425891675136|  37.7745985956747|            1.0|             2.0|             1.0|           7.0|(6,[1],[1.0])| (9,[2],[1.0])|(16,[1],[1.0])| (38,[7],[1.0])|   [warrant, arrest]|[-4.5020973682403...|(34,[0,1,2,4,11,1...|\n",
       "|2015-05-13 23:53:00|OTHER OFFENSES|TRAFFIC VIOLATION...|Wednesday|  NORTHERN|ARREST, BOOKED|  OAK ST / LAGUNA ST|  -122.425891675136|  37.7745985956747|            1.0|             2.0|             1.0|           1.0|(6,[1],[1.0])| (9,[2],[1.0])|(16,[1],[1.0])| (38,[1],[1.0])|[traffic, violati...|[-3.6304053664207...|(34,[0,1,2,4,11,1...|\n",
       "|2015-05-13 23:33:00|OTHER OFFENSES|TRAFFIC VIOLATION...|Wednesday|  NORTHERN|ARREST, BOOKED|VANNESS AV / GREE...|   -122.42436302145|  37.8004143219856|            1.0|             2.0|             1.0|           1.0|(6,[1],[1.0])| (9,[2],[1.0])|(16,[1],[1.0])| (38,[1],[1.0])|[traffic, violati...|[-3.6304053664207...|(34,[0,1,2,4,11,1...|\n",
       "|2015-05-13 23:30:00| LARCENY/THEFT|GRAND THEFT FROM ...|Wednesday|  NORTHERN|          NONE|1500 Block of LOM...|-122.42699532676599| 37.80087263276921|            1.0|             2.0|             0.0|           0.0|(6,[1],[1.0])| (9,[2],[1.0])|(16,[0],[1.0])| (38,[0],[1.0])|[grand, theft, fr...|[0.37099074125289...|(34,[0,1,2,4,11,1...|\n",
       "|2015-05-13 23:30:00| LARCENY/THEFT|GRAND THEFT FROM ...|Wednesday|      PARK|          NONE|100 Block of BROD...|  -122.438737622757|37.771541172057795|            1.0|             8.0|             0.0|           0.0|(6,[1],[1.0])| (9,[8],[1.0])|(16,[0],[1.0])| (38,[0],[1.0])|[grand, theft, fr...|[0.37099074125289...|(34,[0,1,2,4,17,1...|\n",
       "|2015-05-13 23:30:00| LARCENY/THEFT|GRAND THEFT FROM ...|Wednesday| INGLESIDE|          NONE| 0 Block of TEDDY AV|-122.40325236121201|   37.713430704116|            1.0|             6.0|             0.0|           0.0|(6,[1],[1.0])| (9,[6],[1.0])|(16,[0],[1.0])| (38,[0],[1.0])|[grand, theft, fr...|[0.40975003838539...|(34,[0,1,2,4,15,1...|\n",
       "|2015-05-13 23:30:00| VEHICLE THEFT|   STOLEN AUTOMOBILE|Wednesday| INGLESIDE|          NONE| AVALON AV / PERU AV|  -122.423326976668|  37.7251380403778|            1.0|             6.0|             0.0|           5.0|(6,[1],[1.0])| (9,[6],[1.0])|(16,[0],[1.0])| (38,[5],[1.0])|[stolen, automobile]|[-2.6523309051990...|(34,[0,1,2,4,15,1...|\n",
       "|2015-05-13 23:30:00| VEHICLE THEFT|   STOLEN AUTOMOBILE|Wednesday|   BAYVIEW|          NONE|KIRKWOOD AV / DON...|  -122.371274317441|  37.7275640719518|            1.0|             3.0|             0.0|           5.0|(6,[1],[1.0])| (9,[3],[1.0])|(16,[0],[1.0])| (38,[5],[1.0])|[stolen, automobile]|[-2.6523309051990...|(34,[0,1,2,4,12,1...|\n",
       "|2015-05-13 23:00:00| LARCENY/THEFT|GRAND THEFT FROM ...|Wednesday|  RICHMOND|          NONE|600 Block of 47TH AV|  -122.508194031117|37.776601260681204|            1.0|             9.0|             0.0|           0.0|(6,[1],[1.0])|     (9,[],[])|(16,[0],[1.0])| (38,[0],[1.0])|[grand, theft, fr...|[0.37099074125289...|(34,[0,1,2,4,18],...|\n",
       "|2015-05-13 23:00:00| LARCENY/THEFT|GRAND THEFT FROM ...|Wednesday|   CENTRAL|          NONE|JEFFERSON ST / LE...|  -122.419087676747|  37.8078015516515|            1.0|             4.0|             0.0|           0.0|(6,[1],[1.0])| (9,[4],[1.0])|(16,[0],[1.0])| (38,[0],[1.0])|[grand, theft, fr...|[0.37099074125289...|(34,[0,1,2,4,13,1...|\n",
       "|2015-05-13 22:58:00| LARCENY/THEFT|PETTY THEFT FROM ...|Wednesday|   CENTRAL|          NONE|JEFFERSON ST / LE...|  -122.419087676747|  37.8078015516515|            1.0|             4.0|             0.0|           0.0|(6,[1],[1.0])| (9,[4],[1.0])|(16,[0],[1.0])| (38,[0],[1.0])|[petty, theft, fr...|[0.43658286333084...|(34,[0,1,2,4,13,1...|\n",
       "|2015-05-13 22:30:00|OTHER OFFENSES|MISCELLANEOUS INV...|Wednesday|   TARAVAL|          NONE|0 Block of ESCOLT...|  -122.487983072777|37.737666654332706|            1.0|             7.0|             0.0|           1.0|(6,[1],[1.0])| (9,[7],[1.0])|(16,[0],[1.0])| (38,[1],[1.0])|[miscellaneous, i...|[-7.4895570278167...|(34,[0,1,2,4,16,1...|\n",
       "|2015-05-13 22:30:00|     VANDALISM|MALICIOUS MISCHIE...|Wednesday|TENDERLOIN|          NONE|  TURK ST / JONES ST|-122.41241426358101|  37.7830037964534|            1.0|             5.0|             0.0|           6.0|(6,[1],[1.0])| (9,[5],[1.0])|(16,[0],[1.0])| (38,[6],[1.0])|[malicious, misch...|[-2.1811247110366...|(34,[0,1,2,4,14,1...|\n",
       "|2015-05-13 22:06:00| LARCENY/THEFT|GRAND THEFT FROM ...|Wednesday|  NORTHERN|          NONE|FILLMORE ST / GEA...|  -122.432914603494|  37.7843533426568|            1.0|             2.0|             0.0|           0.0|(6,[1],[1.0])| (9,[2],[1.0])|(16,[0],[1.0])| (38,[0],[1.0])|[grand, theft, fr...|[0.37099074125289...|(34,[0,1,2,4,11,1...|\n",
       "|2015-05-13 22:00:00|  NON-CRIMINAL|      FOUND PROPERTY|Wednesday|   BAYVIEW|          NONE|200 Block of WILL...|  -122.397744427103|  37.7299346936044|            1.0|             3.0|             0.0|           2.0|(6,[1],[1.0])| (9,[3],[1.0])|(16,[0],[1.0])| (38,[2],[1.0])|   [found, property]|[3.84028837084770...|(34,[0,1,2,4,12,1...|\n",
       "|2015-05-13 22:00:00|  NON-CRIMINAL|      FOUND PROPERTY|Wednesday|   BAYVIEW|          NONE|0 Block of MENDEL...|-122.38369150395901|  37.7431890419965|            1.0|             3.0|             0.0|           2.0|(6,[1],[1.0])| (9,[3],[1.0])|(16,[0],[1.0])| (38,[2],[1.0])|   [found, property]|[3.84028837084770...|(34,[0,1,2,4,12,1...|\n",
       "|2015-05-13 22:00:00|       ROBBERY|ROBBERY, ARMED WI...|Wednesday|TENDERLOIN|          NONE|  EDDY ST / JONES ST|  -122.412597377187|37.783932027727296|            1.0|             5.0|             0.0|          11.0|(6,[1],[1.0])| (9,[5],[1.0])|(16,[0],[1.0])|(38,[11],[1.0])|[robbery,, armed,...|[0.59463666081428...|(34,[0,1,2,4,14,1...|\n",
       "|2015-05-13 21:55:00|       ASSAULT|AGGRAVATED ASSAUL...|Wednesday| INGLESIDE|          NONE|GODEUS ST / MISSI...|  -122.421681531572|  37.7428222004845|            1.0|             6.0|             0.0|           3.0|(6,[1],[1.0])| (9,[6],[1.0])|(16,[0],[1.0])| (38,[3],[1.0])|[aggravated, assa...|[0.91652520895004...|(34,[0,1,2,4,15,1...|\n",
       "|2015-05-13 21:40:00|OTHER OFFENSES|   TRAFFIC VIOLATION|Wednesday|   BAYVIEW|ARREST, BOOKED|MENDELL ST / HUDS...|-122.38640086995301|   37.738983491072|            1.0|             3.0|             1.0|           1.0|(6,[1],[1.0])| (9,[3],[1.0])|(16,[1],[1.0])| (38,[1],[1.0])|[traffic, violation]|[-2.1751832067966...|(34,[0,1,2,4,12,1...|\n",
       "|2015-05-13 21:30:00|  NON-CRIMINAL|      FOUND PROPERTY|Wednesday|TENDERLOIN|          NONE|100 Block of JONE...|  -122.412249767634|   37.782556330202|            1.0|             5.0|             0.0|           2.0|(6,[1],[1.0])| (9,[5],[1.0])|(16,[0],[1.0])| (38,[2],[1.0])|   [found, property]|[3.84028837084770...|(34,[0,1,2,4,14,1...|\n",
       "+-------------------+--------------+--------------------+---------+----------+--------------+--------------------+-------------------+------------------+---------------+----------------+----------------+--------------+-------------+--------------+--------------+---------------+--------------------+--------------------+--------------------+\n",
       "only showing top 20 rows"
      ]
     },
     "execution_count": 63,
     "metadata": {},
     "output_type": "execute_result"
    }
   ],
   "source": [
    "from pyspark.sql import SparkSession\n",
    "from pyspark.ml.feature import StringIndexer, OneHotEncoder, VectorAssembler, HashingTF, IDF, Word2Vec, Tokenizer, MinMaxScaler, Word2VecModel, Word2Vec\n",
    "from pyspark.sql.functions import udf, col, explode, dayofmonth, month, year, radians, sin, cos, lit\n",
    "from pyspark.sql.types import DoubleType, StringType, ArrayType\n",
    "from pyspark.ml import Pipeline\n",
    "from pyspark.ml import Transformer\n",
    "from pyspark.ml.param.shared import HasInputCol, HasOutputCols\n",
    "from pyspark.sql import DataFrame\n",
    "import math\n",
    "from pyspark.ml.linalg import SparseVector\n",
    "\n",
    "\n",
    "cat_features = ['DayOfWeek', 'PdDistrict', 'Resolution', 'Category']\n",
    "num_features = ['X', 'Y']\n",
    "text_features = ['Descript']\n",
    "date_features = ['Dates']\n",
    "\n",
    "df_new = df\n",
    "\n",
    "# convert the string labels to numbers\n",
    "indexers = [StringIndexer(inputCol=column, outputCol=column+\"_index\").fit(df) for column in cat_features]\n",
    "\n",
    "# convert the numbers to one hot vectors\n",
    "encoders = [OneHotEncoder(inputCol=column+\"_index\", outputCol=column+\"_vec\") for column in cat_features]\n",
    "\n",
    "# tokenize the text\n",
    "tokenizers = [Tokenizer(inputCol=column, outputCol=f\"{column}_words\") for column in text_features]\n",
    "\n",
    "# convert the text to vectors using Word2Vec\n",
    "word2Vecs = [Word2Vec(vectorSize=3, minCount=0, inputCol=f\"{column}_words\", outputCol=f\"{column}_vec\") for column in text_features]\n",
    "\n",
    "assembler = VectorAssembler(inputCols=['Descript_vec', 'DayOfWeek_vec', 'PdDistrict_vec', 'Resolution_vec'], outputCol=\"features\")\n",
    "\n",
    "# create a pipeline\n",
    "pipeline = Pipeline(stages=indexers + encoders + tokenizers + word2Vecs + [assembler])\n",
    "\n",
    "# fit the pipeline\n",
    "model = pipeline.fit(df_new)\n",
    "df_new = model.transform(df_new)\n",
    "\n",
    "df_new"
   ]
  },
  {
   "cell_type": "code",
   "execution_count": 65,
   "metadata": {},
   "outputs": [
    {
     "name": "stdout",
     "output_type": "stream",
     "text": [
      "+--------------+\n",
      "|Category_index|\n",
      "+--------------+\n",
      "|           0.0|\n",
      "|           1.0|\n",
      "|           2.0|\n",
      "|           3.0|\n",
      "|           4.0|\n",
      "|           5.0|\n",
      "|           6.0|\n",
      "|           7.0|\n",
      "|           8.0|\n",
      "|           9.0|\n",
      "|          10.0|\n",
      "|          11.0|\n",
      "|          12.0|\n",
      "|          13.0|\n",
      "|          14.0|\n",
      "|          15.0|\n",
      "|          16.0|\n",
      "|          17.0|\n",
      "|          18.0|\n",
      "|          19.0|\n",
      "+--------------+\n",
      "only showing top 20 rows\n",
      "\n"
     ]
    }
   ],
   "source": [
    "# Category_index uniqu\n",
    "df_new.select('Category_index').distinct().sort('Category_index').show()"
   ]
  },
  {
   "cell_type": "code",
   "execution_count": 68,
   "metadata": {},
   "outputs": [
    {
     "data": {
      "text/html": [
       "<table border='1'>\n",
       "<tr><th>Dates</th><th>Category</th><th>Descript</th><th>DayOfWeek</th><th>PdDistrict</th><th>Resolution</th><th>Address</th><th>X</th><th>Y</th><th>DayOfWeek_index</th><th>PdDistrict_index</th><th>Resolution_index</th><th>Category_index</th><th>DayOfWeek_vec</th><th>PdDistrict_vec</th><th>Resolution_vec</th><th>Category_vec</th><th>Descript_words</th><th>Descript_vec</th><th>features</th></tr>\n",
       "<tr><td>2015-05-13 23:53:00</td><td>WARRANTS</td><td>WARRANT ARREST</td><td>Wednesday</td><td>NORTHERN</td><td>ARREST, BOOKED</td><td>OAK ST / LAGUNA ST</td><td>-122.425891675136</td><td>37.7745985956747</td><td>1.0</td><td>2.0</td><td>1.0</td><td>7.0</td><td>(6,[1],[1.0])</td><td>(9,[2],[1.0])</td><td>(16,[1],[1.0])</td><td>(38,[7],[1.0])</td><td>[warrant, arrest]</td><td>[-4.5020973682403...</td><td>(34,[0,1,2,4,11,1...</td></tr>\n",
       "<tr><td>2015-05-13 23:53:00</td><td>OTHER OFFENSES</td><td>TRAFFIC VIOLATION...</td><td>Wednesday</td><td>NORTHERN</td><td>ARREST, BOOKED</td><td>OAK ST / LAGUNA ST</td><td>-122.425891675136</td><td>37.7745985956747</td><td>1.0</td><td>2.0</td><td>1.0</td><td>1.0</td><td>(6,[1],[1.0])</td><td>(9,[2],[1.0])</td><td>(16,[1],[1.0])</td><td>(38,[1],[1.0])</td><td>[traffic, violati...</td><td>[-3.6304053664207...</td><td>(34,[0,1,2,4,11,1...</td></tr>\n",
       "<tr><td>2015-05-13 23:33:00</td><td>OTHER OFFENSES</td><td>TRAFFIC VIOLATION...</td><td>Wednesday</td><td>NORTHERN</td><td>ARREST, BOOKED</td><td>VANNESS AV / GREE...</td><td>-122.42436302145</td><td>37.8004143219856</td><td>1.0</td><td>2.0</td><td>1.0</td><td>1.0</td><td>(6,[1],[1.0])</td><td>(9,[2],[1.0])</td><td>(16,[1],[1.0])</td><td>(38,[1],[1.0])</td><td>[traffic, violati...</td><td>[-3.6304053664207...</td><td>(34,[0,1,2,4,11,1...</td></tr>\n",
       "<tr><td>2015-05-13 23:30:00</td><td>LARCENY/THEFT</td><td>GRAND THEFT FROM ...</td><td>Wednesday</td><td>NORTHERN</td><td>NONE</td><td>1500 Block of LOM...</td><td>-122.42699532676599</td><td>37.80087263276921</td><td>1.0</td><td>2.0</td><td>0.0</td><td>0.0</td><td>(6,[1],[1.0])</td><td>(9,[2],[1.0])</td><td>(16,[0],[1.0])</td><td>(38,[0],[1.0])</td><td>[grand, theft, fr...</td><td>[0.37099074125289...</td><td>(34,[0,1,2,4,11,1...</td></tr>\n",
       "<tr><td>2015-05-13 23:30:00</td><td>LARCENY/THEFT</td><td>GRAND THEFT FROM ...</td><td>Wednesday</td><td>PARK</td><td>NONE</td><td>100 Block of BROD...</td><td>-122.438737622757</td><td>37.771541172057795</td><td>1.0</td><td>8.0</td><td>0.0</td><td>0.0</td><td>(6,[1],[1.0])</td><td>(9,[8],[1.0])</td><td>(16,[0],[1.0])</td><td>(38,[0],[1.0])</td><td>[grand, theft, fr...</td><td>[0.37099074125289...</td><td>(34,[0,1,2,4,17,1...</td></tr>\n",
       "<tr><td>2015-05-13 23:30:00</td><td>LARCENY/THEFT</td><td>GRAND THEFT FROM ...</td><td>Wednesday</td><td>INGLESIDE</td><td>NONE</td><td>0 Block of TEDDY AV</td><td>-122.40325236121201</td><td>37.713430704116</td><td>1.0</td><td>6.0</td><td>0.0</td><td>0.0</td><td>(6,[1],[1.0])</td><td>(9,[6],[1.0])</td><td>(16,[0],[1.0])</td><td>(38,[0],[1.0])</td><td>[grand, theft, fr...</td><td>[0.40975003838539...</td><td>(34,[0,1,2,4,15,1...</td></tr>\n",
       "<tr><td>2015-05-13 23:30:00</td><td>VEHICLE THEFT</td><td>STOLEN AUTOMOBILE</td><td>Wednesday</td><td>INGLESIDE</td><td>NONE</td><td>AVALON AV / PERU AV</td><td>-122.423326976668</td><td>37.7251380403778</td><td>1.0</td><td>6.0</td><td>0.0</td><td>5.0</td><td>(6,[1],[1.0])</td><td>(9,[6],[1.0])</td><td>(16,[0],[1.0])</td><td>(38,[5],[1.0])</td><td>[stolen, automobile]</td><td>[-2.6523309051990...</td><td>(34,[0,1,2,4,15,1...</td></tr>\n",
       "<tr><td>2015-05-13 23:30:00</td><td>VEHICLE THEFT</td><td>STOLEN AUTOMOBILE</td><td>Wednesday</td><td>BAYVIEW</td><td>NONE</td><td>KIRKWOOD AV / DON...</td><td>-122.371274317441</td><td>37.7275640719518</td><td>1.0</td><td>3.0</td><td>0.0</td><td>5.0</td><td>(6,[1],[1.0])</td><td>(9,[3],[1.0])</td><td>(16,[0],[1.0])</td><td>(38,[5],[1.0])</td><td>[stolen, automobile]</td><td>[-2.6523309051990...</td><td>(34,[0,1,2,4,12,1...</td></tr>\n",
       "<tr><td>2015-05-13 23:00:00</td><td>LARCENY/THEFT</td><td>GRAND THEFT FROM ...</td><td>Wednesday</td><td>RICHMOND</td><td>NONE</td><td>600 Block of 47TH AV</td><td>-122.508194031117</td><td>37.776601260681204</td><td>1.0</td><td>9.0</td><td>0.0</td><td>0.0</td><td>(6,[1],[1.0])</td><td>(9,[],[])</td><td>(16,[0],[1.0])</td><td>(38,[0],[1.0])</td><td>[grand, theft, fr...</td><td>[0.37099074125289...</td><td>(34,[0,1,2,4,18],...</td></tr>\n",
       "<tr><td>2015-05-13 23:00:00</td><td>LARCENY/THEFT</td><td>GRAND THEFT FROM ...</td><td>Wednesday</td><td>CENTRAL</td><td>NONE</td><td>JEFFERSON ST / LE...</td><td>-122.419087676747</td><td>37.8078015516515</td><td>1.0</td><td>4.0</td><td>0.0</td><td>0.0</td><td>(6,[1],[1.0])</td><td>(9,[4],[1.0])</td><td>(16,[0],[1.0])</td><td>(38,[0],[1.0])</td><td>[grand, theft, fr...</td><td>[0.37099074125289...</td><td>(34,[0,1,2,4,13,1...</td></tr>\n",
       "<tr><td>2015-05-13 22:58:00</td><td>LARCENY/THEFT</td><td>PETTY THEFT FROM ...</td><td>Wednesday</td><td>CENTRAL</td><td>NONE</td><td>JEFFERSON ST / LE...</td><td>-122.419087676747</td><td>37.8078015516515</td><td>1.0</td><td>4.0</td><td>0.0</td><td>0.0</td><td>(6,[1],[1.0])</td><td>(9,[4],[1.0])</td><td>(16,[0],[1.0])</td><td>(38,[0],[1.0])</td><td>[petty, theft, fr...</td><td>[0.43658286333084...</td><td>(34,[0,1,2,4,13,1...</td></tr>\n",
       "<tr><td>2015-05-13 22:30:00</td><td>OTHER OFFENSES</td><td>MISCELLANEOUS INV...</td><td>Wednesday</td><td>TARAVAL</td><td>NONE</td><td>0 Block of ESCOLT...</td><td>-122.487983072777</td><td>37.737666654332706</td><td>1.0</td><td>7.0</td><td>0.0</td><td>1.0</td><td>(6,[1],[1.0])</td><td>(9,[7],[1.0])</td><td>(16,[0],[1.0])</td><td>(38,[1],[1.0])</td><td>[miscellaneous, i...</td><td>[-7.4895570278167...</td><td>(34,[0,1,2,4,16,1...</td></tr>\n",
       "<tr><td>2015-05-13 22:30:00</td><td>VANDALISM</td><td>MALICIOUS MISCHIE...</td><td>Wednesday</td><td>TENDERLOIN</td><td>NONE</td><td>TURK ST / JONES ST</td><td>-122.41241426358101</td><td>37.7830037964534</td><td>1.0</td><td>5.0</td><td>0.0</td><td>6.0</td><td>(6,[1],[1.0])</td><td>(9,[5],[1.0])</td><td>(16,[0],[1.0])</td><td>(38,[6],[1.0])</td><td>[malicious, misch...</td><td>[-2.1811247110366...</td><td>(34,[0,1,2,4,14,1...</td></tr>\n",
       "<tr><td>2015-05-13 22:06:00</td><td>LARCENY/THEFT</td><td>GRAND THEFT FROM ...</td><td>Wednesday</td><td>NORTHERN</td><td>NONE</td><td>FILLMORE ST / GEA...</td><td>-122.432914603494</td><td>37.7843533426568</td><td>1.0</td><td>2.0</td><td>0.0</td><td>0.0</td><td>(6,[1],[1.0])</td><td>(9,[2],[1.0])</td><td>(16,[0],[1.0])</td><td>(38,[0],[1.0])</td><td>[grand, theft, fr...</td><td>[0.37099074125289...</td><td>(34,[0,1,2,4,11,1...</td></tr>\n",
       "<tr><td>2015-05-13 22:00:00</td><td>NON-CRIMINAL</td><td>FOUND PROPERTY</td><td>Wednesday</td><td>BAYVIEW</td><td>NONE</td><td>200 Block of WILL...</td><td>-122.397744427103</td><td>37.7299346936044</td><td>1.0</td><td>3.0</td><td>0.0</td><td>2.0</td><td>(6,[1],[1.0])</td><td>(9,[3],[1.0])</td><td>(16,[0],[1.0])</td><td>(38,[2],[1.0])</td><td>[found, property]</td><td>[3.84028837084770...</td><td>(34,[0,1,2,4,12,1...</td></tr>\n",
       "<tr><td>2015-05-13 22:00:00</td><td>NON-CRIMINAL</td><td>FOUND PROPERTY</td><td>Wednesday</td><td>BAYVIEW</td><td>NONE</td><td>0 Block of MENDEL...</td><td>-122.38369150395901</td><td>37.7431890419965</td><td>1.0</td><td>3.0</td><td>0.0</td><td>2.0</td><td>(6,[1],[1.0])</td><td>(9,[3],[1.0])</td><td>(16,[0],[1.0])</td><td>(38,[2],[1.0])</td><td>[found, property]</td><td>[3.84028837084770...</td><td>(34,[0,1,2,4,12,1...</td></tr>\n",
       "<tr><td>2015-05-13 22:00:00</td><td>ROBBERY</td><td>ROBBERY, ARMED WI...</td><td>Wednesday</td><td>TENDERLOIN</td><td>NONE</td><td>EDDY ST / JONES ST</td><td>-122.412597377187</td><td>37.783932027727296</td><td>1.0</td><td>5.0</td><td>0.0</td><td>11.0</td><td>(6,[1],[1.0])</td><td>(9,[5],[1.0])</td><td>(16,[0],[1.0])</td><td>(38,[11],[1.0])</td><td>[robbery,, armed,...</td><td>[0.59463666081428...</td><td>(34,[0,1,2,4,14,1...</td></tr>\n",
       "<tr><td>2015-05-13 21:55:00</td><td>ASSAULT</td><td>AGGRAVATED ASSAUL...</td><td>Wednesday</td><td>INGLESIDE</td><td>NONE</td><td>GODEUS ST / MISSI...</td><td>-122.421681531572</td><td>37.7428222004845</td><td>1.0</td><td>6.0</td><td>0.0</td><td>3.0</td><td>(6,[1],[1.0])</td><td>(9,[6],[1.0])</td><td>(16,[0],[1.0])</td><td>(38,[3],[1.0])</td><td>[aggravated, assa...</td><td>[0.91652520895004...</td><td>(34,[0,1,2,4,15,1...</td></tr>\n",
       "<tr><td>2015-05-13 21:40:00</td><td>OTHER OFFENSES</td><td>TRAFFIC VIOLATION</td><td>Wednesday</td><td>BAYVIEW</td><td>ARREST, BOOKED</td><td>MENDELL ST / HUDS...</td><td>-122.38640086995301</td><td>37.738983491072</td><td>1.0</td><td>3.0</td><td>1.0</td><td>1.0</td><td>(6,[1],[1.0])</td><td>(9,[3],[1.0])</td><td>(16,[1],[1.0])</td><td>(38,[1],[1.0])</td><td>[traffic, violation]</td><td>[-2.1751832067966...</td><td>(34,[0,1,2,4,12,1...</td></tr>\n",
       "<tr><td>2015-05-13 21:30:00</td><td>NON-CRIMINAL</td><td>FOUND PROPERTY</td><td>Wednesday</td><td>TENDERLOIN</td><td>NONE</td><td>100 Block of JONE...</td><td>-122.412249767634</td><td>37.782556330202</td><td>1.0</td><td>5.0</td><td>0.0</td><td>2.0</td><td>(6,[1],[1.0])</td><td>(9,[5],[1.0])</td><td>(16,[0],[1.0])</td><td>(38,[2],[1.0])</td><td>[found, property]</td><td>[3.84028837084770...</td><td>(34,[0,1,2,4,14,1...</td></tr>\n",
       "</table>\n",
       "only showing top 20 rows\n"
      ],
      "text/plain": [
       "DataFrame[Dates: timestamp, Category: string, Descript: string, DayOfWeek: string, PdDistrict: string, Resolution: string, Address: string, X: string, Y: string, DayOfWeek_index: double, PdDistrict_index: double, Resolution_index: double, Category_index: double, DayOfWeek_vec: vector, PdDistrict_vec: vector, Resolution_vec: vector, Category_vec: vector, Descript_words: array<string>, Descript_vec: vector, features: vector]"
      ]
     },
     "execution_count": 68,
     "metadata": {},
     "output_type": "execute_result"
    }
   ],
   "source": [
    "df_new"
   ]
  },
  {
   "cell_type": "code",
   "execution_count": 66,
   "metadata": {},
   "outputs": [
    {
     "name": "stderr",
     "output_type": "stream",
     "text": [
      "                                                                                \r"
     ]
    }
   ],
   "source": [
    "# classify using Random Forest\n",
    "from pyspark.ml.classification import RandomForestClassifier\n",
    "\n",
    "# split the data into train and test\n",
    "train_data, test_data = df_new.randomSplit([0.7, 0.3], seed=42)\n",
    "\n",
    "# create the model\n",
    "rf = RandomForestClassifier(labelCol=\"Category_index\", featuresCol=\"features\", numTrees=10)\n",
    "\n",
    "# fit the model\n",
    "rf_model = rf.fit(train_data)"
   ]
  },
  {
   "cell_type": "code",
   "execution_count": 69,
   "metadata": {},
   "outputs": [],
   "source": [
    "predictions = rf_model.transform(test_data)"
   ]
  },
  {
   "cell_type": "code",
   "execution_count": 71,
   "metadata": {},
   "outputs": [
    {
     "name": "stderr",
     "output_type": "stream",
     "text": [
      "[Stage 321:>                                                        (0 + 1) / 1]\r"
     ]
    },
    {
     "name": "stdout",
     "output_type": "stream",
     "text": [
      "+--------------------+-------------+--------------+----------+\n",
      "|            Descript|     Category|Category_index|prediction|\n",
      "+--------------------+-------------+--------------+----------+\n",
      "|   STOLEN AUTOMOBILE|VEHICLE THEFT|           5.0|       5.0|\n",
      "|AIDED CASE, MENTA...| NON-CRIMINAL|           2.0|       2.0|\n",
      "|MALICIOUS MISCHIE...|    VANDALISM|           6.0|       6.0|\n",
      "|FRAUDULENT USE OF...|        FRAUD|          12.0|       3.0|\n",
      "|GRAND THEFT FROM ...|LARCENY/THEFT|           0.0|       0.0|\n",
      "+--------------------+-------------+--------------+----------+\n",
      "only showing top 5 rows\n",
      "\n"
     ]
    },
    {
     "name": "stderr",
     "output_type": "stream",
     "text": [
      "                                                                                \r"
     ]
    }
   ],
   "source": [
    "predictions.select(['Descript', 'Category', 'Category_index', 'prediction']).show(5)"
   ]
  },
  {
   "cell_type": "code",
   "execution_count": 74,
   "metadata": {},
   "outputs": [
    {
     "name": "stderr",
     "output_type": "stream",
     "text": [
      "[Stage 324:================>                                       (3 + 7) / 10]\r"
     ]
    },
    {
     "name": "stdout",
     "output_type": "stream",
     "text": [
      "Accuracy = 0.699542\n"
     ]
    },
    {
     "name": "stderr",
     "output_type": "stream",
     "text": [
      "                                                                                \r"
     ]
    }
   ],
   "source": [
    "# get the prediction accuracy\n",
    "from pyspark.ml.evaluation import MulticlassClassificationEvaluator\n",
    "\n",
    "evaluator = MulticlassClassificationEvaluator(labelCol=\"Category_index\", predictionCol=\"prediction\", metricName=\"accuracy\")\n",
    "accuracy = evaluator.evaluate(predictions)\n",
    "print(\"Accuracy = %g\" % accuracy)"
   ]
  },
  {
   "cell_type": "code",
   "execution_count": 73,
   "metadata": {},
   "outputs": [
    {
     "name": "stderr",
     "output_type": "stream",
     "text": [
      "[Stage 322:=====>                                                  (1 + 9) / 10]\r"
     ]
    },
    {
     "name": "stdout",
     "output_type": "stream",
     "text": [
      "RMSE: 5.688265282441608\n"
     ]
    },
    {
     "name": "stderr",
     "output_type": "stream",
     "text": [
      "                                                                                \r"
     ]
    }
   ],
   "source": [
    "from pyspark.ml.evaluation import RegressionEvaluator\n",
    "\n",
    "evaluator = RegressionEvaluator(predictionCol=\"prediction\", labelCol=\"Category_index\", metricName=\"rmse\")\n",
    "rmse = evaluator.evaluate(predictions)\n",
    "print(f\"RMSE: {rmse}\")"
   ]
  },
  {
   "cell_type": "code",
   "execution_count": 75,
   "metadata": {},
   "outputs": [
    {
     "name": "stderr",
     "output_type": "stream",
     "text": [
      "[Stage 326:=====>                                                  (1 + 9) / 10]\r"
     ]
    },
    {
     "name": "stdout",
     "output_type": "stream",
     "text": [
      "F1 score: 0.6453957626853973\n"
     ]
    },
    {
     "name": "stderr",
     "output_type": "stream",
     "text": [
      "                                                                                \r"
     ]
    }
   ],
   "source": [
    "# evaluate using F1 score\n",
    "from pyspark.ml.evaluation import MulticlassClassificationEvaluator\n",
    "\n",
    "evaluator = MulticlassClassificationEvaluator(labelCol=\"Category_index\", predictionCol=\"prediction\", metricName=\"f1\")\n",
    "f1_score = evaluator.evaluate(predictions)\n",
    "print(f\"F1 score: {f1_score}\")"
   ]
  },
  {
   "cell_type": "code",
   "execution_count": null,
   "metadata": {},
   "outputs": [],
   "source": []
  }
 ],
 "metadata": {
  "kernelspec": {
   "display_name": "Python 3.8.9 64-bit",
   "language": "python",
   "name": "python3"
  },
  "language_info": {
   "codemirror_mode": {
    "name": "ipython",
    "version": 3
   },
   "file_extension": ".py",
   "mimetype": "text/x-python",
   "name": "python",
   "nbconvert_exporter": "python",
   "pygments_lexer": "ipython3",
   "version": "3.8.9"
  },
  "orig_nbformat": 4,
  "vscode": {
   "interpreter": {
    "hash": "31f2aee4e71d21fbe5cf8b01ff0e069b9275f58929596ceb00d14d90e3e16cd6"
   }
  }
 },
 "nbformat": 4,
 "nbformat_minor": 2
}
